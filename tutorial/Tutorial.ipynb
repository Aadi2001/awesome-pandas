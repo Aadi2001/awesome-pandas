{
 "cells": [
  {
   "cell_type": "markdown",
   "metadata": {
    "raw_mimetype": "-"
   },
   "source": [
    "# Python for Data Analysis using Pandas\n",
    "\n",
    "> The latest version of notebook is always found at [github.com/tommyod/awesome-pandas](https://github.com/tommyod/awesome-pandas).   \n",
    "  Improvements, corrections or suggestions? **Please submit a [Pull Request](https://github.com/tommyod/awesome-pandas/pulls).**\n",
    "  \n",
    "  ![](pandas_vs_excel_vs_sas.png)"
   ]
  },
  {
   "cell_type": "markdown",
   "metadata": {},
   "source": [
    "# Table of contents\n",
    "\n",
    "- (1) Setup\n",
    "  - (1.1) Installing Python and packages\n",
    "  - (1.2) Importing packages\n",
    "- (2) Importing data\n",
    "  - (2.1) Importing .csv files\n",
    "  - (2.2) Other ways of creating DataFrames\n",
    "  - (2.3) Changing names and data types\n",
    "- (3) Summarizing data\n",
    "  - (3.1) Peeking at the data\n",
    "  - (3.2) Null values and summary statistics\n",
    "  - (3.3) Unique values, value counts and sorting\n",
    "  - (3.4) Basic visualizations\n",
    "- (4) Selecting and computing new columns\n",
    "  - (4.1) Accessing rows, columns and data\n",
    "  - (4.2) Selecting subsets of columns\n",
    "  - (4.3) Selecting subsets of rows\n",
    "  - (4.4) Selecting subsets of rows *and* columns\n",
    "  - (4.5) Creating new columns\n",
    "  - (4.6) Applying functions\n",
    "- (5) Filtering and sorting\n",
    "  - (5.1) Equality, non-equality and logical operators\n",
    "  - (5.2) Group membership and string filtering\n",
    "- (6) Split-apply-combine and pivots\n",
    "  - (6.1) The groupby operation\n",
    "  - (6.2) Several groups and aggregations\n",
    "  - (6.3) Unstacking and stacking\n",
    "  - (6.4) Pivoting and melting\n",
    "  - (6.4) Merging\n",
    "- (7) Plotting\n",
    "  - (7.1) Built-in `plot()` methods\n",
    "  - (7.2) Using matplotlib\n",
    "- (8) Time series manipulations\n",
    "  - (8.1) `.dt` accessor\n",
    "  - (8.2) Rolling window functions\n",
    "  - (8.3) Resampling\n",
    "- (9) Modeling and Machine Learning\n",
    "  - (9.1) Dummy variables for categorical data\n",
    "  - (9.2) Training a model\n",
    "- (10) Misc tips and tricks\n",
    "  - (10.1) Performance\n",
    "- (11) Problems and answers"
   ]
  },
  {
   "cell_type": "markdown",
   "metadata": {},
   "source": [
    "---------------------------------"
   ]
  },
  {
   "cell_type": "markdown",
   "metadata": {},
   "source": [
    "# (1) Setup"
   ]
  },
  {
   "cell_type": "markdown",
   "metadata": {},
   "source": [
    "## (1.1) Installing Python and packages"
   ]
  },
  {
   "cell_type": "markdown",
   "metadata": {},
   "source": [
    "### Python and Anaconda\n",
    "\n",
    "If you haven't done it yet, you need to install Python.\n",
    "I recommend the [Anaconda Distribution](https://www.anaconda.com/download/), and you should install version `3.X`.\n",
    "- If you're on Windows, you will get a program called *Anaconda Prompt*. Open in and run `conda --version` to verify that everything works.\n",
    "- If you're on Linux, open a terminal and run `conda --version`.\n",
    "\n",
    "Type `conda list` to see every installed package, and `conda update --all` to update every package. Type `python` to open an interactive Python terminal, and `exit()` to leave.\n",
    "\n",
    "### NumPy, matplotlib and Pandas\n",
    "\n",
    "![](https://indranilsinharoy.files.wordpress.com/2013/01/scientificpythonecosystemsi.png?w=584&h=442)\n",
    "\n",
    "*Image source: https://indranilsinharoy.com/2013/01/06/python-for-scientific-computing-a-collection-of-resources/*\n",
    "\n",
    "To install indiviual packages, run `conda install <package>`.   \n",
    "The Anaconda distribution comes with 3 packages which this tutorial requires, namely [pandas](https://pandas.pydata.org/), [NumPy](http://www.numpy.org/) and [matplotlib](https://matplotlib.org/).\n",
    "We'll also briefly use [sklearn](https://scikit-learn.org/stable/).\n",
    "\n",
    "- **NumPy** implements $n$-dimensional arrays in Python for efficient numerical computations. See the [arXiv](https://arxiv.org/pdf/1102.1523.pdf) paper for a nice introduction. To learn basic NumPy, consider doing these [100 NumPy exercises](https://github.com/rougier/numpy-100). For an in-depth look at NumPy and vectorization to speed up scientific computing, see [From Python to Numpy\n",
    "](https://www.labri.fr/perso/nrougier/from-python-to-numpy/).\n",
    "- **Matplotlib** is the most popular library for plotting in Python. See the beautiful [gallery](https://matplotlib.org/gallery.html) to get an overview of the capabilities of matplotlib. Read the [Matplotlib tutorial](http://www.labri.fr/perso/nrougier/teaching/matplotlib/matplotlib.html) by Nicolas P. Rougier for an introduction.\n",
    "- **Pandas** is a library for data analysis based on two objects, the [Series](https://pandas.pydata.org/pandas-docs/stable/generated/pandas.Series.html) and the [DataFrame](https://pandas.pydata.org/pandas-docs/stable/generated/pandas.DataFrame.html).\n",
    "\n",
    "### Jupyter\n",
    "\n",
    "A [Jupyter Notebook](https://jupyter-notebook.readthedocs.io/en/stable/) is an environment for running Python code interactively, displaying graphs and working with data. Think of it as a tool with capabilities somwhere between a simple terminal and a full fledged IDE. Move to a directory using the `cd` command in the terminal, then run `jupyter notebook` to start up a notebook. A video introduction to JupyterLab is [JupyterLab: Building Blocks for Interactive Computing](https://www.youtube.com/watch?v=Ejh0ftSjk6g)."
   ]
  },
  {
   "cell_type": "markdown",
   "metadata": {},
   "source": [
    "## (1.2) Importing packages"
   ]
  },
  {
   "cell_type": "code",
   "execution_count": 1,
   "metadata": {},
   "outputs": [],
   "source": [
    "import pandas as pd\n",
    "import numpy as np\n",
    "import matplotlib\n",
    "import KDEpy\n",
    "import sklearn\n",
    "import matplotlib.pyplot as plt\n",
    "%matplotlib inline"
   ]
  },
  {
   "cell_type": "markdown",
   "metadata": {},
   "source": [
    "### Package versions\n",
    "\n",
    "To make this Jupyter Notebook reproducible, we list versions of the libraries we will be using."
   ]
  },
  {
   "cell_type": "code",
   "execution_count": 2,
   "metadata": {},
   "outputs": [
    {
     "name": "stdout",
     "output_type": "stream",
     "text": [
      "Today is 2018-12-20 08:25:03.511542\n",
      "----------------------------------------------------------------\n",
      "pandas       version 0.23.4\n",
      "numpy        version 1.15.0\n",
      "matplotlib   version 2.2.2\n",
      "KDEpy        version 0.5.6\n",
      "sklearn      version 0.19.1\n"
     ]
    }
   ],
   "source": [
    "import datetime\n",
    "\n",
    "print('Today is', datetime.datetime.utcnow())\n",
    "print('-'*2**6)\n",
    "\n",
    "for lib in [pd, np, matplotlib, KDEpy, sklearn]:\n",
    "    print(f'{lib.__name__.ljust(12)} version {lib.__version__}')"
   ]
  },
  {
   "cell_type": "markdown",
   "metadata": {},
   "source": [
    "### Using Jupyter Notebooks\n",
    "\n",
    "- Useful shortcuts: `SHIFT + TAB`, `SHIFT + ENTER`, `ESC`, `ENTER`, `E`, `A`, `D,D`, `I, I`. Type `H` to see all shortcuts.\n",
    "- Executing terminal commands from within the notebook using `!`.\n",
    "- Using markdown and $\\LaTeX{}$.\n",
    "- Timing cells using `%%timeit` and other built-in magic commands.\n",
    "- Pitfalls when using notebooks: state, order of execution, tidyness."
   ]
  },
  {
   "cell_type": "markdown",
   "metadata": {},
   "source": [
    "# (2) Importing data\n",
    "\n",
    "Starting a cell with a `!` let's us use terminal commands. The UNIX `head` command shows the first rows of the file."
   ]
  },
  {
   "cell_type": "markdown",
   "metadata": {},
   "source": [
    "## (2.1) Importing `.csv` files"
   ]
  },
  {
   "cell_type": "code",
   "execution_count": 3,
   "metadata": {},
   "outputs": [
    {
     "name": "stdout",
     "output_type": "stream",
     "text": [
      "Too many parameters - -L\n"
     ]
    }
   ],
   "source": [
    "!tree . -L 2"
   ]
  },
  {
   "cell_type": "markdown",
   "metadata": {},
   "source": [
    "> **Interested in learning UNIX commands?** The book [The Linux Command Line](https://www.amazon.com/Linux-Command-Line-Complete-Introduction-ebook/dp/B006X2QEQS) gives a detailed introduction, and [Data Science at the Command Line](https://www.amazon.com/Data-Science-Command-Line-Time-Tested/dp/1491947853) shows how basic data manipulation may be done using the command line only."
   ]
  },
  {
   "cell_type": "code",
   "execution_count": 4,
   "metadata": {},
   "outputs": [
    {
     "name": "stdout",
     "output_type": "stream",
     "text": [
      "color,director_name,num_critic_for_reviews,duration,director_facebook_likes,actor_3_facebook_likes,actor_2_name,actor_1_facebook_likes,gross,genres,actor_1_name,movie_title,num_voted_users,cast_total_facebook_likes,actor_3_name,facenumber_in_poster,plot_keywords,movie_imdb_link,num_user_for_reviews,language,country,content_rating,budget,title_year,actor_2_facebook_likes,imdb_score,aspect_ratio,movie_facebook_likes\n",
      "Color,James Cameron,723,178,0,855,Joel David Moore,1000,760505847,Action|Adventure|Fantasy|Sci-Fi,CCH Pounder,AvatarÂ ,886204,4834,Wes Studi,0,avatar|future|marine|native|paraplegic,http://www.imdb.com/title/tt0499549/?ref_=fn_tt_tt_1,3054,English,USA,PG-13,237000000,2009,936,7.9,1.78,33000\n"
     ]
    }
   ],
   "source": [
    "!head data/movie_metadata.csv -n 2"
   ]
  },
  {
   "cell_type": "markdown",
   "metadata": {},
   "source": [
    "The file has many columns, so we'll only load a couple into a pandas DataFrame.\n",
    "To familiarize ourselves with with [magic commands](http://ipython.readthedocs.io/en/stable/interactive/magics.html), we'll use `%%time` to time the execution of the cell below."
   ]
  },
  {
   "cell_type": "code",
   "execution_count": 5,
   "metadata": {},
   "outputs": [
    {
     "name": "stdout",
     "output_type": "stream",
     "text": [
      "Loaded data of size (5043, 6) into memory.\n",
      "Wall time: 72.8 ms\n"
     ]
    }
   ],
   "source": [
    "%%time\n",
    "\n",
    "cols_to_use = ['movie_title', 'director_name', 'country', 'content_rating', 'imdb_score', 'gross']\n",
    "df = pd.read_csv(r'data/movie_metadata.csv', sep=',', usecols=cols_to_use)\n",
    "print(f'Loaded data of size {df.shape} into memory.')"
   ]
  },
  {
   "cell_type": "code",
   "execution_count": 6,
   "metadata": {},
   "outputs": [
    {
     "data": {
      "text/html": [
       "<div>\n",
       "<style scoped>\n",
       "    .dataframe tbody tr th:only-of-type {\n",
       "        vertical-align: middle;\n",
       "    }\n",
       "\n",
       "    .dataframe tbody tr th {\n",
       "        vertical-align: top;\n",
       "    }\n",
       "\n",
       "    .dataframe thead th {\n",
       "        text-align: right;\n",
       "    }\n",
       "</style>\n",
       "<table border=\"1\" class=\"dataframe\">\n",
       "  <thead>\n",
       "    <tr style=\"text-align: right;\">\n",
       "      <th></th>\n",
       "      <th>director_name</th>\n",
       "      <th>gross</th>\n",
       "      <th>movie_title</th>\n",
       "      <th>country</th>\n",
       "      <th>content_rating</th>\n",
       "      <th>imdb_score</th>\n",
       "    </tr>\n",
       "  </thead>\n",
       "  <tbody>\n",
       "    <tr>\n",
       "      <th>0</th>\n",
       "      <td>James Cameron</td>\n",
       "      <td>760505847.0</td>\n",
       "      <td>Avatar</td>\n",
       "      <td>USA</td>\n",
       "      <td>PG-13</td>\n",
       "      <td>7.9</td>\n",
       "    </tr>\n",
       "    <tr>\n",
       "      <th>1</th>\n",
       "      <td>Gore Verbinski</td>\n",
       "      <td>309404152.0</td>\n",
       "      <td>Pirates of the Caribbean: At World's End</td>\n",
       "      <td>USA</td>\n",
       "      <td>PG-13</td>\n",
       "      <td>7.1</td>\n",
       "    </tr>\n",
       "  </tbody>\n",
       "</table>\n",
       "</div>"
      ],
      "text/plain": [
       "    director_name        gross                                movie_title  \\\n",
       "0   James Cameron  760505847.0                                    Avatar    \n",
       "1  Gore Verbinski  309404152.0  Pirates of the Caribbean: At World's End    \n",
       "\n",
       "  country content_rating  imdb_score  \n",
       "0     USA          PG-13         7.9  \n",
       "1     USA          PG-13         7.1  "
      ]
     },
     "execution_count": 6,
     "metadata": {},
     "output_type": "execute_result"
    }
   ],
   "source": [
    "df.head(2)  # Show the top 2 rows"
   ]
  },
  {
   "cell_type": "markdown",
   "metadata": {},
   "source": [
    "The `df.shape` attribute gives the rows and columns of the DataFrame."
   ]
  },
  {
   "cell_type": "code",
   "execution_count": 7,
   "metadata": {},
   "outputs": [
    {
     "data": {
      "text/plain": [
       "(5043, 6)"
      ]
     },
     "execution_count": 7,
     "metadata": {},
     "output_type": "execute_result"
    }
   ],
   "source": [
    "df.shape  # Alternatively, use len(df) for row count"
   ]
  },
  {
   "cell_type": "markdown",
   "metadata": {},
   "source": [
    "## (2.2) Other ways of creating DataFrames\n",
    "\n",
    "**The DataFrame**\n",
    "\n",
    "> Two-dimensional size-mutable, potentially heterogeneous tabular data\n",
    "structure with **labeled axes** (rows and columns). Arithmetic operations\n",
    "align on both row and column labels. Can be thought of as a **dict-like\n",
    "container for Series objects**. The primary pandas data structure.\n",
    "\n",
    "**Creating a DataFrame from scratch**"
   ]
  },
  {
   "cell_type": "code",
   "execution_count": 8,
   "metadata": {},
   "outputs": [
    {
     "data": {
      "text/html": [
       "<div>\n",
       "<style scoped>\n",
       "    .dataframe tbody tr th:only-of-type {\n",
       "        vertical-align: middle;\n",
       "    }\n",
       "\n",
       "    .dataframe tbody tr th {\n",
       "        vertical-align: top;\n",
       "    }\n",
       "\n",
       "    .dataframe thead th {\n",
       "        text-align: right;\n",
       "    }\n",
       "</style>\n",
       "<table border=\"1\" class=\"dataframe\">\n",
       "  <thead>\n",
       "    <tr style=\"text-align: right;\">\n",
       "      <th></th>\n",
       "      <th>name</th>\n",
       "      <th>age</th>\n",
       "    </tr>\n",
       "  </thead>\n",
       "  <tbody>\n",
       "    <tr>\n",
       "      <th>0</th>\n",
       "      <td>Max</td>\n",
       "      <td>31</td>\n",
       "    </tr>\n",
       "    <tr>\n",
       "      <th>1</th>\n",
       "      <td>Mark</td>\n",
       "      <td>25</td>\n",
       "    </tr>\n",
       "    <tr>\n",
       "      <th>2</th>\n",
       "      <td>Mia</td>\n",
       "      <td>38</td>\n",
       "    </tr>\n",
       "  </tbody>\n",
       "</table>\n",
       "</div>"
      ],
      "text/plain": [
       "   name  age\n",
       "0   Max   31\n",
       "1  Mark   25\n",
       "2   Mia   38"
      ]
     },
     "execution_count": 8,
     "metadata": {},
     "output_type": "execute_result"
    }
   ],
   "source": [
    "pd.DataFrame({'name':['Max', 'Mark', 'Mia'], 'age':[31, 25, 38]})"
   ]
  },
  {
   "cell_type": "markdown",
   "metadata": {},
   "source": [
    "**Reading a HTML table from the web**"
   ]
  },
  {
   "cell_type": "code",
   "execution_count": 9,
   "metadata": {},
   "outputs": [
    {
     "data": {
      "text/html": [
       "<div>\n",
       "<style scoped>\n",
       "    .dataframe tbody tr th:only-of-type {\n",
       "        vertical-align: middle;\n",
       "    }\n",
       "\n",
       "    .dataframe tbody tr th {\n",
       "        vertical-align: top;\n",
       "    }\n",
       "\n",
       "    .dataframe thead th {\n",
       "        text-align: right;\n",
       "    }\n",
       "</style>\n",
       "<table border=\"1\" class=\"dataframe\">\n",
       "  <thead>\n",
       "    <tr style=\"text-align: right;\">\n",
       "      <th></th>\n",
       "      <th>World ranking</th>\n",
       "      <th>Name</th>\n",
       "      <th>Citizenship</th>\n",
       "      <th>Net worth (USD)</th>\n",
       "      <th>Sources of wealth</th>\n",
       "    </tr>\n",
       "  </thead>\n",
       "  <tbody>\n",
       "    <tr>\n",
       "      <th>0</th>\n",
       "      <td>21</td>\n",
       "      <td>Georg Schaeffler</td>\n",
       "      <td>Germany</td>\n",
       "      <td>26.9 billion</td>\n",
       "      <td>Schaeffler Group</td>\n",
       "    </tr>\n",
       "    <tr>\n",
       "      <th>1</th>\n",
       "      <td>37</td>\n",
       "      <td>Beate Heister (b. Albrecht) &amp; Karl Albrecht Jr.</td>\n",
       "      <td>Germany</td>\n",
       "      <td>21.3 billion</td>\n",
       "      <td>Aldi Süd</td>\n",
       "    </tr>\n",
       "    <tr>\n",
       "      <th>2</th>\n",
       "      <td>46</td>\n",
       "      <td>Dieter Schwarz</td>\n",
       "      <td>Germany</td>\n",
       "      <td>19.4 billion</td>\n",
       "      <td>Schwarz Gruppe</td>\n",
       "    </tr>\n",
       "    <tr>\n",
       "      <th>3</th>\n",
       "      <td>49</td>\n",
       "      <td>Theo Albrecht Jr.</td>\n",
       "      <td>Germany</td>\n",
       "      <td>19 billion</td>\n",
       "      <td>Aldi Nord and Trader Joe's</td>\n",
       "    </tr>\n",
       "    <tr>\n",
       "      <th>4</th>\n",
       "      <td>50</td>\n",
       "      <td>Michael Otto</td>\n",
       "      <td>Germany</td>\n",
       "      <td>18.1 billion</td>\n",
       "      <td>Otto Group</td>\n",
       "    </tr>\n",
       "  </tbody>\n",
       "</table>\n",
       "</div>"
      ],
      "text/plain": [
       "   World ranking                                             Name Citizenship  \\\n",
       "0             21                                 Georg Schaeffler     Germany   \n",
       "1             37  Beate Heister (b. Albrecht) & Karl Albrecht Jr.     Germany   \n",
       "2             46                                   Dieter Schwarz     Germany   \n",
       "3             49                                Theo Albrecht Jr.     Germany   \n",
       "4             50                                     Michael Otto     Germany   \n",
       "\n",
       "  Net worth (USD)           Sources of wealth  \n",
       "0    26.9 billion            Schaeffler Group  \n",
       "1    21.3 billion                    Aldi Süd  \n",
       "2    19.4 billion              Schwarz Gruppe  \n",
       "3      19 billion  Aldi Nord and Trader Joe's  \n",
       "4    18.1 billion                  Otto Group  "
      ]
     },
     "execution_count": 9,
     "metadata": {},
     "output_type": "execute_result"
    }
   ],
   "source": [
    "# Read HTML tables into a list of DataFrame objects.\n",
    "url = r'https://en.wikipedia.org/wiki/List_of_Germans_by_net_worth'\n",
    "tables = pd.read_html(url, header=0)\n",
    "\n",
    "df_net_worth = tables[0]\n",
    "\n",
    "# Asserts can be useful for sanity checks\n",
    "assert len(df_net_worth) > 0 \n",
    "assert df_net_worth.Name.is_unique\n",
    "\n",
    "\n",
    "df_net_worth.head()"
   ]
  },
  {
   "cell_type": "markdown",
   "metadata": {},
   "source": [
    "**Reading from databases is also possible.**\n",
    "\n",
    "Reading from Microsoft SQL using `pyodbc` and `pd.read_sql(sql_code, connection)`."
   ]
  },
  {
   "cell_type": "markdown",
   "metadata": {},
   "source": [
    "---------\n",
    "\n",
    "> **Gotcha.** Methods on DataFrames return a new instance by default. In other words, they behave like methods on *immutable* Python object, and not like methods on *mutable* objects."
   ]
  },
  {
   "cell_type": "code",
   "execution_count": 10,
   "metadata": {},
   "outputs": [
    {
     "name": "stdout",
     "output_type": "stream",
     "text": [
      "[1, 2, 4, 6, 9]\n",
      "Tommy\n"
     ]
    }
   ],
   "source": [
    "# Lists are MUTABLE\n",
    "scores = [6, 2, 4, 9, 1]\n",
    "scores.sort()  # Changes the object in-place, returns None\n",
    "print(scores)\n",
    "\n",
    "# Strings are IMMUTABLE\n",
    "my_name = 'tommy'\n",
    "my_name = my_name.capitalize()  # A new instance is returned\n",
    "print(my_name)"
   ]
  },
  {
   "cell_type": "markdown",
   "metadata": {},
   "source": [
    "## (2.3) Changing names and data types"
   ]
  },
  {
   "cell_type": "code",
   "execution_count": 11,
   "metadata": {},
   "outputs": [
    {
     "data": {
      "text/html": [
       "<div>\n",
       "<style scoped>\n",
       "    .dataframe tbody tr th:only-of-type {\n",
       "        vertical-align: middle;\n",
       "    }\n",
       "\n",
       "    .dataframe tbody tr th {\n",
       "        vertical-align: top;\n",
       "    }\n",
       "\n",
       "    .dataframe thead th {\n",
       "        text-align: right;\n",
       "    }\n",
       "</style>\n",
       "<table border=\"1\" class=\"dataframe\">\n",
       "  <thead>\n",
       "    <tr style=\"text-align: right;\">\n",
       "      <th></th>\n",
       "      <th>Director_name</th>\n",
       "      <th>Gross</th>\n",
       "      <th>Movie_title</th>\n",
       "      <th>Country</th>\n",
       "      <th>Content_rating</th>\n",
       "      <th>Imdb_score</th>\n",
       "    </tr>\n",
       "  </thead>\n",
       "  <tbody>\n",
       "    <tr>\n",
       "      <th>0</th>\n",
       "      <td>James Cameron</td>\n",
       "      <td>760505847.0</td>\n",
       "      <td>Avatar</td>\n",
       "      <td>USA</td>\n",
       "      <td>PG-13</td>\n",
       "      <td>7.9</td>\n",
       "    </tr>\n",
       "    <tr>\n",
       "      <th>1</th>\n",
       "      <td>Gore Verbinski</td>\n",
       "      <td>309404152.0</td>\n",
       "      <td>Pirates of the Caribbean: At World's End</td>\n",
       "      <td>USA</td>\n",
       "      <td>PG-13</td>\n",
       "      <td>7.1</td>\n",
       "    </tr>\n",
       "  </tbody>\n",
       "</table>\n",
       "</div>"
      ],
      "text/plain": [
       "    Director_name        Gross                                Movie_title  \\\n",
       "0   James Cameron  760505847.0                                    Avatar    \n",
       "1  Gore Verbinski  309404152.0  Pirates of the Caribbean: At World's End    \n",
       "\n",
       "  Country Content_rating  Imdb_score  \n",
       "0     USA          PG-13         7.9  \n",
       "1     USA          PG-13         7.1  "
      ]
     },
     "execution_count": 11,
     "metadata": {},
     "output_type": "execute_result"
    }
   ],
   "source": [
    "# Alter axes labels\n",
    "df_net_worth = (df_net_worth\n",
    "                .rename(columns={'Net worth (USD)': 'net_worth',\n",
    "                                'World ranking': 'world_ranking',\n",
    "                                'Sources of wealth': 'wealth_source'}))\n",
    "\n",
    "\n",
    "df.rename(columns=str.capitalize).head(2)"
   ]
  },
  {
   "cell_type": "markdown",
   "metadata": {},
   "source": [
    "The data type of each column may be listed using `df.dtypes`. Automatic conversion is possible via `pd.to_numeric` and `pd.to_datetime`."
   ]
  },
  {
   "cell_type": "code",
   "execution_count": 12,
   "metadata": {},
   "outputs": [
    {
     "data": {
      "text/plain": [
       "director_name      object\n",
       "gross             float64\n",
       "movie_title        object\n",
       "country            object\n",
       "content_rating     object\n",
       "imdb_score        float64\n",
       "dtype: object"
      ]
     },
     "execution_count": 12,
     "metadata": {},
     "output_type": "execute_result"
    }
   ],
   "source": [
    "df.dtypes"
   ]
  },
  {
   "cell_type": "code",
   "execution_count": 13,
   "metadata": {},
   "outputs": [
    {
     "data": {
      "text/html": [
       "<div>\n",
       "<style scoped>\n",
       "    .dataframe tbody tr th:only-of-type {\n",
       "        vertical-align: middle;\n",
       "    }\n",
       "\n",
       "    .dataframe tbody tr th {\n",
       "        vertical-align: top;\n",
       "    }\n",
       "\n",
       "    .dataframe thead th {\n",
       "        text-align: right;\n",
       "    }\n",
       "</style>\n",
       "<table border=\"1\" class=\"dataframe\">\n",
       "  <thead>\n",
       "    <tr style=\"text-align: right;\">\n",
       "      <th></th>\n",
       "      <th>world_ranking</th>\n",
       "      <th>Name</th>\n",
       "      <th>Citizenship</th>\n",
       "      <th>net_worth</th>\n",
       "      <th>wealth_source</th>\n",
       "      <th>net_worth_num</th>\n",
       "    </tr>\n",
       "  </thead>\n",
       "  <tbody>\n",
       "    <tr>\n",
       "      <th>0</th>\n",
       "      <td>21</td>\n",
       "      <td>Georg Schaeffler</td>\n",
       "      <td>Germany</td>\n",
       "      <td>26.9 billion</td>\n",
       "      <td>Schaeffler Group</td>\n",
       "      <td>26.9</td>\n",
       "    </tr>\n",
       "    <tr>\n",
       "      <th>1</th>\n",
       "      <td>37</td>\n",
       "      <td>Beate Heister (b. Albrecht) &amp; Karl Albrecht Jr.</td>\n",
       "      <td>Germany</td>\n",
       "      <td>21.3 billion</td>\n",
       "      <td>Aldi Süd</td>\n",
       "      <td>21.3</td>\n",
       "    </tr>\n",
       "  </tbody>\n",
       "</table>\n",
       "</div>"
      ],
      "text/plain": [
       "   world_ranking                                             Name Citizenship  \\\n",
       "0             21                                 Georg Schaeffler     Germany   \n",
       "1             37  Beate Heister (b. Albrecht) & Karl Albrecht Jr.     Germany   \n",
       "\n",
       "      net_worth     wealth_source  net_worth_num  \n",
       "0  26.9 billion  Schaeffler Group           26.9  \n",
       "1  21.3 billion          Aldi Süd           21.3  "
      ]
     },
     "execution_count": 13,
     "metadata": {},
     "output_type": "execute_result"
    }
   ],
   "source": [
    "df_net_worth['net_worth_num'] = (df_net_worth['net_worth']\n",
    "                             .str.replace(' billion', '')\n",
    "                             .apply(float))\n",
    "\n",
    "df_net_worth.head(2)"
   ]
  },
  {
   "cell_type": "markdown",
   "metadata": {},
   "source": [
    "# (3) Summarizing data\n",
    "\n",
    "This section shows some important methods related to summarizing data."
   ]
  },
  {
   "cell_type": "markdown",
   "metadata": {},
   "source": [
    "## (3.1) Peeking at the data"
   ]
  },
  {
   "cell_type": "markdown",
   "metadata": {},
   "source": [
    "Three methods that are useful when peeking at the data are `df.head`, `df.tail` and `df.sample`.\n",
    "Head and tail are $\\mathcal{O}(1)$ operations, while sample is $\\mathcal{O}(n)$, where $n$ is the number of rows.\n",
    "For small datasets, this makes no difference in practice. We'll use `df.sample` here."
   ]
  },
  {
   "cell_type": "code",
   "execution_count": 14,
   "metadata": {},
   "outputs": [
    {
     "data": {
      "text/html": [
       "<div>\n",
       "<style scoped>\n",
       "    .dataframe tbody tr th:only-of-type {\n",
       "        vertical-align: middle;\n",
       "    }\n",
       "\n",
       "    .dataframe tbody tr th {\n",
       "        vertical-align: top;\n",
       "    }\n",
       "\n",
       "    .dataframe thead th {\n",
       "        text-align: right;\n",
       "    }\n",
       "</style>\n",
       "<table border=\"1\" class=\"dataframe\">\n",
       "  <thead>\n",
       "    <tr style=\"text-align: right;\">\n",
       "      <th></th>\n",
       "      <th>director_name</th>\n",
       "      <th>gross</th>\n",
       "      <th>movie_title</th>\n",
       "      <th>country</th>\n",
       "      <th>content_rating</th>\n",
       "      <th>imdb_score</th>\n",
       "    </tr>\n",
       "  </thead>\n",
       "  <tbody>\n",
       "    <tr>\n",
       "      <th>0</th>\n",
       "      <td>James Cameron</td>\n",
       "      <td>760505847.0</td>\n",
       "      <td>Avatar</td>\n",
       "      <td>USA</td>\n",
       "      <td>PG-13</td>\n",
       "      <td>7.9</td>\n",
       "    </tr>\n",
       "    <tr>\n",
       "      <th>1</th>\n",
       "      <td>Gore Verbinski</td>\n",
       "      <td>309404152.0</td>\n",
       "      <td>Pirates of the Caribbean: At World's End</td>\n",
       "      <td>USA</td>\n",
       "      <td>PG-13</td>\n",
       "      <td>7.1</td>\n",
       "    </tr>\n",
       "  </tbody>\n",
       "</table>\n",
       "</div>"
      ],
      "text/plain": [
       "    director_name        gross                                movie_title  \\\n",
       "0   James Cameron  760505847.0                                    Avatar    \n",
       "1  Gore Verbinski  309404152.0  Pirates of the Caribbean: At World's End    \n",
       "\n",
       "  country content_rating  imdb_score  \n",
       "0     USA          PG-13         7.9  \n",
       "1     USA          PG-13         7.1  "
      ]
     },
     "execution_count": 14,
     "metadata": {},
     "output_type": "execute_result"
    }
   ],
   "source": [
    "# Return the first `n` rows.\n",
    "df.head(n=2)  # df.tail(n=2) returns the last rows"
   ]
  },
  {
   "cell_type": "code",
   "execution_count": 15,
   "metadata": {},
   "outputs": [
    {
     "data": {
      "text/html": [
       "<div>\n",
       "<style scoped>\n",
       "    .dataframe tbody tr th:only-of-type {\n",
       "        vertical-align: middle;\n",
       "    }\n",
       "\n",
       "    .dataframe tbody tr th {\n",
       "        vertical-align: top;\n",
       "    }\n",
       "\n",
       "    .dataframe thead th {\n",
       "        text-align: right;\n",
       "    }\n",
       "</style>\n",
       "<table border=\"1\" class=\"dataframe\">\n",
       "  <thead>\n",
       "    <tr style=\"text-align: right;\">\n",
       "      <th></th>\n",
       "      <th>director_name</th>\n",
       "      <th>gross</th>\n",
       "      <th>movie_title</th>\n",
       "      <th>country</th>\n",
       "      <th>content_rating</th>\n",
       "      <th>imdb_score</th>\n",
       "    </tr>\n",
       "  </thead>\n",
       "  <tbody>\n",
       "    <tr>\n",
       "      <th>3882</th>\n",
       "      <td>Richard Kwietniowski</td>\n",
       "      <td>2542264.0</td>\n",
       "      <td>Love and Death on Long Island</td>\n",
       "      <td>UK</td>\n",
       "      <td>PG-13</td>\n",
       "      <td>7.1</td>\n",
       "    </tr>\n",
       "    <tr>\n",
       "      <th>448</th>\n",
       "      <td>Mike Mitchell</td>\n",
       "      <td>133103929.0</td>\n",
       "      <td>Alvin and the Chipmunks: Chipwrecked</td>\n",
       "      <td>USA</td>\n",
       "      <td>G</td>\n",
       "      <td>4.4</td>\n",
       "    </tr>\n",
       "  </tbody>\n",
       "</table>\n",
       "</div>"
      ],
      "text/plain": [
       "             director_name        gross  \\\n",
       "3882  Richard Kwietniowski    2542264.0   \n",
       "448          Mike Mitchell  133103929.0   \n",
       "\n",
       "                                movie_title country content_rating  imdb_score  \n",
       "3882         Love and Death on Long Island       UK          PG-13         7.1  \n",
       "448   Alvin and the Chipmunks: Chipwrecked      USA              G         4.4  "
      ]
     },
     "execution_count": 15,
     "metadata": {},
     "output_type": "execute_result"
    }
   ],
   "source": [
    "df.sample(n=2, replace=False, weights=None, random_state=None)"
   ]
  },
  {
   "cell_type": "markdown",
   "metadata": {},
   "source": [
    "## (3.2) Null values and summary statistics"
   ]
  },
  {
   "cell_type": "markdown",
   "metadata": {},
   "source": [
    "We should make sure the data types are correct. To do so, we can use `df.dtypes`, or `df.info()` for some more information."
   ]
  },
  {
   "cell_type": "code",
   "execution_count": 16,
   "metadata": {},
   "outputs": [
    {
     "name": "stdout",
     "output_type": "stream",
     "text": [
      "<class 'pandas.core.frame.DataFrame'>\n",
      "RangeIndex: 5043 entries, 0 to 5042\n",
      "Data columns (total 6 columns):\n",
      "director_name     4939 non-null object\n",
      "gross             4159 non-null float64\n",
      "movie_title       5043 non-null object\n",
      "country           5038 non-null object\n",
      "content_rating    4740 non-null object\n",
      "imdb_score        5043 non-null float64\n",
      "dtypes: float64(2), object(4)\n",
      "memory usage: 236.5+ KB\n"
     ]
    }
   ],
   "source": [
    "# Print a concise summary of a DataFrame\n",
    "df.info(verbose=True, memory_usage=True, null_counts=True)"
   ]
  },
  {
   "cell_type": "markdown",
   "metadata": {},
   "source": [
    "We have some null values. Let's count them by chaining `df.isnull()` and `df.sum()`."
   ]
  },
  {
   "cell_type": "code",
   "execution_count": 17,
   "metadata": {},
   "outputs": [
    {
     "data": {
      "text/plain": [
       "director_name     104\n",
       "gross             884\n",
       "movie_title         0\n",
       "country             5\n",
       "content_rating    303\n",
       "imdb_score          0\n",
       "dtype: int64"
      ]
     },
     "execution_count": 17,
     "metadata": {},
     "output_type": "execute_result"
    }
   ],
   "source": [
    "# Detect missing values -> sum over rows\n",
    "null_values = df.isnull().sum(axis=0)\n",
    "null_values"
   ]
  },
  {
   "cell_type": "markdown",
   "metadata": {},
   "source": [
    "The result of the above is not a DataFrame object, but a Series."
   ]
  },
  {
   "cell_type": "code",
   "execution_count": 18,
   "metadata": {},
   "outputs": [
    {
     "data": {
      "text/plain": [
       "pandas.core.series.Series"
      ]
     },
     "execution_count": 18,
     "metadata": {},
     "output_type": "execute_result"
    }
   ],
   "source": [
    "type(null_values)"
   ]
  },
  {
   "cell_type": "markdown",
   "metadata": {},
   "source": [
    "![alt text](https://www.mathsisfun.com/algebra/images/scalar-vector-matrix.svg)\n",
    "*Image source:* https://www.mathsisfun.com/algebra/scalar-vector-matrix.html\n"
   ]
  },
  {
   "cell_type": "markdown",
   "metadata": {},
   "source": [
    "We can make the output prettier by converting null_values to a DataFrame using the `to_frame()` method, then transposing using `.T`, and finally renaming the first index."
   ]
  },
  {
   "cell_type": "code",
   "execution_count": 19,
   "metadata": {},
   "outputs": [
    {
     "data": {
      "text/html": [
       "<div>\n",
       "<style scoped>\n",
       "    .dataframe tbody tr th:only-of-type {\n",
       "        vertical-align: middle;\n",
       "    }\n",
       "\n",
       "    .dataframe tbody tr th {\n",
       "        vertical-align: top;\n",
       "    }\n",
       "\n",
       "    .dataframe thead th {\n",
       "        text-align: right;\n",
       "    }\n",
       "</style>\n",
       "<table border=\"1\" class=\"dataframe\">\n",
       "  <thead>\n",
       "    <tr style=\"text-align: right;\">\n",
       "      <th></th>\n",
       "      <th>director_name</th>\n",
       "      <th>gross</th>\n",
       "      <th>movie_title</th>\n",
       "      <th>country</th>\n",
       "      <th>content_rating</th>\n",
       "      <th>imdb_score</th>\n",
       "    </tr>\n",
       "  </thead>\n",
       "  <tbody>\n",
       "    <tr>\n",
       "      <th>Missing values</th>\n",
       "      <td>104</td>\n",
       "      <td>884</td>\n",
       "      <td>0</td>\n",
       "      <td>5</td>\n",
       "      <td>303</td>\n",
       "      <td>0</td>\n",
       "    </tr>\n",
       "  </tbody>\n",
       "</table>\n",
       "</div>"
      ],
      "text/plain": [
       "                director_name  gross  movie_title  country  content_rating  \\\n",
       "Missing values            104    884            0        5             303   \n",
       "\n",
       "                imdb_score  \n",
       "Missing values           0  "
      ]
     },
     "execution_count": 19,
     "metadata": {},
     "output_type": "execute_result"
    }
   ],
   "source": [
    "null_values.to_frame().T.rename(index={0: 'Missing values'})"
   ]
  },
  {
   "cell_type": "markdown",
   "metadata": {},
   "source": [
    "The above is called method chaining, and can be written like so:"
   ]
  },
  {
   "cell_type": "code",
   "execution_count": 20,
   "metadata": {},
   "outputs": [
    {
     "data": {
      "text/html": [
       "<div>\n",
       "<style scoped>\n",
       "    .dataframe tbody tr th:only-of-type {\n",
       "        vertical-align: middle;\n",
       "    }\n",
       "\n",
       "    .dataframe tbody tr th {\n",
       "        vertical-align: top;\n",
       "    }\n",
       "\n",
       "    .dataframe thead th {\n",
       "        text-align: right;\n",
       "    }\n",
       "</style>\n",
       "<table border=\"1\" class=\"dataframe\">\n",
       "  <thead>\n",
       "    <tr style=\"text-align: right;\">\n",
       "      <th></th>\n",
       "      <th>director_name</th>\n",
       "      <th>gross</th>\n",
       "      <th>movie_title</th>\n",
       "      <th>country</th>\n",
       "      <th>content_rating</th>\n",
       "      <th>imdb_score</th>\n",
       "    </tr>\n",
       "  </thead>\n",
       "  <tbody>\n",
       "    <tr>\n",
       "      <th>Missing values</th>\n",
       "      <td>104</td>\n",
       "      <td>884</td>\n",
       "      <td>0</td>\n",
       "      <td>5</td>\n",
       "      <td>303</td>\n",
       "      <td>0</td>\n",
       "    </tr>\n",
       "  </tbody>\n",
       "</table>\n",
       "</div>"
      ],
      "text/plain": [
       "                director_name  gross  movie_title  country  content_rating  \\\n",
       "Missing values            104    884            0        5             303   \n",
       "\n",
       "                imdb_score  \n",
       "Missing values           0  "
      ]
     },
     "execution_count": 20,
     "metadata": {},
     "output_type": "execute_result"
    }
   ],
   "source": [
    "(df\n",
    "    .isnull()    # Figure out whether every entry is null (missing), or not\n",
    "    .sum(axis=0) # Sum over each column, axis=0 is the default\n",
    "    .to_frame()  # The result is a Series, convert to DataFrame\n",
    "    .T           # Transpose (switch rows and columns)\n",
    "    .rename(index={0:'Missing values'}) # Rename the index and show it\n",
    ")"
   ]
  },
  {
   "cell_type": "markdown",
   "metadata": {},
   "source": [
    "A tour of summarization would not be complete without `df.describe()`.\n",
    "Calling `df.count()`, `df.nunique()`, `df.mean()`, `df.std()`, `df.min()`, `df.quantile()`, `df.max()` is also possible.\n",
    "\n",
    "> **Gotcha.** There are 200+ methods defined on a DataFrame. See the [API Reference](https://pandas.pydata.org/pandas-docs/stable/api.html) for an exhaustive list."
   ]
  },
  {
   "cell_type": "code",
   "execution_count": 21,
   "metadata": {},
   "outputs": [
    {
     "data": {
      "text/html": [
       "<div>\n",
       "<style scoped>\n",
       "    .dataframe tbody tr th:only-of-type {\n",
       "        vertical-align: middle;\n",
       "    }\n",
       "\n",
       "    .dataframe tbody tr th {\n",
       "        vertical-align: top;\n",
       "    }\n",
       "\n",
       "    .dataframe thead th {\n",
       "        text-align: right;\n",
       "    }\n",
       "</style>\n",
       "<table border=\"1\" class=\"dataframe\">\n",
       "  <thead>\n",
       "    <tr style=\"text-align: right;\">\n",
       "      <th></th>\n",
       "      <th>director_name</th>\n",
       "      <th>gross</th>\n",
       "      <th>movie_title</th>\n",
       "      <th>country</th>\n",
       "      <th>content_rating</th>\n",
       "      <th>imdb_score</th>\n",
       "    </tr>\n",
       "  </thead>\n",
       "  <tbody>\n",
       "    <tr>\n",
       "      <th>count</th>\n",
       "      <td>4939</td>\n",
       "      <td>4159</td>\n",
       "      <td>5043</td>\n",
       "      <td>5038</td>\n",
       "      <td>4740</td>\n",
       "      <td>5043</td>\n",
       "    </tr>\n",
       "    <tr>\n",
       "      <th>unique</th>\n",
       "      <td>2398</td>\n",
       "      <td></td>\n",
       "      <td>4917</td>\n",
       "      <td>65</td>\n",
       "      <td>18</td>\n",
       "      <td></td>\n",
       "    </tr>\n",
       "    <tr>\n",
       "      <th>top</th>\n",
       "      <td>Steven Spielberg</td>\n",
       "      <td></td>\n",
       "      <td>The Fast and the Furious</td>\n",
       "      <td>USA</td>\n",
       "      <td>R</td>\n",
       "      <td></td>\n",
       "    </tr>\n",
       "    <tr>\n",
       "      <th>freq</th>\n",
       "      <td>26</td>\n",
       "      <td></td>\n",
       "      <td>3</td>\n",
       "      <td>3807</td>\n",
       "      <td>2118</td>\n",
       "      <td></td>\n",
       "    </tr>\n",
       "    <tr>\n",
       "      <th>mean</th>\n",
       "      <td></td>\n",
       "      <td>4.84684e+07</td>\n",
       "      <td></td>\n",
       "      <td></td>\n",
       "      <td></td>\n",
       "      <td>6.44214</td>\n",
       "    </tr>\n",
       "    <tr>\n",
       "      <th>std</th>\n",
       "      <td></td>\n",
       "      <td>6.8453e+07</td>\n",
       "      <td></td>\n",
       "      <td></td>\n",
       "      <td></td>\n",
       "      <td>1.12512</td>\n",
       "    </tr>\n",
       "    <tr>\n",
       "      <th>min</th>\n",
       "      <td></td>\n",
       "      <td>162</td>\n",
       "      <td></td>\n",
       "      <td></td>\n",
       "      <td></td>\n",
       "      <td>1.6</td>\n",
       "    </tr>\n",
       "    <tr>\n",
       "      <th>50%</th>\n",
       "      <td></td>\n",
       "      <td>2.55175e+07</td>\n",
       "      <td></td>\n",
       "      <td></td>\n",
       "      <td></td>\n",
       "      <td>6.6</td>\n",
       "    </tr>\n",
       "    <tr>\n",
       "      <th>max</th>\n",
       "      <td></td>\n",
       "      <td>7.60506e+08</td>\n",
       "      <td></td>\n",
       "      <td></td>\n",
       "      <td></td>\n",
       "      <td>9.5</td>\n",
       "    </tr>\n",
       "  </tbody>\n",
       "</table>\n",
       "</div>"
      ],
      "text/plain": [
       "           director_name        gross                movie_title country  \\\n",
       "count               4939         4159                       5043    5038   \n",
       "unique              2398                                    4917      65   \n",
       "top     Steven Spielberg               The Fast and the Furious      USA   \n",
       "freq                  26                                       3    3807   \n",
       "mean                      4.84684e+07                                      \n",
       "std                        6.8453e+07                                      \n",
       "min                               162                                      \n",
       "50%                       2.55175e+07                                      \n",
       "max                       7.60506e+08                                      \n",
       "\n",
       "       content_rating imdb_score  \n",
       "count            4740       5043  \n",
       "unique             18             \n",
       "top                 R             \n",
       "freq             2118             \n",
       "mean                     6.44214  \n",
       "std                      1.12512  \n",
       "min                          1.6  \n",
       "50%                          6.6  \n",
       "max                          9.5  "
      ]
     },
     "execution_count": 21,
     "metadata": {},
     "output_type": "execute_result"
    }
   ],
   "source": [
    "df.describe(percentiles=[0.5], include='all').fillna('')"
   ]
  },
  {
   "cell_type": "code",
   "execution_count": 22,
   "metadata": {},
   "outputs": [
    {
     "data": {
      "text/plain": [
       "(5043, 6)"
      ]
     },
     "execution_count": 22,
     "metadata": {},
     "output_type": "execute_result"
    }
   ],
   "source": [
    "df.shape"
   ]
  },
  {
   "cell_type": "code",
   "execution_count": 23,
   "metadata": {},
   "outputs": [
    {
     "data": {
      "text/plain": [
       "(4092, 6)"
      ]
     },
     "execution_count": 23,
     "metadata": {},
     "output_type": "execute_result"
    }
   ],
   "source": [
    "df.dropna(axis=0, how='any').shape"
   ]
  },
  {
   "cell_type": "code",
   "execution_count": 24,
   "metadata": {},
   "outputs": [
    {
     "data": {
      "text/plain": [
       "(4920, 6)"
      ]
     },
     "execution_count": 24,
     "metadata": {},
     "output_type": "execute_result"
    }
   ],
   "source": [
    "df.drop_duplicates(subset=None).shape  # Use df[df.duplicated()] to see rows"
   ]
  },
  {
   "cell_type": "code",
   "execution_count": 25,
   "metadata": {},
   "outputs": [],
   "source": [
    "df = df.dropna(axis=0, how='any')"
   ]
  },
  {
   "cell_type": "markdown",
   "metadata": {},
   "source": [
    "## (3.3) Unique values, value counts and sorting"
   ]
  },
  {
   "cell_type": "code",
   "execution_count": 26,
   "metadata": {},
   "outputs": [
    {
     "data": {
      "text/plain": [
       "array(['PG-13', 'PG', 'G', 'R', 'Unrated', 'Approved', 'NC-17', 'X',\n",
       "       'Not Rated', 'M', 'GP', 'Passed'], dtype=object)"
      ]
     },
     "execution_count": 26,
     "metadata": {},
     "output_type": "execute_result"
    }
   ],
   "source": [
    "df.content_rating.unique()  # Not the same as: df.content_rating.is_unique"
   ]
  },
  {
   "cell_type": "code",
   "execution_count": 27,
   "metadata": {},
   "outputs": [
    {
     "name": "stdout",
     "output_type": "stream",
     "text": [
      "['PG-13', 'PG', 'G', 'R', 'Unrated', 'Approved', 'NC-17', 'X', 'Not Rated', 'M', 'GP', 'Passed']\n"
     ]
    }
   ],
   "source": [
    "print(df.content_rating.drop_duplicates().tolist())"
   ]
  },
  {
   "cell_type": "code",
   "execution_count": 28,
   "metadata": {},
   "outputs": [
    {
     "data": {
      "text/plain": [
       "R            1856\n",
       "PG-13        1400\n",
       "PG            611\n",
       "G              95\n",
       "Not Rated      56\n",
       "Unrated        34\n",
       "Approved       18\n",
       "X              10\n",
       "NC-17           6\n",
       "Passed          3\n",
       "M               2\n",
       "GP              1\n",
       "Name: content_rating, dtype: int64"
      ]
     },
     "execution_count": 28,
     "metadata": {},
     "output_type": "execute_result"
    }
   ],
   "source": [
    "df.content_rating.value_counts()"
   ]
  },
  {
   "cell_type": "code",
   "execution_count": 29,
   "metadata": {},
   "outputs": [
    {
     "data": {
      "text/html": [
       "<div>\n",
       "<style scoped>\n",
       "    .dataframe tbody tr th:only-of-type {\n",
       "        vertical-align: middle;\n",
       "    }\n",
       "\n",
       "    .dataframe tbody tr th {\n",
       "        vertical-align: top;\n",
       "    }\n",
       "\n",
       "    .dataframe thead th {\n",
       "        text-align: right;\n",
       "    }\n",
       "</style>\n",
       "<table border=\"1\" class=\"dataframe\">\n",
       "  <thead>\n",
       "    <tr style=\"text-align: right;\">\n",
       "      <th></th>\n",
       "      <th>movie_title</th>\n",
       "      <th>gross</th>\n",
       "    </tr>\n",
       "  </thead>\n",
       "  <tbody>\n",
       "    <tr>\n",
       "      <th>0</th>\n",
       "      <td>Avatar</td>\n",
       "      <td>760505847.0</td>\n",
       "    </tr>\n",
       "    <tr>\n",
       "      <th>26</th>\n",
       "      <td>Titanic</td>\n",
       "      <td>658672302.0</td>\n",
       "    </tr>\n",
       "    <tr>\n",
       "      <th>29</th>\n",
       "      <td>Jurassic World</td>\n",
       "      <td>652177271.0</td>\n",
       "    </tr>\n",
       "  </tbody>\n",
       "</table>\n",
       "</div>"
      ],
      "text/plain": [
       "        movie_title        gross\n",
       "0           Avatar   760505847.0\n",
       "26         Titanic   658672302.0\n",
       "29  Jurassic World   652177271.0"
      ]
     },
     "execution_count": 29,
     "metadata": {},
     "output_type": "execute_result"
    }
   ],
   "source": [
    "df[['movie_title', 'gross']].nlargest(3, 'gross')"
   ]
  },
  {
   "cell_type": "code",
   "execution_count": 30,
   "metadata": {},
   "outputs": [
    {
     "data": {
      "text/html": [
       "<div>\n",
       "<style scoped>\n",
       "    .dataframe tbody tr th:only-of-type {\n",
       "        vertical-align: middle;\n",
       "    }\n",
       "\n",
       "    .dataframe tbody tr th {\n",
       "        vertical-align: top;\n",
       "    }\n",
       "\n",
       "    .dataframe thead th {\n",
       "        text-align: right;\n",
       "    }\n",
       "</style>\n",
       "<table border=\"1\" class=\"dataframe\">\n",
       "  <thead>\n",
       "    <tr style=\"text-align: right;\">\n",
       "      <th></th>\n",
       "      <th>director_name</th>\n",
       "      <th>gross</th>\n",
       "      <th>movie_title</th>\n",
       "      <th>country</th>\n",
       "      <th>content_rating</th>\n",
       "      <th>imdb_score</th>\n",
       "    </tr>\n",
       "  </thead>\n",
       "  <tbody>\n",
       "    <tr>\n",
       "      <th>4735</th>\n",
       "      <td>Siddiq Barmak</td>\n",
       "      <td>1127331.0</td>\n",
       "      <td>Osama</td>\n",
       "      <td>Afghanistan</td>\n",
       "      <td>PG-13</td>\n",
       "      <td>7.4</td>\n",
       "    </tr>\n",
       "    <tr>\n",
       "      <th>4000</th>\n",
       "      <td>Juan José Campanella</td>\n",
       "      <td>20167424.0</td>\n",
       "      <td>The Secret in Their Eyes</td>\n",
       "      <td>Argentina</td>\n",
       "      <td>R</td>\n",
       "      <td>8.2</td>\n",
       "    </tr>\n",
       "    <tr>\n",
       "      <th>4415</th>\n",
       "      <td>Fabián Bielinsky</td>\n",
       "      <td>1221261.0</td>\n",
       "      <td>Nine Queens</td>\n",
       "      <td>Argentina</td>\n",
       "      <td>R</td>\n",
       "      <td>7.9</td>\n",
       "    </tr>\n",
       "    <tr>\n",
       "      <th>4450</th>\n",
       "      <td>Lucrecia Martel</td>\n",
       "      <td>304124.0</td>\n",
       "      <td>The Holy Girl</td>\n",
       "      <td>Argentina</td>\n",
       "      <td>R</td>\n",
       "      <td>6.7</td>\n",
       "    </tr>\n",
       "    <tr>\n",
       "      <th>1491</th>\n",
       "      <td>Hark Tsui</td>\n",
       "      <td>10076136.0</td>\n",
       "      <td>Knock Off</td>\n",
       "      <td>Aruba</td>\n",
       "      <td>R</td>\n",
       "      <td>4.8</td>\n",
       "    </tr>\n",
       "  </tbody>\n",
       "</table>\n",
       "</div>"
      ],
      "text/plain": [
       "             director_name       gross                movie_title  \\\n",
       "4735         Siddiq Barmak   1127331.0                     Osama    \n",
       "4000  Juan José Campanella  20167424.0  The Secret in Their Eyes    \n",
       "4415      Fabián Bielinsky   1221261.0               Nine Queens    \n",
       "4450       Lucrecia Martel    304124.0             The Holy Girl    \n",
       "1491             Hark Tsui  10076136.0                 Knock Off    \n",
       "\n",
       "          country content_rating  imdb_score  \n",
       "4735  Afghanistan          PG-13         7.4  \n",
       "4000    Argentina              R         8.2  \n",
       "4415    Argentina              R         7.9  \n",
       "4450    Argentina              R         6.7  \n",
       "1491        Aruba              R         4.8  "
      ]
     },
     "execution_count": 30,
     "metadata": {},
     "output_type": "execute_result"
    }
   ],
   "source": [
    "# Sort by country, then by IMDB_score. Put NA values last\n",
    "df.sort_values(by=['country', 'imdb_score'], \n",
    "               ascending=[True, False], \n",
    "               na_position='last').head()"
   ]
  },
  {
   "cell_type": "markdown",
   "metadata": {},
   "source": [
    "## (3.4) Basic visualizations\n",
    "\n",
    "Some quick visualizations."
   ]
  },
  {
   "cell_type": "code",
   "execution_count": 31,
   "metadata": {},
   "outputs": [
    {
     "data": {
      "text/html": [
       "<div>\n",
       "<style scoped>\n",
       "    .dataframe tbody tr th:only-of-type {\n",
       "        vertical-align: middle;\n",
       "    }\n",
       "\n",
       "    .dataframe tbody tr th {\n",
       "        vertical-align: top;\n",
       "    }\n",
       "\n",
       "    .dataframe thead th {\n",
       "        text-align: right;\n",
       "    }\n",
       "</style>\n",
       "<table border=\"1\" class=\"dataframe\">\n",
       "  <thead>\n",
       "    <tr style=\"text-align: right;\">\n",
       "      <th></th>\n",
       "      <th>gross</th>\n",
       "      <th>imdb_score</th>\n",
       "    </tr>\n",
       "  </thead>\n",
       "  <tbody>\n",
       "    <tr>\n",
       "      <th>gross</th>\n",
       "      <td>1.000000</td>\n",
       "      <td>0.203786</td>\n",
       "    </tr>\n",
       "    <tr>\n",
       "      <th>imdb_score</th>\n",
       "      <td>0.203786</td>\n",
       "      <td>1.000000</td>\n",
       "    </tr>\n",
       "  </tbody>\n",
       "</table>\n",
       "</div>"
      ],
      "text/plain": [
       "               gross  imdb_score\n",
       "gross       1.000000    0.203786\n",
       "imdb_score  0.203786    1.000000"
      ]
     },
     "execution_count": 31,
     "metadata": {},
     "output_type": "execute_result"
    }
   ],
   "source": [
    "df.corr(method='pearson')"
   ]
  },
  {
   "cell_type": "code",
   "execution_count": 32,
   "metadata": {},
   "outputs": [
    {
     "data": {
      "image/png": "[encoded data removed]",
      "text/plain": [
       "<Figure size 720x360 with 1 Axes>"
      ]
     },
     "metadata": {},
     "output_type": "display_data"
    }
   ],
   "source": [
    "(df.content_rating\n",
    " .value_counts()\n",
    " .to_frame()  # Below are the default values, except `figsize`\n",
    " .plot.barh(subplots=False, sharex=None, sharey=False, layout=None, \n",
    "            figsize=(10, 5), use_index=True, title=None, grid=None, legend=True, \n",
    "            style=None, logx=False, logy=False, loglog=False, xticks=None, \n",
    "            yticks=None, xlim=None, ylim=None, rot=None, fontsize=None, \n",
    "            colormap=None, table=False, yerr=None, xerr=None, \n",
    "            secondary_y=False, sort_columns=False));"
   ]
  },
  {
   "cell_type": "code",
   "execution_count": 33,
   "metadata": {},
   "outputs": [],
   "source": [
    "#df.gross.plot.kde(grid=True, title='IMDB score', lw=3, figsize=(10, 5));"
   ]
  },
  {
   "cell_type": "code",
   "execution_count": 34,
   "metadata": {},
   "outputs": [
    {
     "data": {
      "image/png": "[encoded data removed]",
      "text/plain": [
       "<Figure size 720x360 with 4 Axes>"
      ]
     },
     "metadata": {},
     "output_type": "display_data"
    }
   ],
   "source": [
    "plot = pd.plotting.scatter_matrix(df, alpha=0.5, figsize=(10, 5))"
   ]
  },
  {
   "cell_type": "markdown",
   "metadata": {},
   "source": [
    "# (4) Selecting and computing new columns\n",
    "\n",
    "This section is about selecting subsets of a datset, or creating new data from existing data, i.e.:\n",
    "\n",
    "- Selecting a single column, or a subset of columns\n",
    "- Selecting a subset of rows, i.e. filtering\n",
    "- Chaining the above operations to do both\n"
   ]
  },
  {
   "cell_type": "markdown",
   "metadata": {},
   "source": [
    "## (4.1) Accessing index, columns and data"
   ]
  },
  {
   "cell_type": "code",
   "execution_count": 35,
   "metadata": {},
   "outputs": [
    {
     "data": {
      "text/plain": [
       "Int64Index([   0,    1,    2,    3,    5,    6,    7,    8,    9,   10,\n",
       "            ...\n",
       "            5021, 5025, 5026, 5027, 5033, 5034, 5035, 5037, 5041, 5042],\n",
       "           dtype='int64', length=4092)"
      ]
     },
     "execution_count": 35,
     "metadata": {},
     "output_type": "execute_result"
    }
   ],
   "source": [
    "df.index"
   ]
  },
  {
   "cell_type": "code",
   "execution_count": 36,
   "metadata": {},
   "outputs": [
    {
     "data": {
      "text/plain": [
       "Index(['director_name', 'gross', 'movie_title', 'country', 'content_rating',\n",
       "       'imdb_score'],\n",
       "      dtype='object')"
      ]
     },
     "execution_count": 36,
     "metadata": {},
     "output_type": "execute_result"
    }
   ],
   "source": [
    "df.columns"
   ]
  },
  {
   "cell_type": "code",
   "execution_count": 37,
   "metadata": {},
   "outputs": [
    {
     "data": {
      "text/plain": [
       "array([['James Cameron', 760505847.0, 'Avatar\\xa0', 'USA', 'PG-13', 7.9],\n",
       "       ['Gore Verbinski', 309404152.0,\n",
       "        \"Pirates of the Caribbean: At World's End\\xa0\", 'USA', 'PG-13',\n",
       "        7.1],\n",
       "       ['Sam Mendes', 200074175.0, 'Spectre\\xa0', 'UK', 'PG-13', 6.8],\n",
       "       ...,\n",
       "       ['Edward Burns', 4584.0, 'Newlyweds\\xa0', 'USA', 'Not Rated', 6.4],\n",
       "       ['Daniel Hsia', 10443.0, 'Shanghai Calling\\xa0', 'USA', 'PG-13',\n",
       "        6.3],\n",
       "       ['Jon Gunn', 85222.0, 'My Date with Drew\\xa0', 'USA', 'PG', 6.6]],\n",
       "      dtype=object)"
      ]
     },
     "execution_count": 37,
     "metadata": {},
     "output_type": "execute_result"
    }
   ],
   "source": [
    "# This is very useful when using data with libraries\n",
    "df.values"
   ]
  },
  {
   "cell_type": "code",
   "execution_count": 38,
   "metadata": {},
   "outputs": [
    {
     "data": {
      "text/plain": [
       "numpy.ndarray"
      ]
     },
     "execution_count": 38,
     "metadata": {},
     "output_type": "execute_result"
    }
   ],
   "source": [
    "type(df.values)"
   ]
  },
  {
   "cell_type": "code",
   "execution_count": 39,
   "metadata": {},
   "outputs": [
    {
     "data": {
      "text/plain": [
       "array([7.60505847e+08, 3.09404152e+08, 2.00074175e+08, ...,\n",
       "       4.58400000e+03, 1.04430000e+04, 8.52220000e+04])"
      ]
     },
     "execution_count": 39,
     "metadata": {},
     "output_type": "execute_result"
    }
   ],
   "source": [
    "df.gross.dropna().values"
   ]
  },
  {
   "cell_type": "markdown",
   "metadata": {},
   "source": [
    "## (4.2) Selecting subsets of columns"
   ]
  },
  {
   "cell_type": "code",
   "execution_count": 40,
   "metadata": {},
   "outputs": [
    {
     "name": "stdout",
     "output_type": "stream",
     "text": [
      "['director_name', 'gross', 'movie_title', 'country', 'content_rating', 'imdb_score']\n"
     ]
    }
   ],
   "source": [
    "print(df.columns.tolist())  # Get the columns"
   ]
  },
  {
   "cell_type": "code",
   "execution_count": 41,
   "metadata": {},
   "outputs": [
    {
     "data": {
      "text/plain": [
       "0     James Cameron\n",
       "1    Gore Verbinski\n",
       "2        Sam Mendes\n",
       "Name: director_name, dtype: object"
      ]
     },
     "execution_count": 41,
     "metadata": {},
     "output_type": "execute_result"
    }
   ],
   "source": [
    "df.director_name.head(3)  # Alternatively, use df['director_name'].head(3)"
   ]
  },
  {
   "cell_type": "markdown",
   "metadata": {},
   "source": [
    "Selecting two or more columns."
   ]
  },
  {
   "cell_type": "code",
   "execution_count": 42,
   "metadata": {},
   "outputs": [
    {
     "data": {
      "text/html": [
       "<div>\n",
       "<style scoped>\n",
       "    .dataframe tbody tr th:only-of-type {\n",
       "        vertical-align: middle;\n",
       "    }\n",
       "\n",
       "    .dataframe tbody tr th {\n",
       "        vertical-align: top;\n",
       "    }\n",
       "\n",
       "    .dataframe thead th {\n",
       "        text-align: right;\n",
       "    }\n",
       "</style>\n",
       "<table border=\"1\" class=\"dataframe\">\n",
       "  <thead>\n",
       "    <tr style=\"text-align: right;\">\n",
       "      <th></th>\n",
       "      <th>movie_title</th>\n",
       "      <th>country</th>\n",
       "    </tr>\n",
       "  </thead>\n",
       "  <tbody>\n",
       "    <tr>\n",
       "      <th>0</th>\n",
       "      <td>Avatar</td>\n",
       "      <td>USA</td>\n",
       "    </tr>\n",
       "    <tr>\n",
       "      <th>1</th>\n",
       "      <td>Pirates of the Caribbean: At World's End</td>\n",
       "      <td>USA</td>\n",
       "    </tr>\n",
       "  </tbody>\n",
       "</table>\n",
       "</div>"
      ],
      "text/plain": [
       "                                 movie_title country\n",
       "0                                    Avatar      USA\n",
       "1  Pirates of the Caribbean: At World's End      USA"
      ]
     },
     "execution_count": 42,
     "metadata": {},
     "output_type": "execute_result"
    }
   ],
   "source": [
    "df[['movie_title', 'country']].head(2)"
   ]
  },
  {
   "cell_type": "markdown",
   "metadata": {},
   "source": [
    "The most useful selection function is `df.loc[[row1, row2, ...], [col1, col2, ...]]`.\n",
    "\n",
    "- `df.loc[:, [col1, col2]]` selects every row, and columns `[col1, col2]`\n",
    "- `df.loc[[row1, row2], :]` selects rows `[row1, row2]`, and every column"
   ]
  },
  {
   "cell_type": "code",
   "execution_count": 43,
   "metadata": {},
   "outputs": [
    {
     "data": {
      "text/html": [
       "<div>\n",
       "<style scoped>\n",
       "    .dataframe tbody tr th:only-of-type {\n",
       "        vertical-align: middle;\n",
       "    }\n",
       "\n",
       "    .dataframe tbody tr th {\n",
       "        vertical-align: top;\n",
       "    }\n",
       "\n",
       "    .dataframe thead th {\n",
       "        text-align: right;\n",
       "    }\n",
       "</style>\n",
       "<table border=\"1\" class=\"dataframe\">\n",
       "  <thead>\n",
       "    <tr style=\"text-align: right;\">\n",
       "      <th></th>\n",
       "      <th>movie_title</th>\n",
       "      <th>country</th>\n",
       "    </tr>\n",
       "  </thead>\n",
       "  <tbody>\n",
       "    <tr>\n",
       "      <th>0</th>\n",
       "      <td>Avatar</td>\n",
       "      <td>USA</td>\n",
       "    </tr>\n",
       "    <tr>\n",
       "      <th>1</th>\n",
       "      <td>Pirates of the Caribbean: At World's End</td>\n",
       "      <td>USA</td>\n",
       "    </tr>\n",
       "  </tbody>\n",
       "</table>\n",
       "</div>"
      ],
      "text/plain": [
       "                                 movie_title country\n",
       "0                                    Avatar      USA\n",
       "1  Pirates of the Caribbean: At World's End      USA"
      ]
     },
     "execution_count": 43,
     "metadata": {},
     "output_type": "execute_result"
    }
   ],
   "source": [
    "df.loc[:, ['movie_title', 'country']].head(2)"
   ]
  },
  {
   "cell_type": "code",
   "execution_count": 44,
   "metadata": {},
   "outputs": [
    {
     "name": "stdout",
     "output_type": "stream",
     "text": [
      "<class 'pandas.core.series.Series'>\n",
      "<class 'pandas.core.frame.DataFrame'>\n"
     ]
    }
   ],
   "source": [
    "a = df.loc[:, 'gross']  # Returns a Series\n",
    "b = df.loc[:, ['gross']]  # Returns a DataFrame\n",
    "\n",
    "print(type(a))\n",
    "print(type(b))"
   ]
  },
  {
   "cell_type": "markdown",
   "metadata": {},
   "source": [
    "Instead of selecting a subset of columns to *keep*, we can select a subset to *drop*."
   ]
  },
  {
   "cell_type": "code",
   "execution_count": 45,
   "metadata": {},
   "outputs": [
    {
     "data": {
      "text/html": [
       "<div>\n",
       "<style scoped>\n",
       "    .dataframe tbody tr th:only-of-type {\n",
       "        vertical-align: middle;\n",
       "    }\n",
       "\n",
       "    .dataframe tbody tr th {\n",
       "        vertical-align: top;\n",
       "    }\n",
       "\n",
       "    .dataframe thead th {\n",
       "        text-align: right;\n",
       "    }\n",
       "</style>\n",
       "<table border=\"1\" class=\"dataframe\">\n",
       "  <thead>\n",
       "    <tr style=\"text-align: right;\">\n",
       "      <th></th>\n",
       "      <th>country</th>\n",
       "      <th>content_rating</th>\n",
       "      <th>imdb_score</th>\n",
       "    </tr>\n",
       "  </thead>\n",
       "  <tbody>\n",
       "    <tr>\n",
       "      <th>0</th>\n",
       "      <td>USA</td>\n",
       "      <td>PG-13</td>\n",
       "      <td>7.9</td>\n",
       "    </tr>\n",
       "    <tr>\n",
       "      <th>1</th>\n",
       "      <td>USA</td>\n",
       "      <td>PG-13</td>\n",
       "      <td>7.1</td>\n",
       "    </tr>\n",
       "    <tr>\n",
       "      <th>2</th>\n",
       "      <td>UK</td>\n",
       "      <td>PG-13</td>\n",
       "      <td>6.8</td>\n",
       "    </tr>\n",
       "  </tbody>\n",
       "</table>\n",
       "</div>"
      ],
      "text/plain": [
       "  country content_rating  imdb_score\n",
       "0     USA          PG-13         7.9\n",
       "1     USA          PG-13         7.1\n",
       "2      UK          PG-13         6.8"
      ]
     },
     "execution_count": 45,
     "metadata": {},
     "output_type": "execute_result"
    }
   ],
   "source": [
    "# Drop specified labels from rows or columns\n",
    "df.drop(columns=['director_name', 'gross', 'movie_title']).head(3)"
   ]
  },
  {
   "cell_type": "code",
   "execution_count": 46,
   "metadata": {},
   "outputs": [
    {
     "data": {
      "text/html": [
       "<div>\n",
       "<style scoped>\n",
       "    .dataframe tbody tr th:only-of-type {\n",
       "        vertical-align: middle;\n",
       "    }\n",
       "\n",
       "    .dataframe tbody tr th {\n",
       "        vertical-align: top;\n",
       "    }\n",
       "\n",
       "    .dataframe thead th {\n",
       "        text-align: right;\n",
       "    }\n",
       "</style>\n",
       "<table border=\"1\" class=\"dataframe\">\n",
       "  <thead>\n",
       "    <tr style=\"text-align: right;\">\n",
       "      <th></th>\n",
       "      <th>director_name</th>\n",
       "      <th>gross</th>\n",
       "      <th>movie_title</th>\n",
       "    </tr>\n",
       "  </thead>\n",
       "  <tbody>\n",
       "    <tr>\n",
       "      <th>1</th>\n",
       "      <td>Gore Verbinski</td>\n",
       "      <td>309404152.0</td>\n",
       "      <td>Pirates of the Caribbean: At World's End</td>\n",
       "    </tr>\n",
       "    <tr>\n",
       "      <th>2</th>\n",
       "      <td>Sam Mendes</td>\n",
       "      <td>200074175.0</td>\n",
       "      <td>Spectre</td>\n",
       "    </tr>\n",
       "  </tbody>\n",
       "</table>\n",
       "</div>"
      ],
      "text/plain": [
       "    director_name        gross                                movie_title\n",
       "1  Gore Verbinski  309404152.0  Pirates of the Caribbean: At World's End \n",
       "2      Sam Mendes  200074175.0                                   Spectre "
      ]
     },
     "execution_count": 46,
     "metadata": {},
     "output_type": "execute_result"
    }
   ],
   "source": [
    "# Integer-location based indexing\n",
    "df.iloc[1:3, [0, 1, 2]]"
   ]
  },
  {
   "cell_type": "markdown",
   "metadata": {},
   "source": [
    "## (4.3) Selecting subsets of rows"
   ]
  },
  {
   "cell_type": "code",
   "execution_count": 47,
   "metadata": {},
   "outputs": [
    {
     "data": {
      "text/html": [
       "<div>\n",
       "<style scoped>\n",
       "    .dataframe tbody tr th:only-of-type {\n",
       "        vertical-align: middle;\n",
       "    }\n",
       "\n",
       "    .dataframe tbody tr th {\n",
       "        vertical-align: top;\n",
       "    }\n",
       "\n",
       "    .dataframe thead th {\n",
       "        text-align: right;\n",
       "    }\n",
       "</style>\n",
       "<table border=\"1\" class=\"dataframe\">\n",
       "  <thead>\n",
       "    <tr style=\"text-align: right;\">\n",
       "      <th></th>\n",
       "      <th>director_name</th>\n",
       "      <th>gross</th>\n",
       "      <th>movie_title</th>\n",
       "      <th>country</th>\n",
       "      <th>content_rating</th>\n",
       "      <th>imdb_score</th>\n",
       "    </tr>\n",
       "  </thead>\n",
       "  <tbody>\n",
       "    <tr>\n",
       "      <th>0</th>\n",
       "      <td>James Cameron</td>\n",
       "      <td>760505847.0</td>\n",
       "      <td>Avatar</td>\n",
       "      <td>USA</td>\n",
       "      <td>PG-13</td>\n",
       "      <td>7.9</td>\n",
       "    </tr>\n",
       "  </tbody>\n",
       "</table>\n",
       "</div>"
      ],
      "text/plain": [
       "   director_name        gross movie_title country content_rating  imdb_score\n",
       "0  James Cameron  760505847.0     Avatar      USA          PG-13         7.9"
      ]
     },
     "execution_count": 47,
     "metadata": {},
     "output_type": "execute_result"
    }
   ],
   "source": [
    "# Return the first `n` rows\n",
    "df.head(1)"
   ]
  },
  {
   "cell_type": "code",
   "execution_count": 48,
   "metadata": {},
   "outputs": [
    {
     "data": {
      "text/html": [
       "<div>\n",
       "<style scoped>\n",
       "    .dataframe tbody tr th:only-of-type {\n",
       "        vertical-align: middle;\n",
       "    }\n",
       "\n",
       "    .dataframe tbody tr th {\n",
       "        vertical-align: top;\n",
       "    }\n",
       "\n",
       "    .dataframe thead th {\n",
       "        text-align: right;\n",
       "    }\n",
       "</style>\n",
       "<table border=\"1\" class=\"dataframe\">\n",
       "  <thead>\n",
       "    <tr style=\"text-align: right;\">\n",
       "      <th></th>\n",
       "      <th>director_name</th>\n",
       "      <th>gross</th>\n",
       "      <th>movie_title</th>\n",
       "      <th>country</th>\n",
       "      <th>content_rating</th>\n",
       "      <th>imdb_score</th>\n",
       "    </tr>\n",
       "  </thead>\n",
       "  <tbody>\n",
       "    <tr>\n",
       "      <th>0</th>\n",
       "      <td>James Cameron</td>\n",
       "      <td>760505847.0</td>\n",
       "      <td>Avatar</td>\n",
       "      <td>USA</td>\n",
       "      <td>PG-13</td>\n",
       "      <td>7.9</td>\n",
       "    </tr>\n",
       "  </tbody>\n",
       "</table>\n",
       "</div>"
      ],
      "text/plain": [
       "   director_name        gross movie_title country content_rating  imdb_score\n",
       "0  James Cameron  760505847.0     Avatar      USA          PG-13         7.9"
      ]
     },
     "execution_count": 48,
     "metadata": {},
     "output_type": "execute_result"
    }
   ],
   "source": [
    "# Access a group of rows and columns by label(s) or a boolean array\n",
    "df.loc[[0], :]"
   ]
  },
  {
   "cell_type": "code",
   "execution_count": 49,
   "metadata": {},
   "outputs": [
    {
     "data": {
      "text/html": [
       "<div>\n",
       "<style scoped>\n",
       "    .dataframe tbody tr th:only-of-type {\n",
       "        vertical-align: middle;\n",
       "    }\n",
       "\n",
       "    .dataframe tbody tr th {\n",
       "        vertical-align: top;\n",
       "    }\n",
       "\n",
       "    .dataframe thead th {\n",
       "        text-align: right;\n",
       "    }\n",
       "</style>\n",
       "<table border=\"1\" class=\"dataframe\">\n",
       "  <thead>\n",
       "    <tr style=\"text-align: right;\">\n",
       "      <th></th>\n",
       "      <th>director_name</th>\n",
       "      <th>gross</th>\n",
       "      <th>movie_title</th>\n",
       "      <th>country</th>\n",
       "      <th>content_rating</th>\n",
       "      <th>imdb_score</th>\n",
       "    </tr>\n",
       "  </thead>\n",
       "  <tbody>\n",
       "    <tr>\n",
       "      <th>0</th>\n",
       "      <td>James Cameron</td>\n",
       "      <td>760505847.0</td>\n",
       "      <td>Avatar</td>\n",
       "      <td>USA</td>\n",
       "      <td>PG-13</td>\n",
       "      <td>7.9</td>\n",
       "    </tr>\n",
       "  </tbody>\n",
       "</table>\n",
       "</div>"
      ],
      "text/plain": [
       "   director_name        gross movie_title country content_rating  imdb_score\n",
       "0  James Cameron  760505847.0     Avatar      USA          PG-13         7.9"
      ]
     },
     "execution_count": 49,
     "metadata": {},
     "output_type": "execute_result"
    }
   ],
   "source": [
    "df.loc[[0]]"
   ]
  },
  {
   "cell_type": "code",
   "execution_count": 50,
   "metadata": {},
   "outputs": [
    {
     "data": {
      "text/html": [
       "<div>\n",
       "<style scoped>\n",
       "    .dataframe tbody tr th:only-of-type {\n",
       "        vertical-align: middle;\n",
       "    }\n",
       "\n",
       "    .dataframe tbody tr th {\n",
       "        vertical-align: top;\n",
       "    }\n",
       "\n",
       "    .dataframe thead th {\n",
       "        text-align: right;\n",
       "    }\n",
       "</style>\n",
       "<table border=\"1\" class=\"dataframe\">\n",
       "  <thead>\n",
       "    <tr style=\"text-align: right;\">\n",
       "      <th></th>\n",
       "      <th>director_name</th>\n",
       "      <th>gross</th>\n",
       "      <th>movie_title</th>\n",
       "      <th>country</th>\n",
       "      <th>content_rating</th>\n",
       "      <th>imdb_score</th>\n",
       "    </tr>\n",
       "  </thead>\n",
       "  <tbody>\n",
       "    <tr>\n",
       "      <th>4498</th>\n",
       "      <td>Sergio Leone</td>\n",
       "      <td>6100000.0</td>\n",
       "      <td>The Good, the Bad and the Ugly</td>\n",
       "      <td>Italy</td>\n",
       "      <td>Approved</td>\n",
       "      <td>8.9</td>\n",
       "    </tr>\n",
       "    <tr>\n",
       "      <th>270</th>\n",
       "      <td>Peter Jackson</td>\n",
       "      <td>313837577.0</td>\n",
       "      <td>The Lord of the Rings: The Fellowship of the R...</td>\n",
       "      <td>New Zealand</td>\n",
       "      <td>PG-13</td>\n",
       "      <td>8.8</td>\n",
       "    </tr>\n",
       "    <tr>\n",
       "      <th>4029</th>\n",
       "      <td>Fernando Meirelles</td>\n",
       "      <td>7563397.0</td>\n",
       "      <td>City of God</td>\n",
       "      <td>Brazil</td>\n",
       "      <td>R</td>\n",
       "      <td>8.7</td>\n",
       "    </tr>\n",
       "  </tbody>\n",
       "</table>\n",
       "</div>"
      ],
      "text/plain": [
       "           director_name        gross  \\\n",
       "4498        Sergio Leone    6100000.0   \n",
       "270        Peter Jackson  313837577.0   \n",
       "4029  Fernando Meirelles    7563397.0   \n",
       "\n",
       "                                            movie_title      country  \\\n",
       "4498                    The Good, the Bad and the Ugly         Italy   \n",
       "270   The Lord of the Rings: The Fellowship of the R...  New Zealand   \n",
       "4029                                       City of God        Brazil   \n",
       "\n",
       "     content_rating  imdb_score  \n",
       "4498       Approved         8.9  \n",
       "270           PG-13         8.8  \n",
       "4029              R         8.7  "
      ]
     },
     "execution_count": 50,
     "metadata": {},
     "output_type": "execute_result"
    }
   ],
   "source": [
    "# Top three movies / TV-series not from the USA\n",
    "df[df.country != 'USA'].nlargest(3, 'imdb_score')"
   ]
  },
  {
   "cell_type": "code",
   "execution_count": 51,
   "metadata": {},
   "outputs": [
    {
     "data": {
      "text/html": [
       "<div>\n",
       "<style scoped>\n",
       "    .dataframe tbody tr th:only-of-type {\n",
       "        vertical-align: middle;\n",
       "    }\n",
       "\n",
       "    .dataframe tbody tr th {\n",
       "        vertical-align: top;\n",
       "    }\n",
       "\n",
       "    .dataframe thead th {\n",
       "        text-align: right;\n",
       "    }\n",
       "</style>\n",
       "<table border=\"1\" class=\"dataframe\">\n",
       "  <thead>\n",
       "    <tr style=\"text-align: right;\">\n",
       "      <th></th>\n",
       "      <th>director_name</th>\n",
       "      <th>gross</th>\n",
       "      <th>movie_title</th>\n",
       "      <th>country</th>\n",
       "      <th>content_rating</th>\n",
       "      <th>imdb_score</th>\n",
       "    </tr>\n",
       "  </thead>\n",
       "  <tbody>\n",
       "    <tr>\n",
       "      <th>4498</th>\n",
       "      <td>Sergio Leone</td>\n",
       "      <td>6100000.0</td>\n",
       "      <td>The Good, the Bad and the Ugly</td>\n",
       "      <td>Italy</td>\n",
       "      <td>Approved</td>\n",
       "      <td>8.9</td>\n",
       "    </tr>\n",
       "    <tr>\n",
       "      <th>270</th>\n",
       "      <td>Peter Jackson</td>\n",
       "      <td>313837577.0</td>\n",
       "      <td>The Lord of the Rings: The Fellowship of the R...</td>\n",
       "      <td>New Zealand</td>\n",
       "      <td>PG-13</td>\n",
       "      <td>8.8</td>\n",
       "    </tr>\n",
       "    <tr>\n",
       "      <th>4029</th>\n",
       "      <td>Fernando Meirelles</td>\n",
       "      <td>7563397.0</td>\n",
       "      <td>City of God</td>\n",
       "      <td>Brazil</td>\n",
       "      <td>R</td>\n",
       "      <td>8.7</td>\n",
       "    </tr>\n",
       "  </tbody>\n",
       "</table>\n",
       "</div>"
      ],
      "text/plain": [
       "           director_name        gross  \\\n",
       "4498        Sergio Leone    6100000.0   \n",
       "270        Peter Jackson  313837577.0   \n",
       "4029  Fernando Meirelles    7563397.0   \n",
       "\n",
       "                                            movie_title      country  \\\n",
       "4498                    The Good, the Bad and the Ugly         Italy   \n",
       "270   The Lord of the Rings: The Fellowship of the R...  New Zealand   \n",
       "4029                                       City of God        Brazil   \n",
       "\n",
       "     content_rating  imdb_score  \n",
       "4498       Approved         8.9  \n",
       "270           PG-13         8.8  \n",
       "4029              R         8.7  "
      ]
     },
     "execution_count": 51,
     "metadata": {},
     "output_type": "execute_result"
    }
   ],
   "source": [
    "# Best non-American films, with no missing information\n",
    "mask = (df.country != 'USA') & (df.isnull().sum(axis=1) == 0)\n",
    "df[mask].nlargest(3, 'imdb_score')"
   ]
  },
  {
   "cell_type": "markdown",
   "metadata": {},
   "source": [
    "## (4.4) Selecting subsets of rows *and* columns"
   ]
  },
  {
   "cell_type": "code",
   "execution_count": 52,
   "metadata": {},
   "outputs": [
    {
     "data": {
      "text/html": [
       "<div>\n",
       "<style scoped>\n",
       "    .dataframe tbody tr th:only-of-type {\n",
       "        vertical-align: middle;\n",
       "    }\n",
       "\n",
       "    .dataframe tbody tr th {\n",
       "        vertical-align: top;\n",
       "    }\n",
       "\n",
       "    .dataframe thead th {\n",
       "        text-align: right;\n",
       "    }\n",
       "</style>\n",
       "<table border=\"1\" class=\"dataframe\">\n",
       "  <thead>\n",
       "    <tr style=\"text-align: right;\">\n",
       "      <th></th>\n",
       "      <th>director_name</th>\n",
       "      <th>movie_title</th>\n",
       "      <th>country</th>\n",
       "    </tr>\n",
       "  </thead>\n",
       "  <tbody>\n",
       "    <tr>\n",
       "      <th>1196</th>\n",
       "      <td>James Wan</td>\n",
       "      <td>The Conjuring 2</td>\n",
       "      <td>USA</td>\n",
       "    </tr>\n",
       "    <tr>\n",
       "      <th>1562</th>\n",
       "      <td>Martin Scorsese</td>\n",
       "      <td>Bringing Out the Dead</td>\n",
       "      <td>USA</td>\n",
       "    </tr>\n",
       "    <tr>\n",
       "      <th>2163</th>\n",
       "      <td>James Wan</td>\n",
       "      <td>The Conjuring</td>\n",
       "      <td>USA</td>\n",
       "    </tr>\n",
       "    <tr>\n",
       "      <th>2969</th>\n",
       "      <td>Peter Webber</td>\n",
       "      <td>Girl with a Pearl Earring</td>\n",
       "      <td>UK</td>\n",
       "    </tr>\n",
       "    <tr>\n",
       "      <th>3858</th>\n",
       "      <td>Todd Solondz</td>\n",
       "      <td>Life During Wartime</td>\n",
       "      <td>USA</td>\n",
       "    </tr>\n",
       "    <tr>\n",
       "      <th>4298</th>\n",
       "      <td>Lance Mungia</td>\n",
       "      <td>Six-String Samurai</td>\n",
       "      <td>USA</td>\n",
       "    </tr>\n",
       "  </tbody>\n",
       "</table>\n",
       "</div>"
      ],
      "text/plain": [
       "        director_name                 movie_title country\n",
       "1196        James Wan            The Conjuring 2      USA\n",
       "1562  Martin Scorsese      Bringing Out the Dead      USA\n",
       "2163        James Wan              The Conjuring      USA\n",
       "2969     Peter Webber  Girl with a Pearl Earring       UK\n",
       "3858     Todd Solondz        Life During Wartime      USA\n",
       "4298     Lance Mungia         Six-String Samurai      USA"
      ]
     },
     "execution_count": 52,
     "metadata": {},
     "output_type": "execute_result"
    }
   ],
   "source": [
    "# Above average movies, with the title containing 'ring'\n",
    "row_mask = ((df.imdb_score > df.imdb_score.mean()) & \n",
    "             df.movie_title.str.contains('ring'))\n",
    "df.loc[row_mask, ['director_name', 'movie_title', 'country']]"
   ]
  },
  {
   "cell_type": "code",
   "execution_count": 53,
   "metadata": {},
   "outputs": [
    {
     "data": {
      "text/html": [
       "<div>\n",
       "<style scoped>\n",
       "    .dataframe tbody tr th:only-of-type {\n",
       "        vertical-align: middle;\n",
       "    }\n",
       "\n",
       "    .dataframe tbody tr th {\n",
       "        vertical-align: top;\n",
       "    }\n",
       "\n",
       "    .dataframe thead th {\n",
       "        text-align: right;\n",
       "    }\n",
       "</style>\n",
       "<table border=\"1\" class=\"dataframe\">\n",
       "  <thead>\n",
       "    <tr style=\"text-align: right;\">\n",
       "      <th></th>\n",
       "      <th>director_name</th>\n",
       "      <th>movie_title</th>\n",
       "      <th>content_rating</th>\n",
       "      <th>imdb_score</th>\n",
       "    </tr>\n",
       "  </thead>\n",
       "  <tbody>\n",
       "    <tr>\n",
       "      <th>0</th>\n",
       "      <td>James Cameron</td>\n",
       "      <td>Avatar</td>\n",
       "      <td>PG-13</td>\n",
       "      <td>7.9</td>\n",
       "    </tr>\n",
       "    <tr>\n",
       "      <th>1</th>\n",
       "      <td>Gore Verbinski</td>\n",
       "      <td>Pirates of the Caribbean: At World's End</td>\n",
       "      <td>PG-13</td>\n",
       "      <td>7.1</td>\n",
       "    </tr>\n",
       "    <tr>\n",
       "      <th>2</th>\n",
       "      <td>Sam Mendes</td>\n",
       "      <td>Spectre</td>\n",
       "      <td>PG-13</td>\n",
       "      <td>6.8</td>\n",
       "    </tr>\n",
       "    <tr>\n",
       "      <th>3</th>\n",
       "      <td>Christopher Nolan</td>\n",
       "      <td>The Dark Knight Rises</td>\n",
       "      <td>PG-13</td>\n",
       "      <td>8.5</td>\n",
       "    </tr>\n",
       "    <tr>\n",
       "      <th>5</th>\n",
       "      <td>Andrew Stanton</td>\n",
       "      <td>John Carter</td>\n",
       "      <td>PG-13</td>\n",
       "      <td>6.6</td>\n",
       "    </tr>\n",
       "  </tbody>\n",
       "</table>\n",
       "</div>"
      ],
      "text/plain": [
       "       director_name                                movie_title  \\\n",
       "0      James Cameron                                    Avatar    \n",
       "1     Gore Verbinski  Pirates of the Caribbean: At World's End    \n",
       "2         Sam Mendes                                   Spectre    \n",
       "3  Christopher Nolan                     The Dark Knight Rises    \n",
       "5     Andrew Stanton                               John Carter    \n",
       "\n",
       "  content_rating  imdb_score  \n",
       "0          PG-13         7.9  \n",
       "1          PG-13         7.1  \n",
       "2          PG-13         6.8  \n",
       "3          PG-13         8.5  \n",
       "5          PG-13         6.6  "
      ]
     },
     "execution_count": 53,
     "metadata": {},
     "output_type": "execute_result"
    }
   ],
   "source": [
    "# Columns containing and underscore\n",
    "cols = [c for c in df.columns if '_' in c]\n",
    "df.loc[:, cols].head()"
   ]
  },
  {
   "cell_type": "code",
   "execution_count": 54,
   "metadata": {},
   "outputs": [
    {
     "data": {
      "text/html": [
       "<div>\n",
       "<style scoped>\n",
       "    .dataframe tbody tr th:only-of-type {\n",
       "        vertical-align: middle;\n",
       "    }\n",
       "\n",
       "    .dataframe tbody tr th {\n",
       "        vertical-align: top;\n",
       "    }\n",
       "\n",
       "    .dataframe thead th {\n",
       "        text-align: right;\n",
       "    }\n",
       "</style>\n",
       "<table border=\"1\" class=\"dataframe\">\n",
       "  <thead>\n",
       "    <tr style=\"text-align: right;\">\n",
       "      <th></th>\n",
       "      <th>gross</th>\n",
       "      <th>imdb_score</th>\n",
       "    </tr>\n",
       "  </thead>\n",
       "  <tbody>\n",
       "    <tr>\n",
       "      <th>0</th>\n",
       "      <td>760505847.0</td>\n",
       "      <td>7.9</td>\n",
       "    </tr>\n",
       "    <tr>\n",
       "      <th>1</th>\n",
       "      <td>309404152.0</td>\n",
       "      <td>7.1</td>\n",
       "    </tr>\n",
       "    <tr>\n",
       "      <th>2</th>\n",
       "      <td>200074175.0</td>\n",
       "      <td>6.8</td>\n",
       "    </tr>\n",
       "    <tr>\n",
       "      <th>3</th>\n",
       "      <td>448130642.0</td>\n",
       "      <td>8.5</td>\n",
       "    </tr>\n",
       "    <tr>\n",
       "      <th>5</th>\n",
       "      <td>73058679.0</td>\n",
       "      <td>6.6</td>\n",
       "    </tr>\n",
       "  </tbody>\n",
       "</table>\n",
       "</div>"
      ],
      "text/plain": [
       "         gross  imdb_score\n",
       "0  760505847.0         7.9\n",
       "1  309404152.0         7.1\n",
       "2  200074175.0         6.8\n",
       "3  448130642.0         8.5\n",
       "5   73058679.0         6.6"
      ]
     },
     "execution_count": 54,
     "metadata": {},
     "output_type": "execute_result"
    }
   ],
   "source": [
    "# Columns containing and underscore\n",
    "numeric_cols = df.dtypes[df.dtypes == np.float].index.tolist()\n",
    "df.loc[:, numeric_cols].head()"
   ]
  },
  {
   "cell_type": "markdown",
   "metadata": {},
   "source": [
    "## (4.5) Creating new columns"
   ]
  },
  {
   "cell_type": "code",
   "execution_count": 55,
   "metadata": {},
   "outputs": [
    {
     "data": {
      "text/html": [
       "<div>\n",
       "<style scoped>\n",
       "    .dataframe tbody tr th:only-of-type {\n",
       "        vertical-align: middle;\n",
       "    }\n",
       "\n",
       "    .dataframe tbody tr th {\n",
       "        vertical-align: top;\n",
       "    }\n",
       "\n",
       "    .dataframe thead th {\n",
       "        text-align: right;\n",
       "    }\n",
       "</style>\n",
       "<table border=\"1\" class=\"dataframe\">\n",
       "  <thead>\n",
       "    <tr style=\"text-align: right;\">\n",
       "      <th></th>\n",
       "      <th>director_name</th>\n",
       "      <th>gross</th>\n",
       "      <th>movie_title</th>\n",
       "      <th>country</th>\n",
       "      <th>content_rating</th>\n",
       "      <th>imdb_score</th>\n",
       "      <th>log_gross</th>\n",
       "    </tr>\n",
       "  </thead>\n",
       "  <tbody>\n",
       "    <tr>\n",
       "      <th>0</th>\n",
       "      <td>James Cameron</td>\n",
       "      <td>760505847.0</td>\n",
       "      <td>Avatar</td>\n",
       "      <td>USA</td>\n",
       "      <td>PG-13</td>\n",
       "      <td>7.9</td>\n",
       "      <td>8.881103</td>\n",
       "    </tr>\n",
       "    <tr>\n",
       "      <th>1</th>\n",
       "      <td>Gore Verbinski</td>\n",
       "      <td>309404152.0</td>\n",
       "      <td>Pirates of the Caribbean: At World's End</td>\n",
       "      <td>USA</td>\n",
       "      <td>PG-13</td>\n",
       "      <td>7.1</td>\n",
       "      <td>8.490526</td>\n",
       "    </tr>\n",
       "  </tbody>\n",
       "</table>\n",
       "</div>"
      ],
      "text/plain": [
       "    director_name        gross                                movie_title  \\\n",
       "0   James Cameron  760505847.0                                    Avatar    \n",
       "1  Gore Verbinski  309404152.0  Pirates of the Caribbean: At World's End    \n",
       "\n",
       "  country content_rating  imdb_score  log_gross  \n",
       "0     USA          PG-13         7.9   8.881103  \n",
       "1     USA          PG-13         7.1   8.490526  "
      ]
     },
     "execution_count": 55,
     "metadata": {},
     "output_type": "execute_result"
    }
   ],
   "source": [
    "temp = df.copy()  # Copy the DataFrame\n",
    "\n",
    "# Create a new column - based on the gross income\n",
    "temp['log_gross'] = temp['gross'].apply(np.log10)\n",
    "\n",
    "temp.head(2)"
   ]
  },
  {
   "cell_type": "code",
   "execution_count": 56,
   "metadata": {},
   "outputs": [
    {
     "data": {
      "image/png": "[encoded data removed]",
      "text/plain": [
       "<Figure size 720x360 with 1 Axes>"
      ]
     },
     "metadata": {},
     "output_type": "display_data"
    }
   ],
   "source": [
    "temp.plot.scatter(x='imdb_score', y='log_gross', alpha=0.2, s=15, figsize=(10, 5));"
   ]
  },
  {
   "cell_type": "code",
   "execution_count": 57,
   "metadata": {},
   "outputs": [
    {
     "data": {
      "text/html": [
       "<div>\n",
       "<style scoped>\n",
       "    .dataframe tbody tr th:only-of-type {\n",
       "        vertical-align: middle;\n",
       "    }\n",
       "\n",
       "    .dataframe tbody tr th {\n",
       "        vertical-align: top;\n",
       "    }\n",
       "\n",
       "    .dataframe thead th {\n",
       "        text-align: right;\n",
       "    }\n",
       "</style>\n",
       "<table border=\"1\" class=\"dataframe\">\n",
       "  <thead>\n",
       "    <tr style=\"text-align: right;\">\n",
       "      <th></th>\n",
       "      <th></th>\n",
       "      <th>log_gross</th>\n",
       "    </tr>\n",
       "    <tr>\n",
       "      <th>country</th>\n",
       "      <th>content_rating</th>\n",
       "      <th></th>\n",
       "    </tr>\n",
       "  </thead>\n",
       "  <tbody>\n",
       "    <tr>\n",
       "      <th rowspan=\"3\" valign=\"top\">Australia</th>\n",
       "      <th>PG</th>\n",
       "      <td>8.22</td>\n",
       "    </tr>\n",
       "    <tr>\n",
       "      <th>PG-13</th>\n",
       "      <td>8.19</td>\n",
       "    </tr>\n",
       "    <tr>\n",
       "      <th>R</th>\n",
       "      <td>8.17</td>\n",
       "    </tr>\n",
       "    <tr>\n",
       "      <th rowspan=\"2\" valign=\"top\">Canada</th>\n",
       "      <th>PG-13</th>\n",
       "      <td>8.35</td>\n",
       "    </tr>\n",
       "    <tr>\n",
       "      <th>PG</th>\n",
       "      <td>8.05</td>\n",
       "    </tr>\n",
       "  </tbody>\n",
       "</table>\n",
       "</div>"
      ],
      "text/plain": [
       "                          log_gross\n",
       "country   content_rating           \n",
       "Australia PG                   8.22\n",
       "          PG-13                8.19\n",
       "          R                    8.17\n",
       "Canada    PG-13                8.35\n",
       "          PG                   8.05"
      ]
     },
     "execution_count": 57,
     "metadata": {},
     "output_type": "execute_result"
    }
   ],
   "source": [
    "# Assign new columns to a DataFrame, returning a new object\n",
    "# (a copy) with the new columns added to the original ones.\n",
    "(temp.assign(log_gross=lambda df:df.gross.apply(np.log10))).head()\n",
    "\n",
    "# One advantage is that method chaining can be used\n",
    "(temp\n",
    "     .assign(log_gross=lambda df:df.gross.apply(np.log10)) # Create a new column\n",
    "     .loc[lambda df:df.log_gross > 8, ['country', 'content_rating', 'log_gross']] # Filter\n",
    "     .groupby(['country', 'content_rating']) # Group by and mean\n",
    "     .mean()\n",
    "     .reset_index() # Reset the index to sort\n",
    "     .sort_values(['country', 'log_gross'], ascending=[True, False]) # Sort the results\n",
    "     .set_index(['country', 'content_rating']) # Re-index\n",
    "     .assign(log_gross=lambda df:df.log_gross.round(2)) # Re-define the column and round it\n",
    "     .head(5)\n",
    ")"
   ]
  },
  {
   "cell_type": "markdown",
   "metadata": {},
   "source": [
    "## (4.6) Applying functions\n",
    "\n",
    "On a `pd.Series`:\n",
    "\n",
    "- `pd.Series.map` applies an elementwise $f: \\mathbb{R} \\to \\mathbb{R}$ function (e.g. `str`, or `float`)\n",
    "- `pd.Series.apply` applies a vectorized $f: \\mathbb{R}^n \\to \\mathbb{R}^n$ function  (e.g. `log`, or `sin`)\n",
    "- `pd.Series.aggregate` applies an aggreation $f: \\mathbb{R}^n \\to \\mathbb{R}$ function  (e.g. `mean`, or `std`)\n",
    "\n",
    "On a `pd.DataFrame`:\n",
    "\n",
    "- `pd.DataFrame.applymap` applies an elementwise $f: \\mathbb{R} \\to \\mathbb{R}$ function\n",
    "- `pd.DataFrame.apply` applies a vectorized $f: \\mathbb{R}^n \\to \\mathbb{R}^n$ function\n",
    "- `pd.DataFrame.aggregate` applies an aggreation $f: \\mathbb{R}^n \\to \\mathbb{R}$ function"
   ]
  },
  {
   "cell_type": "code",
   "execution_count": 58,
   "metadata": {},
   "outputs": [
    {
     "data": {
      "text/plain": [
       "0    760505847\n",
       "1    309404152\n",
       "Name: gross, dtype: int64"
      ]
     },
     "execution_count": 58,
     "metadata": {},
     "output_type": "execute_result"
    }
   ],
   "source": [
    "# Map values of Series using input correspondence (a dict, Series, or function).\n",
    "df.gross.dropna().map(int).head(2)"
   ]
  },
  {
   "cell_type": "code",
   "execution_count": 59,
   "metadata": {},
   "outputs": [
    {
     "data": {
      "text/html": [
       "<div>\n",
       "<style scoped>\n",
       "    .dataframe tbody tr th:only-of-type {\n",
       "        vertical-align: middle;\n",
       "    }\n",
       "\n",
       "    .dataframe tbody tr th {\n",
       "        vertical-align: top;\n",
       "    }\n",
       "\n",
       "    .dataframe thead th {\n",
       "        text-align: right;\n",
       "    }\n",
       "</style>\n",
       "<table border=\"1\" class=\"dataframe\">\n",
       "  <thead>\n",
       "    <tr style=\"text-align: right;\">\n",
       "      <th></th>\n",
       "      <th>content_rating</th>\n",
       "    </tr>\n",
       "  </thead>\n",
       "  <tbody>\n",
       "    <tr>\n",
       "      <th>NaN</th>\n",
       "      <td>2081</td>\n",
       "    </tr>\n",
       "    <tr>\n",
       "      <th>inappropriate for children under 13</th>\n",
       "      <td>1400</td>\n",
       "    </tr>\n",
       "    <tr>\n",
       "      <th>may not be suitable for children</th>\n",
       "      <td>611</td>\n",
       "    </tr>\n",
       "  </tbody>\n",
       "</table>\n",
       "</div>"
      ],
      "text/plain": [
       "                                     content_rating\n",
       "NaN                                            2081\n",
       "inappropriate for children under 13            1400\n",
       "may not be suitable for children                611"
      ]
     },
     "execution_count": 59,
     "metadata": {},
     "output_type": "execute_result"
    }
   ],
   "source": [
    "# Dictionaries are also maps, but brittle since no keys maps to NaN\n",
    "(df.content_rating\n",
    "    .map({'PG-13':'inappropriate for children under 13', \n",
    "          'PG': 'may not be suitable for children'}, na_action='ignore')\n",
    "    .value_counts(dropna=False)\n",
    "    .to_frame())"
   ]
  },
  {
   "cell_type": "markdown",
   "metadata": {},
   "source": [
    "The `df.apply` method applies a NumPy [ufunc](https://docs.scipy.org/doc/numpy-1.15.1/reference/ufuncs.html).\n",
    "\n",
    "> A *universal function* (or ufunc for short) is a function that operates on ndarrays in an **element-by-element** fashion."
   ]
  },
  {
   "cell_type": "code",
   "execution_count": 60,
   "metadata": {},
   "outputs": [
    {
     "data": {
      "text/plain": [
       "0    8.881103\n",
       "1    8.490526\n",
       "Name: gross, dtype: float64"
      ]
     },
     "execution_count": 60,
     "metadata": {},
     "output_type": "execute_result"
    }
   ],
   "source": [
    "# Invoke function on values of Series. Can be ufunc (a NumPy function\n",
    "# that applies to the entire Series) or a Python function that only works\n",
    "# on single values\n",
    "df.gross.dropna().apply(np.log10).head(2)"
   ]
  },
  {
   "cell_type": "code",
   "execution_count": 61,
   "metadata": {},
   "outputs": [
    {
     "data": {
      "text/plain": [
       "49245414.34946237"
      ]
     },
     "execution_count": 61,
     "metadata": {},
     "output_type": "execute_result"
    }
   ],
   "source": [
    "# Aggregate using one or more operations over the specified axis.\n",
    "df.gross.dropna().aggregate(np.mean, axis=0)"
   ]
  },
  {
   "cell_type": "markdown",
   "metadata": {},
   "source": [
    "---------------"
   ]
  },
  {
   "cell_type": "code",
   "execution_count": 62,
   "metadata": {},
   "outputs": [
    {
     "data": {
      "text/html": [
       "<div>\n",
       "<style scoped>\n",
       "    .dataframe tbody tr th:only-of-type {\n",
       "        vertical-align: middle;\n",
       "    }\n",
       "\n",
       "    .dataframe tbody tr th {\n",
       "        vertical-align: top;\n",
       "    }\n",
       "\n",
       "    .dataframe thead th {\n",
       "        text-align: right;\n",
       "    }\n",
       "</style>\n",
       "<table border=\"1\" class=\"dataframe\">\n",
       "  <thead>\n",
       "    <tr style=\"text-align: right;\">\n",
       "      <th></th>\n",
       "      <th>gross</th>\n",
       "      <th>imdb_score</th>\n",
       "    </tr>\n",
       "  </thead>\n",
       "  <tbody>\n",
       "    <tr>\n",
       "      <th>0</th>\n",
       "      <td>20.449494</td>\n",
       "      <td>2.066863</td>\n",
       "    </tr>\n",
       "    <tr>\n",
       "      <th>1</th>\n",
       "      <td>19.550159</td>\n",
       "      <td>1.960095</td>\n",
       "    </tr>\n",
       "  </tbody>\n",
       "</table>\n",
       "</div>"
      ],
      "text/plain": [
       "       gross  imdb_score\n",
       "0  20.449494    2.066863\n",
       "1  19.550159    1.960095"
      ]
     },
     "execution_count": 62,
     "metadata": {},
     "output_type": "execute_result"
    }
   ],
   "source": [
    "df.loc[:, ['gross', 'imdb_score']].dropna(how='any').apply(np.log).head(2)"
   ]
  },
  {
   "cell_type": "code",
   "execution_count": 63,
   "metadata": {},
   "outputs": [
    {
     "data": {
      "text/html": [
       "<div>\n",
       "<style scoped>\n",
       "    .dataframe tbody tr th:only-of-type {\n",
       "        vertical-align: middle;\n",
       "    }\n",
       "\n",
       "    .dataframe tbody tr th {\n",
       "        vertical-align: top;\n",
       "    }\n",
       "\n",
       "    .dataframe thead th {\n",
       "        text-align: right;\n",
       "    }\n",
       "</style>\n",
       "<table border=\"1\" class=\"dataframe\">\n",
       "  <thead>\n",
       "    <tr style=\"text-align: right;\">\n",
       "      <th></th>\n",
       "      <th>gross</th>\n",
       "      <th>imdb_score</th>\n",
       "    </tr>\n",
       "  </thead>\n",
       "  <tbody>\n",
       "    <tr>\n",
       "      <th>0</th>\n",
       "      <td>760505847</td>\n",
       "      <td>7</td>\n",
       "    </tr>\n",
       "    <tr>\n",
       "      <th>1</th>\n",
       "      <td>309404152</td>\n",
       "      <td>7</td>\n",
       "    </tr>\n",
       "  </tbody>\n",
       "</table>\n",
       "</div>"
      ],
      "text/plain": [
       "       gross  imdb_score\n",
       "0  760505847           7\n",
       "1  309404152           7"
      ]
     },
     "execution_count": 63,
     "metadata": {},
     "output_type": "execute_result"
    }
   ],
   "source": [
    "df.loc[:, ['gross', 'imdb_score']].dropna(how='any').applymap(int).head(2)"
   ]
  },
  {
   "cell_type": "code",
   "execution_count": 64,
   "metadata": {},
   "outputs": [
    {
     "data": {
      "text/plain": [
       "gross         4.924541e+07\n",
       "imdb_score    6.464785e+00\n",
       "dtype: float64"
      ]
     },
     "execution_count": 64,
     "metadata": {},
     "output_type": "execute_result"
    }
   ],
   "source": [
    "df.loc[:, ['gross', 'imdb_score']].dropna(how='any').mean().head(2)"
   ]
  },
  {
   "cell_type": "code",
   "execution_count": 65,
   "metadata": {},
   "outputs": [
    {
     "data": {
      "text/plain": [
       "gross         4.924541e+07\n",
       "imdb_score    6.464785e+00\n",
       "dtype: float64"
      ]
     },
     "execution_count": 65,
     "metadata": {},
     "output_type": "execute_result"
    }
   ],
   "source": [
    "df.loc[:, ['gross', 'imdb_score']].dropna(how='any').aggregate(np.mean, axis=0)"
   ]
  },
  {
   "cell_type": "markdown",
   "metadata": {},
   "source": [
    "# (5) Filtering and sorting"
   ]
  },
  {
   "cell_type": "markdown",
   "metadata": {},
   "source": [
    "We've already seen basic filtering. \n",
    "\n",
    "- `==` defines equality\n",
    "- `!=` defines inquality equality\n",
    "- `~` negates logic, e.g. `True` -> `False`\n",
    "- `&` represents elementwise `and`\n",
    "- `|` represents elementwise `or`\n",
    "\n",
    "Remember to parenthesize expressions, write:\n",
    "\n",
    "> `(df.col_A > 5) & (df.col_B <= 5)`\n",
    "\n"
   ]
  },
  {
   "cell_type": "markdown",
   "metadata": {},
   "source": [
    "## (5.1) Equality, non-equality and logical operators"
   ]
  },
  {
   "cell_type": "code",
   "execution_count": 66,
   "metadata": {},
   "outputs": [
    {
     "data": {
      "text/html": [
       "<div>\n",
       "<style scoped>\n",
       "    .dataframe tbody tr th:only-of-type {\n",
       "        vertical-align: middle;\n",
       "    }\n",
       "\n",
       "    .dataframe tbody tr th {\n",
       "        vertical-align: top;\n",
       "    }\n",
       "\n",
       "    .dataframe thead th {\n",
       "        text-align: right;\n",
       "    }\n",
       "</style>\n",
       "<table border=\"1\" class=\"dataframe\">\n",
       "  <thead>\n",
       "    <tr style=\"text-align: right;\">\n",
       "      <th></th>\n",
       "      <th>director_name</th>\n",
       "      <th>gross</th>\n",
       "      <th>movie_title</th>\n",
       "      <th>country</th>\n",
       "      <th>content_rating</th>\n",
       "      <th>imdb_score</th>\n",
       "    </tr>\n",
       "  </thead>\n",
       "  <tbody>\n",
       "    <tr>\n",
       "      <th>3690</th>\n",
       "      <td>Morten Tyldum</td>\n",
       "      <td>1196752.0</td>\n",
       "      <td>Headhunters</td>\n",
       "      <td>Norway</td>\n",
       "      <td>R</td>\n",
       "      <td>7.6</td>\n",
       "    </tr>\n",
       "    <tr>\n",
       "      <th>4007</th>\n",
       "      <td>André Øvredal</td>\n",
       "      <td>252652.0</td>\n",
       "      <td>Trollhunter</td>\n",
       "      <td>Norway</td>\n",
       "      <td>PG-13</td>\n",
       "      <td>7.0</td>\n",
       "    </tr>\n",
       "    <tr>\n",
       "      <th>4240</th>\n",
       "      <td>Petter Næss</td>\n",
       "      <td>313436.0</td>\n",
       "      <td>Elling</td>\n",
       "      <td>Norway</td>\n",
       "      <td>R</td>\n",
       "      <td>7.6</td>\n",
       "    </tr>\n",
       "  </tbody>\n",
       "</table>\n",
       "</div>"
      ],
      "text/plain": [
       "      director_name      gross   movie_title country content_rating  \\\n",
       "3690  Morten Tyldum  1196752.0  Headhunters   Norway              R   \n",
       "4007  André Øvredal   252652.0  Trollhunter   Norway          PG-13   \n",
       "4240    Petter Næss   313436.0       Elling   Norway              R   \n",
       "\n",
       "      imdb_score  \n",
       "3690         7.6  \n",
       "4007         7.0  \n",
       "4240         7.6  "
      ]
     },
     "execution_count": 66,
     "metadata": {},
     "output_type": "execute_result"
    }
   ],
   "source": [
    "# Movies and TV shows from Norway\n",
    "df[df.country == 'Norway'].head(3)"
   ]
  },
  {
   "cell_type": "code",
   "execution_count": 67,
   "metadata": {},
   "outputs": [
    {
     "data": {
      "text/html": [
       "<div>\n",
       "<style scoped>\n",
       "    .dataframe tbody tr th:only-of-type {\n",
       "        vertical-align: middle;\n",
       "    }\n",
       "\n",
       "    .dataframe tbody tr th {\n",
       "        vertical-align: top;\n",
       "    }\n",
       "\n",
       "    .dataframe thead th {\n",
       "        text-align: right;\n",
       "    }\n",
       "</style>\n",
       "<table border=\"1\" class=\"dataframe\">\n",
       "  <thead>\n",
       "    <tr style=\"text-align: right;\">\n",
       "      <th></th>\n",
       "      <th>director_name</th>\n",
       "      <th>gross</th>\n",
       "      <th>movie_title</th>\n",
       "      <th>country</th>\n",
       "      <th>content_rating</th>\n",
       "      <th>imdb_score</th>\n",
       "    </tr>\n",
       "  </thead>\n",
       "  <tbody>\n",
       "    <tr>\n",
       "      <th>4498</th>\n",
       "      <td>Sergio Leone</td>\n",
       "      <td>6100000.0</td>\n",
       "      <td>The Good, the Bad and the Ugly</td>\n",
       "      <td>Italy</td>\n",
       "      <td>Approved</td>\n",
       "      <td>8.9</td>\n",
       "    </tr>\n",
       "    <tr>\n",
       "      <th>270</th>\n",
       "      <td>Peter Jackson</td>\n",
       "      <td>313837577.0</td>\n",
       "      <td>The Lord of the Rings: The Fellowship of the R...</td>\n",
       "      <td>New Zealand</td>\n",
       "      <td>PG-13</td>\n",
       "      <td>8.8</td>\n",
       "    </tr>\n",
       "    <tr>\n",
       "      <th>4029</th>\n",
       "      <td>Fernando Meirelles</td>\n",
       "      <td>7563397.0</td>\n",
       "      <td>City of God</td>\n",
       "      <td>Brazil</td>\n",
       "      <td>R</td>\n",
       "      <td>8.7</td>\n",
       "    </tr>\n",
       "  </tbody>\n",
       "</table>\n",
       "</div>"
      ],
      "text/plain": [
       "           director_name        gross  \\\n",
       "4498        Sergio Leone    6100000.0   \n",
       "270        Peter Jackson  313837577.0   \n",
       "4029  Fernando Meirelles    7563397.0   \n",
       "\n",
       "                                            movie_title      country  \\\n",
       "4498                    The Good, the Bad and the Ugly         Italy   \n",
       "270   The Lord of the Rings: The Fellowship of the R...  New Zealand   \n",
       "4029                                       City of God        Brazil   \n",
       "\n",
       "     content_rating  imdb_score  \n",
       "4498       Approved         8.9  \n",
       "270           PG-13         8.8  \n",
       "4029              R         8.7  "
      ]
     },
     "execution_count": 67,
     "metadata": {},
     "output_type": "execute_result"
    }
   ],
   "source": [
    "mask = ((df.imdb_score > 8) & (df.country != 'USA') & (df.gross > 10**6))\n",
    "df[mask].nlargest(3, columns=['imdb_score'])"
   ]
  },
  {
   "cell_type": "markdown",
   "metadata": {},
   "source": [
    "## (5.2) Group membership and string filtering"
   ]
  },
  {
   "cell_type": "code",
   "execution_count": 68,
   "metadata": {},
   "outputs": [
    {
     "data": {
      "text/html": [
       "<div>\n",
       "<style scoped>\n",
       "    .dataframe tbody tr th:only-of-type {\n",
       "        vertical-align: middle;\n",
       "    }\n",
       "\n",
       "    .dataframe tbody tr th {\n",
       "        vertical-align: top;\n",
       "    }\n",
       "\n",
       "    .dataframe thead th {\n",
       "        text-align: right;\n",
       "    }\n",
       "</style>\n",
       "<table border=\"1\" class=\"dataframe\">\n",
       "  <thead>\n",
       "    <tr style=\"text-align: right;\">\n",
       "      <th></th>\n",
       "      <th>director_name</th>\n",
       "      <th>gross</th>\n",
       "      <th>movie_title</th>\n",
       "      <th>country</th>\n",
       "      <th>content_rating</th>\n",
       "      <th>imdb_score</th>\n",
       "    </tr>\n",
       "  </thead>\n",
       "  <tbody>\n",
       "    <tr>\n",
       "      <th>4747</th>\n",
       "      <td>Akira Kurosawa</td>\n",
       "      <td>269061.0</td>\n",
       "      <td>Seven Samurai</td>\n",
       "      <td>Japan</td>\n",
       "      <td>Unrated</td>\n",
       "      <td>8.7</td>\n",
       "    </tr>\n",
       "    <tr>\n",
       "      <th>2373</th>\n",
       "      <td>Hayao Miyazaki</td>\n",
       "      <td>10049886.0</td>\n",
       "      <td>Spirited Away</td>\n",
       "      <td>Japan</td>\n",
       "      <td>PG</td>\n",
       "      <td>8.6</td>\n",
       "    </tr>\n",
       "    <tr>\n",
       "      <th>2323</th>\n",
       "      <td>Hayao Miyazaki</td>\n",
       "      <td>2298191.0</td>\n",
       "      <td>Princess Mononoke</td>\n",
       "      <td>Japan</td>\n",
       "      <td>PG-13</td>\n",
       "      <td>8.4</td>\n",
       "    </tr>\n",
       "    <tr>\n",
       "      <th>2047</th>\n",
       "      <td>Hayao Miyazaki</td>\n",
       "      <td>4710455.0</td>\n",
       "      <td>Howl's Moving Castle</td>\n",
       "      <td>Japan</td>\n",
       "      <td>PG</td>\n",
       "      <td>8.2</td>\n",
       "    </tr>\n",
       "    <tr>\n",
       "      <th>3423</th>\n",
       "      <td>Katsuhiro Ôtomo</td>\n",
       "      <td>439162.0</td>\n",
       "      <td>Akira</td>\n",
       "      <td>Japan</td>\n",
       "      <td>R</td>\n",
       "      <td>8.1</td>\n",
       "    </tr>\n",
       "  </tbody>\n",
       "</table>\n",
       "</div>"
      ],
      "text/plain": [
       "        director_name       gross            movie_title country  \\\n",
       "4747   Akira Kurosawa    269061.0         Seven Samurai    Japan   \n",
       "2373   Hayao Miyazaki  10049886.0         Spirited Away    Japan   \n",
       "2323   Hayao Miyazaki   2298191.0     Princess Mononoke    Japan   \n",
       "2047   Hayao Miyazaki   4710455.0  Howl's Moving Castle    Japan   \n",
       "3423  Katsuhiro Ôtomo    439162.0                 Akira    Japan   \n",
       "\n",
       "     content_rating  imdb_score  \n",
       "4747        Unrated         8.7  \n",
       "2373             PG         8.6  \n",
       "2323          PG-13         8.4  \n",
       "2047             PG         8.2  \n",
       "3423              R         8.1  "
      ]
     },
     "execution_count": 68,
     "metadata": {},
     "output_type": "execute_result"
    }
   ],
   "source": [
    "# Top three movies from Japan or Hong Kong\n",
    "df[df.country.isin(['Japan', 'Hong Kong'])].nlargest(5, 'imdb_score')"
   ]
  },
  {
   "cell_type": "code",
   "execution_count": 69,
   "metadata": {},
   "outputs": [
    {
     "data": {
      "text/html": [
       "<div>\n",
       "<style scoped>\n",
       "    .dataframe tbody tr th:only-of-type {\n",
       "        vertical-align: middle;\n",
       "    }\n",
       "\n",
       "    .dataframe tbody tr th {\n",
       "        vertical-align: top;\n",
       "    }\n",
       "\n",
       "    .dataframe thead th {\n",
       "        text-align: right;\n",
       "    }\n",
       "</style>\n",
       "<table border=\"1\" class=\"dataframe\">\n",
       "  <thead>\n",
       "    <tr style=\"text-align: right;\">\n",
       "      <th></th>\n",
       "      <th>director_name</th>\n",
       "      <th>gross</th>\n",
       "      <th>movie_title</th>\n",
       "      <th>country</th>\n",
       "      <th>content_rating</th>\n",
       "      <th>imdb_score</th>\n",
       "    </tr>\n",
       "  </thead>\n",
       "  <tbody>\n",
       "    <tr>\n",
       "      <th>0</th>\n",
       "      <td>James Cameron</td>\n",
       "      <td>760505847.0</td>\n",
       "      <td>Avatar</td>\n",
       "      <td>USA</td>\n",
       "      <td>PG-13</td>\n",
       "      <td>7.9</td>\n",
       "    </tr>\n",
       "    <tr>\n",
       "      <th>1</th>\n",
       "      <td>Gore Verbinski</td>\n",
       "      <td>309404152.0</td>\n",
       "      <td>Pirates of the Caribbean: At World's End</td>\n",
       "      <td>USA</td>\n",
       "      <td>PG-13</td>\n",
       "      <td>7.1</td>\n",
       "    </tr>\n",
       "    <tr>\n",
       "      <th>2</th>\n",
       "      <td>Sam Mendes</td>\n",
       "      <td>200074175.0</td>\n",
       "      <td>Spectre</td>\n",
       "      <td>UK</td>\n",
       "      <td>PG-13</td>\n",
       "      <td>6.8</td>\n",
       "    </tr>\n",
       "  </tbody>\n",
       "</table>\n",
       "</div>"
      ],
      "text/plain": [
       "    director_name        gross                                movie_title  \\\n",
       "0   James Cameron  760505847.0                                    Avatar    \n",
       "1  Gore Verbinski  309404152.0  Pirates of the Caribbean: At World's End    \n",
       "2      Sam Mendes  200074175.0                                   Spectre    \n",
       "\n",
       "  country content_rating  imdb_score  \n",
       "0     USA          PG-13         7.9  \n",
       "1     USA          PG-13         7.1  \n",
       "2      UK          PG-13         6.8  "
      ]
     },
     "execution_count": 69,
     "metadata": {},
     "output_type": "execute_result"
    }
   ],
   "source": [
    "# Movies and TV shows NOT from scandinavia\n",
    "df[~df.country.isin(['Norway, Sweden', 'Denmark'])].head(3)"
   ]
  },
  {
   "cell_type": "code",
   "execution_count": 70,
   "metadata": {},
   "outputs": [
    {
     "data": {
      "text/html": [
       "<div>\n",
       "<style scoped>\n",
       "    .dataframe tbody tr th:only-of-type {\n",
       "        vertical-align: middle;\n",
       "    }\n",
       "\n",
       "    .dataframe tbody tr th {\n",
       "        vertical-align: top;\n",
       "    }\n",
       "\n",
       "    .dataframe thead th {\n",
       "        text-align: right;\n",
       "    }\n",
       "</style>\n",
       "<table border=\"1\" class=\"dataframe\">\n",
       "  <thead>\n",
       "    <tr style=\"text-align: right;\">\n",
       "      <th></th>\n",
       "      <th>director_name</th>\n",
       "      <th>gross</th>\n",
       "      <th>movie_title</th>\n",
       "      <th>country</th>\n",
       "      <th>content_rating</th>\n",
       "      <th>imdb_score</th>\n",
       "    </tr>\n",
       "  </thead>\n",
       "  <tbody>\n",
       "    <tr>\n",
       "      <th>270</th>\n",
       "      <td>Peter Jackson</td>\n",
       "      <td>313837577.0</td>\n",
       "      <td>The Lord of the Rings: The Fellowship of the R...</td>\n",
       "      <td>New Zealand</td>\n",
       "      <td>PG-13</td>\n",
       "      <td>8.8</td>\n",
       "    </tr>\n",
       "    <tr>\n",
       "      <th>339</th>\n",
       "      <td>Peter Jackson</td>\n",
       "      <td>377019252.0</td>\n",
       "      <td>The Lord of the Rings: The Return of the King</td>\n",
       "      <td>USA</td>\n",
       "      <td>PG-13</td>\n",
       "      <td>8.9</td>\n",
       "    </tr>\n",
       "    <tr>\n",
       "      <th>340</th>\n",
       "      <td>Peter Jackson</td>\n",
       "      <td>340478898.0</td>\n",
       "      <td>The Lord of the Rings: The Two Towers</td>\n",
       "      <td>USA</td>\n",
       "      <td>PG-13</td>\n",
       "      <td>8.7</td>\n",
       "    </tr>\n",
       "    <tr>\n",
       "      <th>1170</th>\n",
       "      <td>Andrew Niccol</td>\n",
       "      <td>24127895.0</td>\n",
       "      <td>Lord of War</td>\n",
       "      <td>USA</td>\n",
       "      <td>R</td>\n",
       "      <td>7.6</td>\n",
       "    </tr>\n",
       "    <tr>\n",
       "      <th>1974</th>\n",
       "      <td>Catherine Hardwicke</td>\n",
       "      <td>11008432.0</td>\n",
       "      <td>Lords of Dogtown</td>\n",
       "      <td>USA</td>\n",
       "      <td>PG-13</td>\n",
       "      <td>7.1</td>\n",
       "    </tr>\n",
       "  </tbody>\n",
       "</table>\n",
       "</div>"
      ],
      "text/plain": [
       "            director_name        gross  \\\n",
       "270         Peter Jackson  313837577.0   \n",
       "339         Peter Jackson  377019252.0   \n",
       "340         Peter Jackson  340478898.0   \n",
       "1170        Andrew Niccol   24127895.0   \n",
       "1974  Catherine Hardwicke   11008432.0   \n",
       "\n",
       "                                            movie_title      country  \\\n",
       "270   The Lord of the Rings: The Fellowship of the R...  New Zealand   \n",
       "339      The Lord of the Rings: The Return of the King           USA   \n",
       "340              The Lord of the Rings: The Two Towers           USA   \n",
       "1170                                       Lord of War           USA   \n",
       "1974                                  Lords of Dogtown           USA   \n",
       "\n",
       "     content_rating  imdb_score  \n",
       "270           PG-13         8.8  \n",
       "339           PG-13         8.9  \n",
       "340           PG-13         8.7  \n",
       "1170              R         7.6  \n",
       "1974          PG-13         7.1  "
      ]
     },
     "execution_count": 70,
     "metadata": {},
     "output_type": "execute_result"
    }
   ],
   "source": [
    "# Contains the word 'lord'\n",
    "mask = df.movie_title.str.lower().str.contains(\"lord\")\n",
    "\n",
    " # Gross better than 25 % of the movies\n",
    "mask = mask & (df.gross > df.gross.quantile(q=[0.25]).values[0])\n",
    "\n",
    "df[mask]"
   ]
  },
  {
   "cell_type": "markdown",
   "metadata": {},
   "source": [
    "# (6) Split-apply-combine and pivots"
   ]
  },
  {
   "cell_type": "markdown",
   "metadata": {},
   "source": [
    "## (6.1) The groupby operation"
   ]
  },
  {
   "cell_type": "markdown",
   "metadata": {},
   "source": [
    "![](https://data36.com/wp-content/uploads/2017/06/SQL-GROUP-BY-clause-768x540.png)\n",
    "\n",
    "*Image source is https://data36.com/sql-functions-beginners-tutorial-ep3/*"
   ]
  },
  {
   "cell_type": "code",
   "execution_count": 71,
   "metadata": {},
   "outputs": [
    {
     "data": {
      "text/html": [
       "<div>\n",
       "<style scoped>\n",
       "    .dataframe tbody tr th:only-of-type {\n",
       "        vertical-align: middle;\n",
       "    }\n",
       "\n",
       "    .dataframe tbody tr th {\n",
       "        vertical-align: top;\n",
       "    }\n",
       "\n",
       "    .dataframe thead th {\n",
       "        text-align: right;\n",
       "    }\n",
       "</style>\n",
       "<table border=\"1\" class=\"dataframe\">\n",
       "  <thead>\n",
       "    <tr style=\"text-align: right;\">\n",
       "      <th></th>\n",
       "      <th>country</th>\n",
       "      <th>imdb_score</th>\n",
       "    </tr>\n",
       "  </thead>\n",
       "  <tbody>\n",
       "    <tr>\n",
       "      <th>0</th>\n",
       "      <td>USA</td>\n",
       "      <td>7.9</td>\n",
       "    </tr>\n",
       "    <tr>\n",
       "      <th>1</th>\n",
       "      <td>USA</td>\n",
       "      <td>7.1</td>\n",
       "    </tr>\n",
       "    <tr>\n",
       "      <th>2</th>\n",
       "      <td>UK</td>\n",
       "      <td>6.8</td>\n",
       "    </tr>\n",
       "    <tr>\n",
       "      <th>3</th>\n",
       "      <td>USA</td>\n",
       "      <td>8.5</td>\n",
       "    </tr>\n",
       "    <tr>\n",
       "      <th>5</th>\n",
       "      <td>USA</td>\n",
       "      <td>6.6</td>\n",
       "    </tr>\n",
       "  </tbody>\n",
       "</table>\n",
       "</div>"
      ],
      "text/plain": [
       "  country  imdb_score\n",
       "0     USA         7.9\n",
       "1     USA         7.1\n",
       "2      UK         6.8\n",
       "3     USA         8.5\n",
       "5     USA         6.6"
      ]
     },
     "execution_count": 71,
     "metadata": {},
     "output_type": "execute_result"
    }
   ],
   "source": [
    "df[['country', 'imdb_score']].head()"
   ]
  },
  {
   "cell_type": "code",
   "execution_count": 72,
   "metadata": {},
   "outputs": [
    {
     "data": {
      "text/html": [
       "<div>\n",
       "<style scoped>\n",
       "    .dataframe tbody tr th:only-of-type {\n",
       "        vertical-align: middle;\n",
       "    }\n",
       "\n",
       "    .dataframe tbody tr th {\n",
       "        vertical-align: top;\n",
       "    }\n",
       "\n",
       "    .dataframe thead th {\n",
       "        text-align: right;\n",
       "    }\n",
       "</style>\n",
       "<table border=\"1\" class=\"dataframe\">\n",
       "  <thead>\n",
       "    <tr style=\"text-align: right;\">\n",
       "      <th></th>\n",
       "      <th>gross</th>\n",
       "      <th>imdb_score</th>\n",
       "    </tr>\n",
       "    <tr>\n",
       "      <th>country</th>\n",
       "      <th></th>\n",
       "      <th></th>\n",
       "    </tr>\n",
       "  </thead>\n",
       "  <tbody>\n",
       "    <tr>\n",
       "      <th>Afghanistan</th>\n",
       "      <td>1.127331e+06</td>\n",
       "      <td>7.4</td>\n",
       "    </tr>\n",
       "    <tr>\n",
       "      <th>Argentina</th>\n",
       "      <td>7.230936e+06</td>\n",
       "      <td>7.6</td>\n",
       "    </tr>\n",
       "    <tr>\n",
       "      <th>Aruba</th>\n",
       "      <td>1.007614e+07</td>\n",
       "      <td>4.8</td>\n",
       "    </tr>\n",
       "  </tbody>\n",
       "</table>\n",
       "</div>"
      ],
      "text/plain": [
       "                    gross  imdb_score\n",
       "country                              \n",
       "Afghanistan  1.127331e+06         7.4\n",
       "Argentina    7.230936e+06         7.6\n",
       "Aruba        1.007614e+07         4.8"
      ]
     },
     "execution_count": 72,
     "metadata": {},
     "output_type": "execute_result"
    }
   ],
   "source": [
    "df.groupby(df.country).mean().head(3)"
   ]
  },
  {
   "cell_type": "markdown",
   "metadata": {},
   "source": [
    "Directors with the most movies."
   ]
  },
  {
   "cell_type": "code",
   "execution_count": 73,
   "metadata": {},
   "outputs": [
    {
     "data": {
      "text/html": [
       "<div>\n",
       "<style scoped>\n",
       "    .dataframe tbody tr th:only-of-type {\n",
       "        vertical-align: middle;\n",
       "    }\n",
       "\n",
       "    .dataframe tbody tr th {\n",
       "        vertical-align: top;\n",
       "    }\n",
       "\n",
       "    .dataframe thead th {\n",
       "        text-align: right;\n",
       "    }\n",
       "</style>\n",
       "<table border=\"1\" class=\"dataframe\">\n",
       "  <thead>\n",
       "    <tr style=\"text-align: right;\">\n",
       "      <th></th>\n",
       "      <th>movie_title</th>\n",
       "    </tr>\n",
       "    <tr>\n",
       "      <th>director_name</th>\n",
       "      <th></th>\n",
       "    </tr>\n",
       "  </thead>\n",
       "  <tbody>\n",
       "    <tr>\n",
       "      <th>Steven Spielberg</th>\n",
       "      <td>25</td>\n",
       "    </tr>\n",
       "    <tr>\n",
       "      <th>Clint Eastwood</th>\n",
       "      <td>19</td>\n",
       "    </tr>\n",
       "    <tr>\n",
       "      <th>Woody Allen</th>\n",
       "      <td>19</td>\n",
       "    </tr>\n",
       "    <tr>\n",
       "      <th>Martin Scorsese</th>\n",
       "      <td>18</td>\n",
       "    </tr>\n",
       "    <tr>\n",
       "      <th>Ridley Scott</th>\n",
       "      <td>16</td>\n",
       "    </tr>\n",
       "  </tbody>\n",
       "</table>\n",
       "</div>"
      ],
      "text/plain": [
       "                  movie_title\n",
       "director_name                \n",
       "Steven Spielberg           25\n",
       "Clint Eastwood             19\n",
       "Woody Allen                19\n",
       "Martin Scorsese            18\n",
       "Ridley Scott               16"
      ]
     },
     "execution_count": 73,
     "metadata": {},
     "output_type": "execute_result"
    }
   ],
   "source": [
    "(df\n",
    " .groupby(df.director_name)\n",
    " .nunique()\n",
    " .movie_title\n",
    " .nlargest(5)\n",
    " .to_frame()\n",
    ")"
   ]
  },
  {
   "cell_type": "markdown",
   "metadata": {},
   "source": [
    "## (6.2) Several groups and aggregations\n",
    "\n",
    "A group can be a combination of columns, e.g. [`country`, `content_rating`]."
   ]
  },
  {
   "cell_type": "code",
   "execution_count": 74,
   "metadata": {},
   "outputs": [
    {
     "data": {
      "text/html": [
       "<div>\n",
       "<style scoped>\n",
       "    .dataframe tbody tr th:only-of-type {\n",
       "        vertical-align: middle;\n",
       "    }\n",
       "\n",
       "    .dataframe tbody tr th {\n",
       "        vertical-align: top;\n",
       "    }\n",
       "\n",
       "    .dataframe thead th {\n",
       "        text-align: right;\n",
       "    }\n",
       "</style>\n",
       "<table border=\"1\" class=\"dataframe\">\n",
       "  <thead>\n",
       "    <tr style=\"text-align: right;\">\n",
       "      <th></th>\n",
       "      <th></th>\n",
       "      <th>imdb_score</th>\n",
       "    </tr>\n",
       "    <tr>\n",
       "      <th>country</th>\n",
       "      <th>content_rating</th>\n",
       "      <th></th>\n",
       "    </tr>\n",
       "  </thead>\n",
       "  <tbody>\n",
       "    <tr>\n",
       "      <th>Afghanistan</th>\n",
       "      <th>PG-13</th>\n",
       "      <td>7.40</td>\n",
       "    </tr>\n",
       "    <tr>\n",
       "      <th>Argentina</th>\n",
       "      <th>R</th>\n",
       "      <td>7.60</td>\n",
       "    </tr>\n",
       "    <tr>\n",
       "      <th>Aruba</th>\n",
       "      <th>R</th>\n",
       "      <td>4.80</td>\n",
       "    </tr>\n",
       "    <tr>\n",
       "      <th rowspan=\"5\" valign=\"top\">Australia</th>\n",
       "      <th>G</th>\n",
       "      <td>6.30</td>\n",
       "    </tr>\n",
       "    <tr>\n",
       "      <th>PG</th>\n",
       "      <td>6.20</td>\n",
       "    </tr>\n",
       "    <tr>\n",
       "      <th>PG-13</th>\n",
       "      <td>6.59</td>\n",
       "    </tr>\n",
       "    <tr>\n",
       "      <th>R</th>\n",
       "      <td>6.53</td>\n",
       "    </tr>\n",
       "    <tr>\n",
       "      <th>Unrated</th>\n",
       "      <td>6.30</td>\n",
       "    </tr>\n",
       "    <tr>\n",
       "      <th>Belgium</th>\n",
       "      <th>R</th>\n",
       "      <td>7.10</td>\n",
       "    </tr>\n",
       "    <tr>\n",
       "      <th>Brazil</th>\n",
       "      <th>R</th>\n",
       "      <td>8.17</td>\n",
       "    </tr>\n",
       "  </tbody>\n",
       "</table>\n",
       "</div>"
      ],
      "text/plain": [
       "                            imdb_score\n",
       "country     content_rating            \n",
       "Afghanistan PG-13                 7.40\n",
       "Argentina   R                     7.60\n",
       "Aruba       R                     4.80\n",
       "Australia   G                     6.30\n",
       "            PG                    6.20\n",
       "            PG-13                 6.59\n",
       "            R                     6.53\n",
       "            Unrated               6.30\n",
       "Belgium     R                     7.10\n",
       "Brazil      R                     8.17"
      ]
     },
     "execution_count": 74,
     "metadata": {},
     "output_type": "execute_result"
    }
   ],
   "source": [
    "df.groupby(['country', 'content_rating']).mean().imdb_score.round(2).to_frame().head(10)"
   ]
  },
  {
   "cell_type": "markdown",
   "metadata": {},
   "source": [
    "Serveral aggregation functions may be used.   \n",
    "Below we see directors and their `average`, `max` and `min` imdb_scores."
   ]
  },
  {
   "cell_type": "code",
   "execution_count": 75,
   "metadata": {},
   "outputs": [
    {
     "data": {
      "text/html": [
       "<div>\n",
       "<style scoped>\n",
       "    .dataframe tbody tr th:only-of-type {\n",
       "        vertical-align: middle;\n",
       "    }\n",
       "\n",
       "    .dataframe tbody tr th {\n",
       "        vertical-align: top;\n",
       "    }\n",
       "\n",
       "    .dataframe thead th {\n",
       "        text-align: right;\n",
       "    }\n",
       "</style>\n",
       "<table border=\"1\" class=\"dataframe\">\n",
       "  <thead>\n",
       "    <tr style=\"text-align: right;\">\n",
       "      <th></th>\n",
       "      <th>mean</th>\n",
       "      <th>min</th>\n",
       "      <th>max</th>\n",
       "    </tr>\n",
       "    <tr>\n",
       "      <th>director_name</th>\n",
       "      <th></th>\n",
       "      <th></th>\n",
       "      <th></th>\n",
       "    </tr>\n",
       "  </thead>\n",
       "  <tbody>\n",
       "    <tr>\n",
       "      <th>Aaron Schneider</th>\n",
       "      <td>7.1</td>\n",
       "      <td>7.1</td>\n",
       "      <td>7.1</td>\n",
       "    </tr>\n",
       "    <tr>\n",
       "      <th>Aaron Seltzer</th>\n",
       "      <td>2.7</td>\n",
       "      <td>2.7</td>\n",
       "      <td>2.7</td>\n",
       "    </tr>\n",
       "  </tbody>\n",
       "</table>\n",
       "</div>"
      ],
      "text/plain": [
       "                 mean  min  max\n",
       "director_name                  \n",
       "Aaron Schneider   7.1  7.1  7.1\n",
       "Aaron Seltzer     2.7  2.7  2.7"
      ]
     },
     "execution_count": 75,
     "metadata": {},
     "output_type": "execute_result"
    }
   ],
   "source": [
    "(df\n",
    " .groupby(df.director_name)\n",
    " .agg(['mean', 'min', 'max'])\n",
    " .imdb_score\n",
    " .head(2)\n",
    ")"
   ]
  },
  {
   "cell_type": "code",
   "execution_count": 76,
   "metadata": {},
   "outputs": [
    {
     "data": {
      "text/html": [
       "<div>\n",
       "<style scoped>\n",
       "    .dataframe tbody tr th:only-of-type {\n",
       "        vertical-align: middle;\n",
       "    }\n",
       "\n",
       "    .dataframe tbody tr th {\n",
       "        vertical-align: top;\n",
       "    }\n",
       "\n",
       "    .dataframe thead th {\n",
       "        text-align: right;\n",
       "    }\n",
       "</style>\n",
       "<table border=\"1\" class=\"dataframe\">\n",
       "  <thead>\n",
       "    <tr style=\"text-align: right;\">\n",
       "      <th></th>\n",
       "      <th>mean</th>\n",
       "      <th>spread</th>\n",
       "      <th>nunique</th>\n",
       "    </tr>\n",
       "    <tr>\n",
       "      <th>director_name</th>\n",
       "      <th></th>\n",
       "      <th></th>\n",
       "      <th></th>\n",
       "    </tr>\n",
       "  </thead>\n",
       "  <tbody>\n",
       "    <tr>\n",
       "      <th>Adam McKay</th>\n",
       "      <td>6.916667</td>\n",
       "      <td>1.5</td>\n",
       "      <td>6</td>\n",
       "    </tr>\n",
       "    <tr>\n",
       "      <th>Adam Shankman</th>\n",
       "      <td>5.962500</td>\n",
       "      <td>2.2</td>\n",
       "      <td>7</td>\n",
       "    </tr>\n",
       "  </tbody>\n",
       "</table>\n",
       "</div>"
      ],
      "text/plain": [
       "                   mean  spread  nunique\n",
       "director_name                           \n",
       "Adam McKay     6.916667     1.5        6\n",
       "Adam Shankman  5.962500     2.2        7"
      ]
     },
     "execution_count": 76,
     "metadata": {},
     "output_type": "execute_result"
    }
   ],
   "source": [
    "def spread(series):\n",
    "    \"\"\"Custom aggregation function.\"\"\"\n",
    "    return series.max()  - series.min()\n",
    "\n",
    "\n",
    "(df\n",
    " .groupby(df.director_name)\n",
    " .agg(['mean', spread, 'nunique'])\n",
    " .imdb_score\n",
    " .loc[lambda df:df['nunique'] > 1, :]\n",
    " .head(2)\n",
    ")"
   ]
  },
  {
   "cell_type": "code",
   "execution_count": 77,
   "metadata": {},
   "outputs": [
    {
     "data": {
      "text/html": [
       "<div>\n",
       "<style scoped>\n",
       "    .dataframe tbody tr th:only-of-type {\n",
       "        vertical-align: middle;\n",
       "    }\n",
       "\n",
       "    .dataframe tbody tr th {\n",
       "        vertical-align: top;\n",
       "    }\n",
       "\n",
       "    .dataframe thead tr th {\n",
       "        text-align: left;\n",
       "    }\n",
       "\n",
       "    .dataframe thead tr:last-of-type th {\n",
       "        text-align: right;\n",
       "    }\n",
       "</style>\n",
       "<table border=\"1\" class=\"dataframe\">\n",
       "  <thead>\n",
       "    <tr>\n",
       "      <th></th>\n",
       "      <th></th>\n",
       "      <th colspan=\"2\" halign=\"left\">imdb_score</th>\n",
       "      <th colspan=\"2\" halign=\"left\">gross</th>\n",
       "    </tr>\n",
       "    <tr>\n",
       "      <th></th>\n",
       "      <th></th>\n",
       "      <th>mean</th>\n",
       "      <th>std</th>\n",
       "      <th>mean</th>\n",
       "      <th>max</th>\n",
       "    </tr>\n",
       "    <tr>\n",
       "      <th>country</th>\n",
       "      <th>content_rating</th>\n",
       "      <th></th>\n",
       "      <th></th>\n",
       "      <th></th>\n",
       "      <th></th>\n",
       "    </tr>\n",
       "  </thead>\n",
       "  <tbody>\n",
       "    <tr>\n",
       "      <th>Afghanistan</th>\n",
       "      <th>PG-13</th>\n",
       "      <td>7.400000</td>\n",
       "      <td>NaN</td>\n",
       "      <td>1.127331e+06</td>\n",
       "      <td>1127331.0</td>\n",
       "    </tr>\n",
       "    <tr>\n",
       "      <th>Argentina</th>\n",
       "      <th>R</th>\n",
       "      <td>7.600000</td>\n",
       "      <td>0.793725</td>\n",
       "      <td>7.230936e+06</td>\n",
       "      <td>20167424.0</td>\n",
       "    </tr>\n",
       "    <tr>\n",
       "      <th>Aruba</th>\n",
       "      <th>R</th>\n",
       "      <td>4.800000</td>\n",
       "      <td>NaN</td>\n",
       "      <td>1.007614e+07</td>\n",
       "      <td>10076136.0</td>\n",
       "    </tr>\n",
       "    <tr>\n",
       "      <th rowspan=\"5\" valign=\"top\">Australia</th>\n",
       "      <th>G</th>\n",
       "      <td>6.300000</td>\n",
       "      <td>0.707107</td>\n",
       "      <td>4.245900e+07</td>\n",
       "      <td>66600000.0</td>\n",
       "    </tr>\n",
       "    <tr>\n",
       "      <th>PG</th>\n",
       "      <td>6.200000</td>\n",
       "      <td>1.157584</td>\n",
       "      <td>5.703676e+07</td>\n",
       "      <td>257756197.0</td>\n",
       "    </tr>\n",
       "    <tr>\n",
       "      <th>PG-13</th>\n",
       "      <td>6.590000</td>\n",
       "      <td>0.744536</td>\n",
       "      <td>6.369501e+07</td>\n",
       "      <td>174635000.0</td>\n",
       "    </tr>\n",
       "    <tr>\n",
       "      <th>R</th>\n",
       "      <td>6.531579</td>\n",
       "      <td>0.855085</td>\n",
       "      <td>2.382520e+07</td>\n",
       "      <td>153629485.0</td>\n",
       "    </tr>\n",
       "    <tr>\n",
       "      <th>Unrated</th>\n",
       "      <td>6.300000</td>\n",
       "      <td>NaN</td>\n",
       "      <td>2.651070e+05</td>\n",
       "      <td>265107.0</td>\n",
       "    </tr>\n",
       "    <tr>\n",
       "      <th>Belgium</th>\n",
       "      <th>R</th>\n",
       "      <td>7.100000</td>\n",
       "      <td>NaN</td>\n",
       "      <td>1.357042e+06</td>\n",
       "      <td>1357042.0</td>\n",
       "    </tr>\n",
       "    <tr>\n",
       "      <th rowspan=\"2\" valign=\"top\">Brazil</th>\n",
       "      <th>R</th>\n",
       "      <td>8.175000</td>\n",
       "      <td>0.359398</td>\n",
       "      <td>3.385652e+06</td>\n",
       "      <td>7563397.0</td>\n",
       "    </tr>\n",
       "    <tr>\n",
       "      <th>Unrated</th>\n",
       "      <td>6.100000</td>\n",
       "      <td>NaN</td>\n",
       "      <td>2.026200e+04</td>\n",
       "      <td>20262.0</td>\n",
       "    </tr>\n",
       "    <tr>\n",
       "      <th>Cameroon</th>\n",
       "      <th>Not Rated</th>\n",
       "      <td>7.500000</td>\n",
       "      <td>NaN</td>\n",
       "      <td>3.263100e+04</td>\n",
       "      <td>32631.0</td>\n",
       "    </tr>\n",
       "    <tr>\n",
       "      <th rowspan=\"3\" valign=\"top\">Canada</th>\n",
       "      <th>G</th>\n",
       "      <td>2.800000</td>\n",
       "      <td>NaN</td>\n",
       "      <td>1.114452e+07</td>\n",
       "      <td>11144518.0</td>\n",
       "    </tr>\n",
       "    <tr>\n",
       "      <th>Not Rated</th>\n",
       "      <td>6.475000</td>\n",
       "      <td>0.741058</td>\n",
       "      <td>1.831962e+05</td>\n",
       "      <td>703002.0</td>\n",
       "    </tr>\n",
       "    <tr>\n",
       "      <th>PG</th>\n",
       "      <td>5.520000</td>\n",
       "      <td>1.023230</td>\n",
       "      <td>5.192535e+07</td>\n",
       "      <td>113006880.0</td>\n",
       "    </tr>\n",
       "  </tbody>\n",
       "</table>\n",
       "</div>"
      ],
      "text/plain": [
       "                           imdb_score                   gross             \n",
       "                                 mean       std          mean          max\n",
       "country     content_rating                                                \n",
       "Afghanistan PG-13            7.400000       NaN  1.127331e+06    1127331.0\n",
       "Argentina   R                7.600000  0.793725  7.230936e+06   20167424.0\n",
       "Aruba       R                4.800000       NaN  1.007614e+07   10076136.0\n",
       "Australia   G                6.300000  0.707107  4.245900e+07   66600000.0\n",
       "            PG               6.200000  1.157584  5.703676e+07  257756197.0\n",
       "            PG-13            6.590000  0.744536  6.369501e+07  174635000.0\n",
       "            R                6.531579  0.855085  2.382520e+07  153629485.0\n",
       "            Unrated          6.300000       NaN  2.651070e+05     265107.0\n",
       "Belgium     R                7.100000       NaN  1.357042e+06    1357042.0\n",
       "Brazil      R                8.175000  0.359398  3.385652e+06    7563397.0\n",
       "            Unrated          6.100000       NaN  2.026200e+04      20262.0\n",
       "Cameroon    Not Rated        7.500000       NaN  3.263100e+04      32631.0\n",
       "Canada      G                2.800000       NaN  1.114452e+07   11144518.0\n",
       "            Not Rated        6.475000  0.741058  1.831962e+05     703002.0\n",
       "            PG               5.520000  1.023230  5.192535e+07  113006880.0"
      ]
     },
     "execution_count": 77,
     "metadata": {},
     "output_type": "execute_result"
    }
   ],
   "source": [
    "funcs = {'imdb_score': [pd.Series.mean, pd.Series.std], 'gross': [pd.Series.mean, pd.Series.max]}\n",
    "\n",
    "df.groupby(['country', 'content_rating']).agg(funcs).head(15)"
   ]
  },
  {
   "cell_type": "markdown",
   "metadata": {},
   "source": [
    "Data source: https://github.com/highcharts/highcharts/blob/master/samples/data/world-population-history.csv"
   ]
  },
  {
   "cell_type": "code",
   "execution_count": 78,
   "metadata": {},
   "outputs": [],
   "source": [
    "df_world = pd.read_csv(f'data/world_population_history.csv')"
   ]
  },
  {
   "cell_type": "code",
   "execution_count": 79,
   "metadata": {},
   "outputs": [],
   "source": [
    "df_world = (df_world\n",
    "            .drop(columns=['Country Name', 'Country Code', 'Indicator Name', 'Indicator Code'])\n",
    "            .dropna(axis=1, how='all'))"
   ]
  },
  {
   "cell_type": "code",
   "execution_count": 80,
   "metadata": {},
   "outputs": [
    {
     "data": {
      "text/html": [
       "<div>\n",
       "<style scoped>\n",
       "    .dataframe tbody tr th:only-of-type {\n",
       "        vertical-align: middle;\n",
       "    }\n",
       "\n",
       "    .dataframe tbody tr th {\n",
       "        vertical-align: top;\n",
       "    }\n",
       "\n",
       "    .dataframe thead th {\n",
       "        text-align: right;\n",
       "    }\n",
       "</style>\n",
       "<table border=\"1\" class=\"dataframe\">\n",
       "  <thead>\n",
       "    <tr style=\"text-align: right;\">\n",
       "      <th></th>\n",
       "      <th>Data Source</th>\n",
       "      <th>World Development Indicators</th>\n",
       "      <th>1960</th>\n",
       "      <th>1961</th>\n",
       "      <th>1962</th>\n",
       "      <th>1963</th>\n",
       "      <th>1964</th>\n",
       "      <th>1965</th>\n",
       "      <th>1966</th>\n",
       "      <th>1967</th>\n",
       "      <th>...</th>\n",
       "      <th>2006</th>\n",
       "      <th>2007</th>\n",
       "      <th>2008</th>\n",
       "      <th>2009</th>\n",
       "      <th>2010</th>\n",
       "      <th>2011</th>\n",
       "      <th>2012</th>\n",
       "      <th>2013</th>\n",
       "      <th>2014</th>\n",
       "      <th>2015</th>\n",
       "    </tr>\n",
       "  </thead>\n",
       "  <tbody>\n",
       "    <tr>\n",
       "      <th>0</th>\n",
       "      <td>Aruba</td>\n",
       "      <td>ABW</td>\n",
       "      <td>56225.0</td>\n",
       "      <td>56695.0</td>\n",
       "      <td>57032.0</td>\n",
       "      <td>57360.0</td>\n",
       "      <td>57715.0</td>\n",
       "      <td>58055.0</td>\n",
       "      <td>58386.0</td>\n",
       "      <td>58726.0</td>\n",
       "      <td>...</td>\n",
       "      <td>101353.0</td>\n",
       "      <td>101453.0</td>\n",
       "      <td>101669.0</td>\n",
       "      <td>102053.0</td>\n",
       "      <td>102577.0</td>\n",
       "      <td>103187.0</td>\n",
       "      <td>103795.0</td>\n",
       "      <td>104341.0</td>\n",
       "      <td>104822.0</td>\n",
       "      <td>105000.0</td>\n",
       "    </tr>\n",
       "    <tr>\n",
       "      <th>1</th>\n",
       "      <td>Afghanistan</td>\n",
       "      <td>AFG</td>\n",
       "      <td>9345868.0</td>\n",
       "      <td>9533954.0</td>\n",
       "      <td>9731361.0</td>\n",
       "      <td>9938414.0</td>\n",
       "      <td>10152331.0</td>\n",
       "      <td>10372630.0</td>\n",
       "      <td>10604346.0</td>\n",
       "      <td>10854428.0</td>\n",
       "      <td>...</td>\n",
       "      <td>27294031.0</td>\n",
       "      <td>28004331.0</td>\n",
       "      <td>28803167.0</td>\n",
       "      <td>29708599.0</td>\n",
       "      <td>30696958.0</td>\n",
       "      <td>31731688.0</td>\n",
       "      <td>32758020.0</td>\n",
       "      <td>33736494.0</td>\n",
       "      <td>34656032.0</td>\n",
       "      <td>35530000.0</td>\n",
       "    </tr>\n",
       "    <tr>\n",
       "      <th>2</th>\n",
       "      <td>Angola</td>\n",
       "      <td>AGO</td>\n",
       "      <td>5866061.0</td>\n",
       "      <td>5980417.0</td>\n",
       "      <td>6093321.0</td>\n",
       "      <td>6203299.0</td>\n",
       "      <td>6309770.0</td>\n",
       "      <td>6414995.0</td>\n",
       "      <td>6523791.0</td>\n",
       "      <td>6642632.0</td>\n",
       "      <td>...</td>\n",
       "      <td>21759420.0</td>\n",
       "      <td>22549547.0</td>\n",
       "      <td>23369131.0</td>\n",
       "      <td>24218565.0</td>\n",
       "      <td>25096150.0</td>\n",
       "      <td>25998340.0</td>\n",
       "      <td>26920466.0</td>\n",
       "      <td>27859305.0</td>\n",
       "      <td>28813463.0</td>\n",
       "      <td>29784000.0</td>\n",
       "    </tr>\n",
       "    <tr>\n",
       "      <th>3</th>\n",
       "      <td>Albania</td>\n",
       "      <td>ALB</td>\n",
       "      <td>1711319.0</td>\n",
       "      <td>1762621.0</td>\n",
       "      <td>1814135.0</td>\n",
       "      <td>1864791.0</td>\n",
       "      <td>1914573.0</td>\n",
       "      <td>1965598.0</td>\n",
       "      <td>2022272.0</td>\n",
       "      <td>2081695.0</td>\n",
       "      <td>...</td>\n",
       "      <td>2947314.0</td>\n",
       "      <td>2927519.0</td>\n",
       "      <td>2913021.0</td>\n",
       "      <td>2905195.0</td>\n",
       "      <td>2900401.0</td>\n",
       "      <td>2895092.0</td>\n",
       "      <td>2889104.0</td>\n",
       "      <td>2880703.0</td>\n",
       "      <td>2876101.0</td>\n",
       "      <td>2879000.0</td>\n",
       "    </tr>\n",
       "    <tr>\n",
       "      <th>4</th>\n",
       "      <td>Andorra</td>\n",
       "      <td>AND</td>\n",
       "      <td>15370.0</td>\n",
       "      <td>16412.0</td>\n",
       "      <td>17469.0</td>\n",
       "      <td>18549.0</td>\n",
       "      <td>19647.0</td>\n",
       "      <td>20758.0</td>\n",
       "      <td>21890.0</td>\n",
       "      <td>23058.0</td>\n",
       "      <td>...</td>\n",
       "      <td>83861.0</td>\n",
       "      <td>84462.0</td>\n",
       "      <td>84449.0</td>\n",
       "      <td>83751.0</td>\n",
       "      <td>82431.0</td>\n",
       "      <td>80788.0</td>\n",
       "      <td>79223.0</td>\n",
       "      <td>78014.0</td>\n",
       "      <td>77281.0</td>\n",
       "      <td>77000.0</td>\n",
       "    </tr>\n",
       "  </tbody>\n",
       "</table>\n",
       "<p>5 rows × 58 columns</p>\n",
       "</div>"
      ],
      "text/plain": [
       "   Data Source World Development Indicators       1960       1961       1962  \\\n",
       "0        Aruba                          ABW    56225.0    56695.0    57032.0   \n",
       "1  Afghanistan                          AFG  9345868.0  9533954.0  9731361.0   \n",
       "2       Angola                          AGO  5866061.0  5980417.0  6093321.0   \n",
       "3      Albania                          ALB  1711319.0  1762621.0  1814135.0   \n",
       "4      Andorra                          AND    15370.0    16412.0    17469.0   \n",
       "\n",
       "        1963        1964        1965        1966        1967     ...      \\\n",
       "0    57360.0     57715.0     58055.0     58386.0     58726.0     ...       \n",
       "1  9938414.0  10152331.0  10372630.0  10604346.0  10854428.0     ...       \n",
       "2  6203299.0   6309770.0   6414995.0   6523791.0   6642632.0     ...       \n",
       "3  1864791.0   1914573.0   1965598.0   2022272.0   2081695.0     ...       \n",
       "4    18549.0     19647.0     20758.0     21890.0     23058.0     ...       \n",
       "\n",
       "         2006        2007        2008        2009        2010        2011  \\\n",
       "0    101353.0    101453.0    101669.0    102053.0    102577.0    103187.0   \n",
       "1  27294031.0  28004331.0  28803167.0  29708599.0  30696958.0  31731688.0   \n",
       "2  21759420.0  22549547.0  23369131.0  24218565.0  25096150.0  25998340.0   \n",
       "3   2947314.0   2927519.0   2913021.0   2905195.0   2900401.0   2895092.0   \n",
       "4     83861.0     84462.0     84449.0     83751.0     82431.0     80788.0   \n",
       "\n",
       "         2012        2013        2014        2015  \n",
       "0    103795.0    104341.0    104822.0    105000.0  \n",
       "1  32758020.0  33736494.0  34656032.0  35530000.0  \n",
       "2  26920466.0  27859305.0  28813463.0  29784000.0  \n",
       "3   2889104.0   2880703.0   2876101.0   2879000.0  \n",
       "4     79223.0     78014.0     77281.0     77000.0  \n",
       "\n",
       "[5 rows x 58 columns]"
      ]
     },
     "execution_count": 80,
     "metadata": {},
     "output_type": "execute_result"
    }
   ],
   "source": [
    "df_world.head()"
   ]
  },
  {
   "cell_type": "markdown",
   "metadata": {},
   "source": [
    "## (6.3) Unstacking and stacking"
   ]
  },
  {
   "cell_type": "markdown",
   "metadata": {},
   "source": [
    "Let's load a data set from [https://github.com/highcharts/highcharts](https://github.com/highcharts/highcharts/blob/master/samples/data/world-population-history.csv), which is not tidy.\n",
    "\n",
    ">  (1) Each variable you measure should be in one column.   \n",
    "   (2) Each different observation of that variable should be in a different row.   \n",
    "   (3) There should be one table for each \"kind\" of variable.   \n",
    "   (4) If you have multiple tables, they should include a column in the table that allows them to be linked.\n",
    "    \n",
    "\n",
    "\n",
    "\n",
    "Read [\"Tidy Data\" by H Wickham](https://www.jstatsoft.org/article/view/v059i10/v59i10.pdf) for more information."
   ]
  },
  {
   "cell_type": "code",
   "execution_count": 81,
   "metadata": {},
   "outputs": [],
   "source": [
    "df_world = pd.read_csv(f'data/world_population_history.csv')\n",
    "\n",
    "drop_cols = ['Country Name', 'Country Code', 'Indicator Name', 'Indicator Code', 'World Development Indicators']\n",
    "\n",
    "df_world = (df_world\n",
    "            .drop(columns=drop_cols)\n",
    "            .dropna(axis=1, how='all'))"
   ]
  },
  {
   "cell_type": "code",
   "execution_count": 82,
   "metadata": {},
   "outputs": [
    {
     "data": {
      "text/html": [
       "<div>\n",
       "<style scoped>\n",
       "    .dataframe tbody tr th:only-of-type {\n",
       "        vertical-align: middle;\n",
       "    }\n",
       "\n",
       "    .dataframe tbody tr th {\n",
       "        vertical-align: top;\n",
       "    }\n",
       "\n",
       "    .dataframe thead th {\n",
       "        text-align: right;\n",
       "    }\n",
       "</style>\n",
       "<table border=\"1\" class=\"dataframe\">\n",
       "  <thead>\n",
       "    <tr style=\"text-align: right;\">\n",
       "      <th></th>\n",
       "      <th>Data Source</th>\n",
       "      <th>1960</th>\n",
       "      <th>1961</th>\n",
       "      <th>1962</th>\n",
       "      <th>1963</th>\n",
       "    </tr>\n",
       "  </thead>\n",
       "  <tbody>\n",
       "    <tr>\n",
       "      <th>0</th>\n",
       "      <td>Aruba</td>\n",
       "      <td>56225.0</td>\n",
       "      <td>56695.0</td>\n",
       "      <td>57032.0</td>\n",
       "      <td>57360.0</td>\n",
       "    </tr>\n",
       "    <tr>\n",
       "      <th>1</th>\n",
       "      <td>Afghanistan</td>\n",
       "      <td>9345868.0</td>\n",
       "      <td>9533954.0</td>\n",
       "      <td>9731361.0</td>\n",
       "      <td>9938414.0</td>\n",
       "    </tr>\n",
       "    <tr>\n",
       "      <th>2</th>\n",
       "      <td>Angola</td>\n",
       "      <td>5866061.0</td>\n",
       "      <td>5980417.0</td>\n",
       "      <td>6093321.0</td>\n",
       "      <td>6203299.0</td>\n",
       "    </tr>\n",
       "    <tr>\n",
       "      <th>3</th>\n",
       "      <td>Albania</td>\n",
       "      <td>1711319.0</td>\n",
       "      <td>1762621.0</td>\n",
       "      <td>1814135.0</td>\n",
       "      <td>1864791.0</td>\n",
       "    </tr>\n",
       "    <tr>\n",
       "      <th>4</th>\n",
       "      <td>Andorra</td>\n",
       "      <td>15370.0</td>\n",
       "      <td>16412.0</td>\n",
       "      <td>17469.0</td>\n",
       "      <td>18549.0</td>\n",
       "    </tr>\n",
       "  </tbody>\n",
       "</table>\n",
       "</div>"
      ],
      "text/plain": [
       "   Data Source       1960       1961       1962       1963\n",
       "0        Aruba    56225.0    56695.0    57032.0    57360.0\n",
       "1  Afghanistan  9345868.0  9533954.0  9731361.0  9938414.0\n",
       "2       Angola  5866061.0  5980417.0  6093321.0  6203299.0\n",
       "3      Albania  1711319.0  1762621.0  1814135.0  1864791.0\n",
       "4      Andorra    15370.0    16412.0    17469.0    18549.0"
      ]
     },
     "execution_count": 82,
     "metadata": {},
     "output_type": "execute_result"
    }
   ],
   "source": [
    "df_world.iloc[:5, :5]"
   ]
  },
  {
   "cell_type": "code",
   "execution_count": 83,
   "metadata": {},
   "outputs": [
    {
     "data": {
      "text/html": [
       "<div>\n",
       "<style scoped>\n",
       "    .dataframe tbody tr th:only-of-type {\n",
       "        vertical-align: middle;\n",
       "    }\n",
       "\n",
       "    .dataframe tbody tr th {\n",
       "        vertical-align: top;\n",
       "    }\n",
       "\n",
       "    .dataframe thead th {\n",
       "        text-align: right;\n",
       "    }\n",
       "</style>\n",
       "<table border=\"1\" class=\"dataframe\">\n",
       "  <thead>\n",
       "    <tr style=\"text-align: right;\">\n",
       "      <th></th>\n",
       "      <th>Country</th>\n",
       "      <th>Year</th>\n",
       "      <th>Population</th>\n",
       "    </tr>\n",
       "  </thead>\n",
       "  <tbody>\n",
       "    <tr>\n",
       "      <th>0</th>\n",
       "      <td>Aruba</td>\n",
       "      <td>1960-01-01</td>\n",
       "      <td>56225.0</td>\n",
       "    </tr>\n",
       "    <tr>\n",
       "      <th>1</th>\n",
       "      <td>Aruba</td>\n",
       "      <td>1961-01-01</td>\n",
       "      <td>56695.0</td>\n",
       "    </tr>\n",
       "    <tr>\n",
       "      <th>2</th>\n",
       "      <td>Aruba</td>\n",
       "      <td>1962-01-01</td>\n",
       "      <td>57032.0</td>\n",
       "    </tr>\n",
       "    <tr>\n",
       "      <th>3</th>\n",
       "      <td>Aruba</td>\n",
       "      <td>1963-01-01</td>\n",
       "      <td>57360.0</td>\n",
       "    </tr>\n",
       "    <tr>\n",
       "      <th>4</th>\n",
       "      <td>Aruba</td>\n",
       "      <td>1964-01-01</td>\n",
       "      <td>57715.0</td>\n",
       "    </tr>\n",
       "  </tbody>\n",
       "</table>\n",
       "</div>"
      ],
      "text/plain": [
       "  Country       Year  Population\n",
       "0   Aruba 1960-01-01     56225.0\n",
       "1   Aruba 1961-01-01     56695.0\n",
       "2   Aruba 1962-01-01     57032.0\n",
       "3   Aruba 1963-01-01     57360.0\n",
       "4   Aruba 1964-01-01     57715.0"
      ]
     },
     "execution_count": 83,
     "metadata": {},
     "output_type": "execute_result"
    }
   ],
   "source": [
    "df_world_tidy = (df_world\n",
    " .set_index(['Data Source'])\n",
    " .stack(0)\n",
    " .rename('Population')\n",
    " .to_frame()\n",
    " .reset_index()\n",
    " .rename(columns={'level_1':'Year', 'Data Source':'Country'})\n",
    " .assign(Year=lambda df:pd.to_datetime(df.Year)))\n",
    "\n",
    "df_world_tidy.iloc[:5,:5]"
   ]
  },
  {
   "cell_type": "code",
   "execution_count": 84,
   "metadata": {},
   "outputs": [],
   "source": [
    "to_plot = (df_world_tidy\n",
    " .set_index(['Country', 'Year'])\n",
    " .unstack(level=0)\n",
    " .loc[:, (slice(None), ['Norway', 'Sweden'])])"
   ]
  },
  {
   "cell_type": "code",
   "execution_count": 85,
   "metadata": {},
   "outputs": [
    {
     "data": {
      "image/png": "[encoded data removed]",
      "text/plain": [
       "<Figure size 720x360 with 1 Axes>"
      ]
     },
     "metadata": {},
     "output_type": "display_data"
    }
   ],
   "source": [
    "# Return Index with requested level removed\n",
    "to_plot.columns = to_plot.columns.droplevel(0)\n",
    "\n",
    "(to_plot / 10**6).plot(grid=True, figsize=(10, 5));\n",
    "plt.ylabel('Population (millions)'); \n",
    "plt.ylim([0, 11]); plt.show()"
   ]
  },
  {
   "cell_type": "markdown",
   "metadata": {},
   "source": [
    "## (6.4) Pivoting and melting\n",
    "\n",
    "We'll show how pivoting and meling can help us create data for plotting."
   ]
  },
  {
   "cell_type": "code",
   "execution_count": 86,
   "metadata": {},
   "outputs": [
    {
     "data": {
      "text/html": [
       "<div>\n",
       "<style scoped>\n",
       "    .dataframe tbody tr th:only-of-type {\n",
       "        vertical-align: middle;\n",
       "    }\n",
       "\n",
       "    .dataframe tbody tr th {\n",
       "        vertical-align: top;\n",
       "    }\n",
       "\n",
       "    .dataframe thead th {\n",
       "        text-align: right;\n",
       "    }\n",
       "</style>\n",
       "<table border=\"1\" class=\"dataframe\">\n",
       "  <thead>\n",
       "    <tr style=\"text-align: right;\">\n",
       "      <th></th>\n",
       "      <th>Country</th>\n",
       "      <th>Year</th>\n",
       "      <th>Population</th>\n",
       "    </tr>\n",
       "  </thead>\n",
       "  <tbody>\n",
       "    <tr>\n",
       "      <th>0</th>\n",
       "      <td>Aruba</td>\n",
       "      <td>1960-01-01</td>\n",
       "      <td>56225.0</td>\n",
       "    </tr>\n",
       "    <tr>\n",
       "      <th>1</th>\n",
       "      <td>Aruba</td>\n",
       "      <td>1961-01-01</td>\n",
       "      <td>56695.0</td>\n",
       "    </tr>\n",
       "    <tr>\n",
       "      <th>2</th>\n",
       "      <td>Aruba</td>\n",
       "      <td>1962-01-01</td>\n",
       "      <td>57032.0</td>\n",
       "    </tr>\n",
       "  </tbody>\n",
       "</table>\n",
       "</div>"
      ],
      "text/plain": [
       "  Country       Year  Population\n",
       "0   Aruba 1960-01-01     56225.0\n",
       "1   Aruba 1961-01-01     56695.0\n",
       "2   Aruba 1962-01-01     57032.0"
      ]
     },
     "execution_count": 86,
     "metadata": {},
     "output_type": "execute_result"
    }
   ],
   "source": [
    "# The tidy data set\n",
    "df_world_tidy.head(3)"
   ]
  },
  {
   "cell_type": "markdown",
   "metadata": {},
   "source": [
    "The `.pivot()` method is more powerful than unstack. Both move rows up to the columns."
   ]
  },
  {
   "cell_type": "code",
   "execution_count": 87,
   "metadata": {},
   "outputs": [
    {
     "data": {
      "text/html": [
       "<div>\n",
       "<style scoped>\n",
       "    .dataframe tbody tr th:only-of-type {\n",
       "        vertical-align: middle;\n",
       "    }\n",
       "\n",
       "    .dataframe tbody tr th {\n",
       "        vertical-align: top;\n",
       "    }\n",
       "\n",
       "    .dataframe thead th {\n",
       "        text-align: right;\n",
       "    }\n",
       "</style>\n",
       "<table border=\"1\" class=\"dataframe\">\n",
       "  <thead>\n",
       "    <tr style=\"text-align: right;\">\n",
       "      <th>Country</th>\n",
       "      <th>Afghanistan</th>\n",
       "      <th>Albania</th>\n",
       "      <th>Algeria</th>\n",
       "      <th>American Samoa</th>\n",
       "      <th>Andorra</th>\n",
       "    </tr>\n",
       "    <tr>\n",
       "      <th>Year</th>\n",
       "      <th></th>\n",
       "      <th></th>\n",
       "      <th></th>\n",
       "      <th></th>\n",
       "      <th></th>\n",
       "    </tr>\n",
       "  </thead>\n",
       "  <tbody>\n",
       "    <tr>\n",
       "      <th>1960-01-01</th>\n",
       "      <td>9345868.0</td>\n",
       "      <td>1711319.0</td>\n",
       "      <td>11690153.0</td>\n",
       "      <td>21117.0</td>\n",
       "      <td>15370.0</td>\n",
       "    </tr>\n",
       "    <tr>\n",
       "      <th>1961-01-01</th>\n",
       "      <td>9533954.0</td>\n",
       "      <td>1762621.0</td>\n",
       "      <td>11985136.0</td>\n",
       "      <td>21882.0</td>\n",
       "      <td>16412.0</td>\n",
       "    </tr>\n",
       "    <tr>\n",
       "      <th>1962-01-01</th>\n",
       "      <td>9731361.0</td>\n",
       "      <td>1814135.0</td>\n",
       "      <td>12295970.0</td>\n",
       "      <td>22698.0</td>\n",
       "      <td>17469.0</td>\n",
       "    </tr>\n",
       "    <tr>\n",
       "      <th>1963-01-01</th>\n",
       "      <td>9938414.0</td>\n",
       "      <td>1864791.0</td>\n",
       "      <td>12626952.0</td>\n",
       "      <td>23520.0</td>\n",
       "      <td>18549.0</td>\n",
       "    </tr>\n",
       "    <tr>\n",
       "      <th>1964-01-01</th>\n",
       "      <td>10152331.0</td>\n",
       "      <td>1914573.0</td>\n",
       "      <td>12980267.0</td>\n",
       "      <td>24321.0</td>\n",
       "      <td>19647.0</td>\n",
       "    </tr>\n",
       "  </tbody>\n",
       "</table>\n",
       "</div>"
      ],
      "text/plain": [
       "Country     Afghanistan    Albania     Algeria  American Samoa  Andorra\n",
       "Year                                                                   \n",
       "1960-01-01    9345868.0  1711319.0  11690153.0         21117.0  15370.0\n",
       "1961-01-01    9533954.0  1762621.0  11985136.0         21882.0  16412.0\n",
       "1962-01-01    9731361.0  1814135.0  12295970.0         22698.0  17469.0\n",
       "1963-01-01    9938414.0  1864791.0  12626952.0         23520.0  18549.0\n",
       "1964-01-01   10152331.0  1914573.0  12980267.0         24321.0  19647.0"
      ]
     },
     "execution_count": 87,
     "metadata": {},
     "output_type": "execute_result"
    }
   ],
   "source": [
    "# Demonstrating the pivot method\n",
    "# Return reshaped DataFrame organized by given index / column values.\n",
    "df_world_pivot = df_world_tidy.pivot(index='Year', columns='Country', values='Population')\n",
    "df_world_pivot.iloc[:5, :5]"
   ]
  },
  {
   "cell_type": "code",
   "execution_count": 88,
   "metadata": {},
   "outputs": [],
   "source": [
    "# Drop every country where there are any missing values\n",
    "df_world_pivot = df_world_pivot.dropna(how='any', axis=1)"
   ]
  },
  {
   "cell_type": "code",
   "execution_count": 89,
   "metadata": {},
   "outputs": [
    {
     "data": {
      "text/html": [
       "<div>\n",
       "<style scoped>\n",
       "    .dataframe tbody tr th:only-of-type {\n",
       "        vertical-align: middle;\n",
       "    }\n",
       "\n",
       "    .dataframe tbody tr th {\n",
       "        vertical-align: top;\n",
       "    }\n",
       "\n",
       "    .dataframe thead th {\n",
       "        text-align: right;\n",
       "    }\n",
       "</style>\n",
       "<table border=\"1\" class=\"dataframe\">\n",
       "  <thead>\n",
       "    <tr style=\"text-align: right;\">\n",
       "      <th>Country</th>\n",
       "      <th>Afghanistan</th>\n",
       "      <th>Albania</th>\n",
       "      <th>Algeria</th>\n",
       "      <th>American Samoa</th>\n",
       "      <th>Andorra</th>\n",
       "    </tr>\n",
       "    <tr>\n",
       "      <th>Year</th>\n",
       "      <th></th>\n",
       "      <th></th>\n",
       "      <th></th>\n",
       "      <th></th>\n",
       "      <th></th>\n",
       "    </tr>\n",
       "  </thead>\n",
       "  <tbody>\n",
       "    <tr>\n",
       "      <th>1960-01-01</th>\n",
       "      <td>9345868.0</td>\n",
       "      <td>1711319.0</td>\n",
       "      <td>11690153.0</td>\n",
       "      <td>21117.0</td>\n",
       "      <td>15370.0</td>\n",
       "    </tr>\n",
       "    <tr>\n",
       "      <th>1961-01-01</th>\n",
       "      <td>9533954.0</td>\n",
       "      <td>1762621.0</td>\n",
       "      <td>11985136.0</td>\n",
       "      <td>21882.0</td>\n",
       "      <td>16412.0</td>\n",
       "    </tr>\n",
       "    <tr>\n",
       "      <th>1962-01-01</th>\n",
       "      <td>9731361.0</td>\n",
       "      <td>1814135.0</td>\n",
       "      <td>12295970.0</td>\n",
       "      <td>22698.0</td>\n",
       "      <td>17469.0</td>\n",
       "    </tr>\n",
       "    <tr>\n",
       "      <th>1963-01-01</th>\n",
       "      <td>9938414.0</td>\n",
       "      <td>1864791.0</td>\n",
       "      <td>12626952.0</td>\n",
       "      <td>23520.0</td>\n",
       "      <td>18549.0</td>\n",
       "    </tr>\n",
       "    <tr>\n",
       "      <th>1964-01-01</th>\n",
       "      <td>10152331.0</td>\n",
       "      <td>1914573.0</td>\n",
       "      <td>12980267.0</td>\n",
       "      <td>24321.0</td>\n",
       "      <td>19647.0</td>\n",
       "    </tr>\n",
       "  </tbody>\n",
       "</table>\n",
       "</div>"
      ],
      "text/plain": [
       "Country     Afghanistan    Albania     Algeria  American Samoa  Andorra\n",
       "Year                                                                   \n",
       "1960-01-01    9345868.0  1711319.0  11690153.0         21117.0  15370.0\n",
       "1961-01-01    9533954.0  1762621.0  11985136.0         21882.0  16412.0\n",
       "1962-01-01    9731361.0  1814135.0  12295970.0         22698.0  17469.0\n",
       "1963-01-01    9938414.0  1864791.0  12626952.0         23520.0  18549.0\n",
       "1964-01-01   10152331.0  1914573.0  12980267.0         24321.0  19647.0"
      ]
     },
     "execution_count": 89,
     "metadata": {},
     "output_type": "execute_result"
    }
   ],
   "source": [
    "# Compute the relative change since 1960\n",
    "df_world_rel = (df_world_pivot / df_world_pivot.iloc[0, :])\n",
    "df_world_pivot.iloc[:5, :5]"
   ]
  },
  {
   "cell_type": "markdown",
   "metadata": {},
   "source": [
    "The `.melt()` method is more powerful than stack. Both move columns up to the index.\n",
    "\n",
    "> `unstack` and `stack` are inverses.   \n",
    "  `pivot` and `melt` are inverses."
   ]
  },
  {
   "cell_type": "code",
   "execution_count": 90,
   "metadata": {},
   "outputs": [
    {
     "data": {
      "text/html": [
       "<div>\n",
       "<style scoped>\n",
       "    .dataframe tbody tr th:only-of-type {\n",
       "        vertical-align: middle;\n",
       "    }\n",
       "\n",
       "    .dataframe tbody tr th {\n",
       "        vertical-align: top;\n",
       "    }\n",
       "\n",
       "    .dataframe thead th {\n",
       "        text-align: right;\n",
       "    }\n",
       "</style>\n",
       "<table border=\"1\" class=\"dataframe\">\n",
       "  <thead>\n",
       "    <tr style=\"text-align: right;\">\n",
       "      <th></th>\n",
       "      <th>Year</th>\n",
       "      <th>Country</th>\n",
       "      <th>Population</th>\n",
       "    </tr>\n",
       "  </thead>\n",
       "  <tbody>\n",
       "    <tr>\n",
       "      <th>0</th>\n",
       "      <td>1960-01-01</td>\n",
       "      <td>Afghanistan</td>\n",
       "      <td>1.000000</td>\n",
       "    </tr>\n",
       "    <tr>\n",
       "      <th>1</th>\n",
       "      <td>1961-01-01</td>\n",
       "      <td>Afghanistan</td>\n",
       "      <td>1.020125</td>\n",
       "    </tr>\n",
       "    <tr>\n",
       "      <th>2</th>\n",
       "      <td>1962-01-01</td>\n",
       "      <td>Afghanistan</td>\n",
       "      <td>1.041247</td>\n",
       "    </tr>\n",
       "    <tr>\n",
       "      <th>3</th>\n",
       "      <td>1963-01-01</td>\n",
       "      <td>Afghanistan</td>\n",
       "      <td>1.063402</td>\n",
       "    </tr>\n",
       "    <tr>\n",
       "      <th>4</th>\n",
       "      <td>1964-01-01</td>\n",
       "      <td>Afghanistan</td>\n",
       "      <td>1.086291</td>\n",
       "    </tr>\n",
       "  </tbody>\n",
       "</table>\n",
       "</div>"
      ],
      "text/plain": [
       "        Year      Country  Population\n",
       "0 1960-01-01  Afghanistan    1.000000\n",
       "1 1961-01-01  Afghanistan    1.020125\n",
       "2 1962-01-01  Afghanistan    1.041247\n",
       "3 1963-01-01  Afghanistan    1.063402\n",
       "4 1964-01-01  Afghanistan    1.086291"
      ]
     },
     "execution_count": 90,
     "metadata": {},
     "output_type": "execute_result"
    }
   ],
   "source": [
    "df_world_rel = df_world_rel.reset_index().melt(id_vars='Year', value_name='Population')\n",
    "df_world_rel.iloc[:5, :5]"
   ]
  },
  {
   "cell_type": "code",
   "execution_count": 91,
   "metadata": {},
   "outputs": [
    {
     "data": {
      "image/png": "[encoded data removed]",
      "text/plain": [
       "<Figure size 720x360 with 1 Axes>"
      ]
     },
     "metadata": {},
     "output_type": "display_data"
    }
   ],
   "source": [
    "top_n = 5\n",
    "countries = (df_world_rel\n",
    "             .groupby('Country')\n",
    "             .max()\n",
    "             .Population\n",
    "             .nlargest(top_n)\n",
    "             .index)\n",
    "\n",
    "(df_world_rel\n",
    " .pivot(index='Year', columns='Country', values='Population')\n",
    " .loc[:, countries].plot(figsize=(10, 5)))\n",
    "plt.legend(bbox_to_anchor=(1,1));"
   ]
  },
  {
   "cell_type": "markdown",
   "metadata": {},
   "source": [
    "## (6.5) Merging"
   ]
  },
  {
   "cell_type": "markdown",
   "metadata": {},
   "source": [
    "![](https://www.dofactory.com/Images/sql-joins.png)\n",
    "\n",
    "*Image source is https://www.dofactory.com/sql/join*\n",
    "\n",
    "> **Tip.** Learning SQL is likely worth your time, see for instance [w3schools.com](https://www.w3schools.com/sql/default.asp) and [sqlzoo.net](https://sqlzoo.net/wiki/SELECT_names)."
   ]
  },
  {
   "cell_type": "markdown",
   "metadata": {},
   "source": [
    "Add a column showing every directors average imdb score."
   ]
  },
  {
   "cell_type": "code",
   "execution_count": 92,
   "metadata": {},
   "outputs": [
    {
     "data": {
      "text/html": [
       "<div>\n",
       "<style scoped>\n",
       "    .dataframe tbody tr th:only-of-type {\n",
       "        vertical-align: middle;\n",
       "    }\n",
       "\n",
       "    .dataframe tbody tr th {\n",
       "        vertical-align: top;\n",
       "    }\n",
       "\n",
       "    .dataframe thead th {\n",
       "        text-align: right;\n",
       "    }\n",
       "</style>\n",
       "<table border=\"1\" class=\"dataframe\">\n",
       "  <thead>\n",
       "    <tr style=\"text-align: right;\">\n",
       "      <th></th>\n",
       "      <th>director_imdb_score</th>\n",
       "    </tr>\n",
       "    <tr>\n",
       "      <th>director_name</th>\n",
       "      <th></th>\n",
       "    </tr>\n",
       "  </thead>\n",
       "  <tbody>\n",
       "    <tr>\n",
       "      <th>Aaron Schneider</th>\n",
       "      <td>7.1</td>\n",
       "    </tr>\n",
       "  </tbody>\n",
       "</table>\n",
       "</div>"
      ],
      "text/plain": [
       "                 director_imdb_score\n",
       "director_name                       \n",
       "Aaron Schneider                  7.1"
      ]
     },
     "execution_count": 92,
     "metadata": {},
     "output_type": "execute_result"
    }
   ],
   "source": [
    "director_means = (df.groupby(df.director_name).mean().round(1)\n",
    "                  .loc[:, ['imdb_score']]\n",
    "                  .rename(columns={'imdb_score':'director_imdb_score'}))\n",
    "director_means.head(1)"
   ]
  },
  {
   "cell_type": "code",
   "execution_count": 93,
   "metadata": {},
   "outputs": [
    {
     "data": {
      "text/html": [
       "<div>\n",
       "<style scoped>\n",
       "    .dataframe tbody tr th:only-of-type {\n",
       "        vertical-align: middle;\n",
       "    }\n",
       "\n",
       "    .dataframe tbody tr th {\n",
       "        vertical-align: top;\n",
       "    }\n",
       "\n",
       "    .dataframe thead th {\n",
       "        text-align: right;\n",
       "    }\n",
       "</style>\n",
       "<table border=\"1\" class=\"dataframe\">\n",
       "  <thead>\n",
       "    <tr style=\"text-align: right;\">\n",
       "      <th></th>\n",
       "      <th>director_name</th>\n",
       "      <th>gross</th>\n",
       "      <th>movie_title</th>\n",
       "      <th>country</th>\n",
       "      <th>content_rating</th>\n",
       "      <th>imdb_score</th>\n",
       "      <th>director_imdb_score</th>\n",
       "    </tr>\n",
       "  </thead>\n",
       "  <tbody>\n",
       "    <tr>\n",
       "      <th>0</th>\n",
       "      <td>James Cameron</td>\n",
       "      <td>760505847.0</td>\n",
       "      <td>Avatar</td>\n",
       "      <td>USA</td>\n",
       "      <td>PG-13</td>\n",
       "      <td>7.9</td>\n",
       "      <td>7.9</td>\n",
       "    </tr>\n",
       "    <tr>\n",
       "      <th>1</th>\n",
       "      <td>Gore Verbinski</td>\n",
       "      <td>309404152.0</td>\n",
       "      <td>Pirates of the Caribbean: At World's End</td>\n",
       "      <td>USA</td>\n",
       "      <td>PG-13</td>\n",
       "      <td>7.1</td>\n",
       "      <td>7.0</td>\n",
       "    </tr>\n",
       "    <tr>\n",
       "      <th>2</th>\n",
       "      <td>Sam Mendes</td>\n",
       "      <td>200074175.0</td>\n",
       "      <td>Spectre</td>\n",
       "      <td>UK</td>\n",
       "      <td>PG-13</td>\n",
       "      <td>6.8</td>\n",
       "      <td>7.5</td>\n",
       "    </tr>\n",
       "    <tr>\n",
       "      <th>3</th>\n",
       "      <td>Christopher Nolan</td>\n",
       "      <td>448130642.0</td>\n",
       "      <td>The Dark Knight Rises</td>\n",
       "      <td>USA</td>\n",
       "      <td>PG-13</td>\n",
       "      <td>8.5</td>\n",
       "      <td>8.4</td>\n",
       "    </tr>\n",
       "    <tr>\n",
       "      <th>5</th>\n",
       "      <td>Andrew Stanton</td>\n",
       "      <td>73058679.0</td>\n",
       "      <td>John Carter</td>\n",
       "      <td>USA</td>\n",
       "      <td>PG-13</td>\n",
       "      <td>6.6</td>\n",
       "      <td>7.7</td>\n",
       "    </tr>\n",
       "  </tbody>\n",
       "</table>\n",
       "</div>"
      ],
      "text/plain": [
       "       director_name        gross                                movie_title  \\\n",
       "0      James Cameron  760505847.0                                    Avatar    \n",
       "1     Gore Verbinski  309404152.0  Pirates of the Caribbean: At World's End    \n",
       "2         Sam Mendes  200074175.0                                   Spectre    \n",
       "3  Christopher Nolan  448130642.0                     The Dark Knight Rises    \n",
       "5     Andrew Stanton   73058679.0                               John Carter    \n",
       "\n",
       "  country content_rating  imdb_score  director_imdb_score  \n",
       "0     USA          PG-13         7.9                  7.9  \n",
       "1     USA          PG-13         7.1                  7.0  \n",
       "2      UK          PG-13         6.8                  7.5  \n",
       "3     USA          PG-13         8.5                  8.4  \n",
       "5     USA          PG-13         6.6                  7.7  "
      ]
     },
     "execution_count": 93,
     "metadata": {},
     "output_type": "execute_result"
    }
   ],
   "source": [
    "df.merge(director_means, how='left', left_on='director_name', right_index=True).head()"
   ]
  },
  {
   "cell_type": "markdown",
   "metadata": {},
   "source": [
    "The inner join, or `merge(how='inner')` can be used if you want the intersection."
   ]
  },
  {
   "cell_type": "code",
   "execution_count": 94,
   "metadata": {},
   "outputs": [
    {
     "data": {
      "text/html": [
       "<div>\n",
       "<style scoped>\n",
       "    .dataframe tbody tr th:only-of-type {\n",
       "        vertical-align: middle;\n",
       "    }\n",
       "\n",
       "    .dataframe tbody tr th {\n",
       "        vertical-align: top;\n",
       "    }\n",
       "\n",
       "    .dataframe thead th {\n",
       "        text-align: right;\n",
       "    }\n",
       "</style>\n",
       "<table border=\"1\" class=\"dataframe\">\n",
       "  <thead>\n",
       "    <tr style=\"text-align: right;\">\n",
       "      <th></th>\n",
       "      <th>imdb_score_USA</th>\n",
       "      <th>imdb_score_Canada</th>\n",
       "    </tr>\n",
       "    <tr>\n",
       "      <th>director_name</th>\n",
       "      <th></th>\n",
       "      <th></th>\n",
       "    </tr>\n",
       "  </thead>\n",
       "  <tbody>\n",
       "    <tr>\n",
       "      <th>Adam Shankman</th>\n",
       "      <td>6.2</td>\n",
       "      <td>5.5</td>\n",
       "    </tr>\n",
       "    <tr>\n",
       "      <th>Andrzej Bartkowiak</th>\n",
       "      <td>5.8</td>\n",
       "      <td>3.7</td>\n",
       "    </tr>\n",
       "    <tr>\n",
       "      <th>Atom Egoyan</th>\n",
       "      <td>6.3</td>\n",
       "      <td>7.0</td>\n",
       "    </tr>\n",
       "    <tr>\n",
       "      <th>Bennett Miller</th>\n",
       "      <td>7.6</td>\n",
       "      <td>7.4</td>\n",
       "    </tr>\n",
       "    <tr>\n",
       "      <th>Bob Clark</th>\n",
       "      <td>2.5</td>\n",
       "      <td>6.2</td>\n",
       "    </tr>\n",
       "  </tbody>\n",
       "</table>\n",
       "</div>"
      ],
      "text/plain": [
       "                    imdb_score_USA  imdb_score_Canada\n",
       "director_name                                        \n",
       "Adam Shankman                  6.2                5.5\n",
       "Andrzej Bartkowiak             5.8                3.7\n",
       "Atom Egoyan                    6.3                7.0\n",
       "Bennett Miller                 7.6                7.4\n",
       "Bob Clark                      2.5                6.2"
      ]
     },
     "execution_count": 94,
     "metadata": {},
     "output_type": "execute_result"
    }
   ],
   "source": [
    "# For every director which has made movies in the USA and Cananda\n",
    "# get average imdb scores for both locations\n",
    "\n",
    "american_directors = (df[df.country == 'USA'].groupby('director_name')\n",
    "                      .mean().imdb_score.to_frame())\n",
    "canadian_directors = (df[df.country == 'Canada'].groupby('director_name')\n",
    "                      .mean().imdb_score.to_frame())\n",
    "\n",
    "(american_directors.merge(canadian_directors, how='inner', \n",
    "                          left_index=True, right_index=True, \n",
    "                          suffixes=('_USA', '_Canada'))\n",
    "                   .round(1)\n",
    "                   .head())"
   ]
  },
  {
   "cell_type": "markdown",
   "metadata": {},
   "source": [
    "# (7) Plotting"
   ]
  },
  {
   "cell_type": "markdown",
   "metadata": {},
   "source": [
    "## (7.1) Built-in `plot()` methods\n",
    "\n",
    "\n",
    "Excellent for creating plots quickly. The downside is less control.\n",
    "\n",
    "The built in plot options are:\n",
    "\n",
    "- `line` : line plot (default)\n",
    "- `bar` : vertical bar plot\n",
    "- `barh` : horizontal bar plot\n",
    "- `hist` : histogram\n",
    "- `box` : boxplot\n",
    "- `kde` : Kernel Density Estimation plot\n",
    "- `density` : same as ‘kde’\n",
    "- `area` : area plot\n",
    "- `pie` : pie plot\n",
    "- `scatter` : scatter plot\n",
    "- `hexbin` : hexbin plot\n",
    "\n"
   ]
  },
  {
   "cell_type": "code",
   "execution_count": 95,
   "metadata": {},
   "outputs": [
    {
     "data": {
      "image/png": "[encoded data removed]",
      "text/plain": [
       "<Figure size 720x360 with 1 Axes>"
      ]
     },
     "metadata": {},
     "output_type": "display_data"
    }
   ],
   "source": [
    "# Plot countries by number of occurences\n",
    "(df.country\n",
    " .value_counts()\n",
    " .head(n=10)\n",
    " .sort_values(ascending=True)\n",
    " .to_frame()\n",
    " .plot.barh(figsize=(10, 5)));"
   ]
  },
  {
   "cell_type": "code",
   "execution_count": 96,
   "metadata": {},
   "outputs": [
    {
     "data": {
      "image/png": "[encoded data removed]",
      "text/plain": [
       "<Figure size 720x360 with 1 Axes>"
      ]
     },
     "metadata": {},
     "output_type": "display_data"
    }
   ],
   "source": [
    "(df.country\n",
    " .value_counts()\n",
    " .head(n=10)\n",
    " .apply(np.log10)\n",
    " .sort_values(ascending=True)\n",
    " .to_frame()\n",
    " .plot.barh(grid=True, color='green', fontsize=15, \n",
    "            title='Number of movies (log) per country', figsize=(10, 5)));"
   ]
  },
  {
   "cell_type": "code",
   "execution_count": 97,
   "metadata": {},
   "outputs": [
    {
     "data": {
      "text/plain": [
       "<matplotlib.axes._subplots.AxesSubplot at 0x23baca59630>"
      ]
     },
     "execution_count": 97,
     "metadata": {},
     "output_type": "execute_result"
    },
    {
     "data": {
      "image/png": "[encoded data removed]",
      "text/plain": [
       "<Figure size 720x360 with 1 Axes>"
      ]
     },
     "metadata": {},
     "output_type": "display_data"
    }
   ],
   "source": [
    "countries = set(['Norway', 'Sweden', 'Denmark'])\n",
    "df_world_pivot.loc[:, countries].plot(linewidth=3, title='Population growth', \n",
    "                                      fontsize=14, figsize=(10, 5))"
   ]
  },
  {
   "cell_type": "markdown",
   "metadata": {},
   "source": [
    "## (7.2) Using matplotlib\n",
    "\n",
    "Greater control. Allows creating of publication-quality plots.   \n",
    "Does require more code and knowledge of matplotlib."
   ]
  },
  {
   "cell_type": "code",
   "execution_count": 98,
   "metadata": {},
   "outputs": [
    {
     "data": {
      "image/png": "[encoded data removed]",
      "text/plain": [
       "<Figure size 720x360 with 1 Axes>"
      ]
     },
     "metadata": {},
     "output_type": "display_data"
    }
   ],
   "source": [
    "fig, ax = plt.subplots(figsize=(10, 5))\n",
    "\n",
    "ax = (df_world_pivot.loc[:, countries] / 10**6).plot(ax=ax, lw=3, zorder=50)\n",
    "\n",
    "ax.set_title('Population growth', fontsize=17)\n",
    "ax.legend(fontsize=14, loc='upper left')\n",
    "ax.tick_params(axis='both', which='both', labelsize=14)\n",
    "ax.set_ylabel('Population (millions)', fontsize=14)\n",
    "ax.set_xlabel(ax.get_xlabel(), fontsize=14)\n",
    "ax.grid(True, zorder=-50, ls='--')\n",
    "ax.set_ylim([3, 11]);\n",
    "\n",
    "#plt.savefig('my_figure.pdf')"
   ]
  },
  {
   "cell_type": "code",
   "execution_count": 99,
   "metadata": {},
   "outputs": [
    {
     "data": {
      "image/png": "[encoded data removed]",
      "text/plain": [
       "<Figure size 720x360 with 1 Axes>"
      ]
     },
     "metadata": {},
     "output_type": "display_data"
    }
   ],
   "source": [
    "fig, ax = plt.subplots(figsize=(10, 5))\n",
    "\n",
    "# Compute kernel density estimates\n",
    "from KDEpy import FFTKDE\n",
    "data = df[['imdb_score', 'gross']].dropna(how='any')\n",
    "\n",
    "kde = FFTKDE(bw='ISJ', kernel='gaussian')\n",
    "\n",
    "x, y = kde.fit(data.imdb_score.values).evaluate()\n",
    "ax.plot(x, y, label='imdb_score', lw=2)\n",
    "\n",
    "y = kde.fit(data.imdb_score.values, weights=data.gross.values).evaluate(x)\n",
    "ax.plot(x, y, label='imdb_score weighted by gross', lw=2)\n",
    "\n",
    "ax.set_title('Score distribution', fontsize=17)\n",
    "ax.legend(fontsize=14, loc='upper left')\n",
    "ax.tick_params(axis='x', which='both', labelsize=14)\n",
    "ax.set_yticklabels([])\n",
    "ax.set_xlabel('Score', fontsize=14)\n",
    "ax.grid(True, zorder=-50, ls='--')\n",
    "ax.set_xlim([0, 10]);\n",
    "\n",
    "#plt.savefig('my_figure.pdf')"
   ]
  },
  {
   "cell_type": "markdown",
   "metadata": {},
   "source": [
    "# (8) Time series manipulations"
   ]
  },
  {
   "cell_type": "markdown",
   "metadata": {},
   "source": [
    "## (8.1) `.dt` accessor\n",
    "\n",
    "Let's load a data set showing the popularity of the search words `python pandas`, `sas enterprise guide` and `microsoft excel` over the last 5 years. The data was fetched from Google Trends."
   ]
  },
  {
   "cell_type": "code",
   "execution_count": 100,
   "metadata": {},
   "outputs": [
    {
     "data": {
      "text/html": [
       "<div>\n",
       "<style scoped>\n",
       "    .dataframe tbody tr th:only-of-type {\n",
       "        vertical-align: middle;\n",
       "    }\n",
       "\n",
       "    .dataframe tbody tr th {\n",
       "        vertical-align: top;\n",
       "    }\n",
       "\n",
       "    .dataframe thead th {\n",
       "        text-align: right;\n",
       "    }\n",
       "</style>\n",
       "<table border=\"1\" class=\"dataframe\">\n",
       "  <thead>\n",
       "    <tr style=\"text-align: right;\">\n",
       "      <th></th>\n",
       "      <th>Week</th>\n",
       "      <th>python pandas: (Worldwide)</th>\n",
       "      <th>sas enterprise guide: (Worldwide)</th>\n",
       "      <th>microsoft excel: (Worldwide)</th>\n",
       "    </tr>\n",
       "  </thead>\n",
       "  <tbody>\n",
       "    <tr>\n",
       "      <th>0</th>\n",
       "      <td>2013-12-22</td>\n",
       "      <td>2</td>\n",
       "      <td>1</td>\n",
       "      <td>53</td>\n",
       "    </tr>\n",
       "    <tr>\n",
       "      <th>1</th>\n",
       "      <td>2013-12-29</td>\n",
       "      <td>2</td>\n",
       "      <td>1</td>\n",
       "      <td>62</td>\n",
       "    </tr>\n",
       "  </tbody>\n",
       "</table>\n",
       "</div>"
      ],
      "text/plain": [
       "         Week  python pandas: (Worldwide) sas enterprise guide: (Worldwide)  \\\n",
       "0  2013-12-22                           2                                 1   \n",
       "1  2013-12-29                           2                                 1   \n",
       "\n",
       "   microsoft excel: (Worldwide)  \n",
       "0                            53  \n",
       "1                            62  "
      ]
     },
     "execution_count": 100,
     "metadata": {},
     "output_type": "execute_result"
    }
   ],
   "source": [
    "df_trends = pd.read_csv(r'data/google_trends.csv')\n",
    "df_trends.head(2)"
   ]
  },
  {
   "cell_type": "code",
   "execution_count": 101,
   "metadata": {},
   "outputs": [],
   "source": [
    "# Some values are assigned `<1`, we set these to zero\n",
    "for col in df_trends.columns:\n",
    "    if df_trends[col].dtype != object:\n",
    "        continue\n",
    "    try:\n",
    "        df_trends[col] = np.where(df_trends[col] == '<1', 0, df_trends[col])\n",
    "        df_trends[col] = df_trends[col].apply(np.int)\n",
    "    except:\n",
    "        pass\n",
    "\n",
    "    \n",
    "# Change column names, set the 'Week' column to datetime, and use it as index\n",
    "df_trends.columns = [c.split(':')[0] if ':' in c else c for c in df_trends.columns]\n",
    "df_trends['Date'] = pd.to_datetime(df_trends['Week'])\n",
    "df_trends = df_trends.set_index('Date').drop(columns='Week')"
   ]
  },
  {
   "cell_type": "code",
   "execution_count": 102,
   "metadata": {},
   "outputs": [
    {
     "data": {
      "image/png": "[encoded data removed]",
      "text/plain": [
       "<Figure size 720x360 with 1 Axes>"
      ]
     },
     "metadata": {},
     "output_type": "display_data"
    }
   ],
   "source": [
    "fig, ax = plt.subplots(figsize=(10, 5))\n",
    "ax = df_trends.plot(ax=ax, lw=3, fontsize=16)\n",
    "ax.set_xlabel('Date', fontsize=16); ax.set_yticks([]);\n",
    "fig.savefig('pandas_vs_excel_vs_sas.png', dpi=100)"
   ]
  },
  {
   "cell_type": "code",
   "execution_count": 103,
   "metadata": {},
   "outputs": [
    {
     "data": {
      "text/plain": [
       "<matplotlib.axes._subplots.AxesSubplot at 0x23bab732748>"
      ]
     },
     "execution_count": 103,
     "metadata": {},
     "output_type": "execute_result"
    },
    {
     "data": {
      "image/png": "[encoded data removed]",
      "text/plain": [
       "<Figure size 720x360 with 1 Axes>"
      ]
     },
     "metadata": {},
     "output_type": "display_data"
    }
   ],
   "source": [
    "(df_trends\n",
    " .assign(week_of_year=lambda df: df.index.to_series().dt.week)\n",
    " .groupby('week_of_year')\n",
    " .mean()\n",
    ".plot(figsize=(10, 5)))"
   ]
  },
  {
   "cell_type": "code",
   "execution_count": 104,
   "metadata": {},
   "outputs": [
    {
     "data": {
      "text/plain": [
       "<matplotlib.axes._subplots.AxesSubplot at 0x23bac992dd8>"
      ]
     },
     "execution_count": 104,
     "metadata": {},
     "output_type": "execute_result"
    },
    {
     "data": {
      "image/png": "[encoded data removed]",
      "text/plain": [
       "<Figure size 720x360 with 1 Axes>"
      ]
     },
     "metadata": {},
     "output_type": "display_data"
    }
   ],
   "source": [
    "(df_trends\n",
    " .assign(month=lambda df: df.index.to_series().dt.month)\n",
    " .groupby('month')\n",
    " .mean()\n",
    ".plot(figsize=(10, 5)))"
   ]
  },
  {
   "cell_type": "markdown",
   "metadata": {},
   "source": [
    "## (8.2) Rolling window functions"
   ]
  },
  {
   "cell_type": "code",
   "execution_count": 105,
   "metadata": {},
   "outputs": [
    {
     "data": {
      "image/png": "[encoded data removed]",
      "text/plain": [
       "<Figure size 720x360 with 1 Axes>"
      ]
     },
     "metadata": {},
     "output_type": "display_data"
    }
   ],
   "source": [
    "window = 48\n",
    "fig, ax = plt.subplots(figsize=(10, 5))\n",
    "ax = df_trends.plot(legend=False, lw=1, ax=ax);\n",
    "df_trends.rolling(window, win_type='triang', center=True).mean().plot(ax=ax, lw=3);"
   ]
  },
  {
   "cell_type": "code",
   "execution_count": 106,
   "metadata": {},
   "outputs": [
    {
     "data": {
      "image/png": "[encoded data removed]",
      "text/plain": [
       "<Figure size 720x360 with 1 Axes>"
      ]
     },
     "metadata": {},
     "output_type": "display_data"
    }
   ],
   "source": [
    "fig, ax = plt.subplots(figsize=(10, 5))\n",
    "window = 12\n",
    "\n",
    "colors = plt.rcParams['axes.prop_cycle'].by_key()['color']\n",
    "\n",
    "for column, color in zip(df_trends.columns, colors):\n",
    "    ax = df_trends[column].plot(ax=ax, lw=1, color=color, alpha=0.5);\n",
    "    avg = df_trends[column].rolling(window, center=True).mean()\n",
    "    std = df_trends[column].rolling(window, center=True).agg(pd.Series.std)\n",
    "    ax = avg.plot(ax=ax, lw=3, color=color, alpha=1);\n",
    "    ax = (avg + std).plot(ax=ax, lw=2, color=color, alpha=0.75, ls='--');\n",
    "    ax = (avg - std).plot(ax=ax, lw=2, color=color, alpha=0.75, ls='--');"
   ]
  },
  {
   "cell_type": "markdown",
   "metadata": {},
   "source": [
    "## (8.3) Resampling"
   ]
  },
  {
   "cell_type": "code",
   "execution_count": 107,
   "metadata": {},
   "outputs": [
    {
     "data": {
      "image/png": "[encoded data removed]",
      "text/plain": [
       "<Figure size 720x360 with 1 Axes>"
      ]
     },
     "metadata": {},
     "output_type": "display_data"
    }
   ],
   "source": [
    "ax = df_trends.resample('d').pad().plot(figsize=(10, 5))\n",
    "df_trends.resample('M').mean().plot(ax=ax);"
   ]
  },
  {
   "cell_type": "code",
   "execution_count": null,
   "metadata": {},
   "outputs": [],
   "source": []
  },
  {
   "cell_type": "code",
   "execution_count": null,
   "metadata": {},
   "outputs": [],
   "source": []
  },
  {
   "cell_type": "code",
   "execution_count": null,
   "metadata": {},
   "outputs": [],
   "source": []
  },
  {
   "cell_type": "code",
   "execution_count": null,
   "metadata": {},
   "outputs": [],
   "source": []
  },
  {
   "cell_type": "code",
   "execution_count": 108,
   "metadata": {},
   "outputs": [
    {
     "data": {
      "image/png": "[encoded data removed]",
      "text/plain": [
       "<Figure size 720x360 with 1 Axes>"
      ]
     },
     "metadata": {},
     "output_type": "display_data"
    }
   ],
   "source": [
    "fig, ax = plt.subplots(figsize=(10, 5))\n",
    "window = 12\n",
    "\n",
    "agg_func = lambda ser: ser.max() - ser.min()\n",
    "\n",
    "colors = plt.rcParams['axes.prop_cycle'].by_key()['color']\n",
    "\n",
    "for column, color in zip(df_trends.columns, colors):\n",
    "    ax = df_trends[column].plot(ax=ax, lw=1, color=color, alpha=0.5);\n",
    "    avg = df_trends[column].rolling(window, center=True).mean()\n",
    "    std = df_trends[column].rolling(window, center=True).agg(agg_func)\n",
    "    ax = avg.plot(ax=ax, lw=3, color=color, alpha=1);\n",
    "    ax = (avg + std).plot(ax=ax, lw=2, color=color, alpha=0.75, ls='--');\n",
    "    ax = (avg - std).plot(ax=ax, lw=2, color=color, alpha=0.75, ls='--');"
   ]
  },
  {
   "cell_type": "markdown",
   "metadata": {},
   "source": [
    "# (9) Modeling and Machine Learning"
   ]
  },
  {
   "cell_type": "code",
   "execution_count": 109,
   "metadata": {},
   "outputs": [],
   "source": [
    "pd.set_option('display.max_rows', 2**6)\n",
    "pd.set_option('display.max_columns', 2**6)"
   ]
  },
  {
   "cell_type": "markdown",
   "metadata": {},
   "source": [
    "## (9.1) Dummy variables for categorical data"
   ]
  },
  {
   "cell_type": "code",
   "execution_count": 110,
   "metadata": {},
   "outputs": [
    {
     "name": "stdout",
     "output_type": "stream",
     "text": [
      "Loaded data of size (5043, 6) into memory.\n"
     ]
    }
   ],
   "source": [
    "cols_to_use = ['movie_title', 'duration', 'genres', 'content_rating', 'budget', 'gross']\n",
    "df_model = pd.read_csv(r'data/movie_metadata.csv', sep=',', usecols=cols_to_use)\n",
    "print(f'Loaded data of size {df_model.shape} into memory.')"
   ]
  },
  {
   "cell_type": "code",
   "execution_count": 111,
   "metadata": {},
   "outputs": [
    {
     "data": {
      "text/plain": [
       "(3840, 6)"
      ]
     },
     "execution_count": 111,
     "metadata": {},
     "output_type": "execute_result"
    }
   ],
   "source": [
    "# Drop any row with missing information\n",
    "df_model = df_model.dropna(how='any')\n",
    "df_model.shape"
   ]
  },
  {
   "cell_type": "code",
   "execution_count": 112,
   "metadata": {},
   "outputs": [
    {
     "data": {
      "text/html": [
       "<div>\n",
       "<style scoped>\n",
       "    .dataframe tbody tr th:only-of-type {\n",
       "        vertical-align: middle;\n",
       "    }\n",
       "\n",
       "    .dataframe tbody tr th {\n",
       "        vertical-align: top;\n",
       "    }\n",
       "\n",
       "    .dataframe thead th {\n",
       "        text-align: right;\n",
       "    }\n",
       "</style>\n",
       "<table border=\"1\" class=\"dataframe\">\n",
       "  <thead>\n",
       "    <tr style=\"text-align: right;\">\n",
       "      <th></th>\n",
       "      <th>Approved</th>\n",
       "      <th>G</th>\n",
       "      <th>GP</th>\n",
       "      <th>M</th>\n",
       "      <th>NC-17</th>\n",
       "      <th>Not Rated</th>\n",
       "      <th>PG</th>\n",
       "      <th>PG-13</th>\n",
       "      <th>Passed</th>\n",
       "      <th>R</th>\n",
       "      <th>Unrated</th>\n",
       "      <th>X</th>\n",
       "    </tr>\n",
       "  </thead>\n",
       "  <tbody>\n",
       "    <tr>\n",
       "      <th>0</th>\n",
       "      <td>0</td>\n",
       "      <td>0</td>\n",
       "      <td>0</td>\n",
       "      <td>0</td>\n",
       "      <td>0</td>\n",
       "      <td>0</td>\n",
       "      <td>0</td>\n",
       "      <td>1</td>\n",
       "      <td>0</td>\n",
       "      <td>0</td>\n",
       "      <td>0</td>\n",
       "      <td>0</td>\n",
       "    </tr>\n",
       "    <tr>\n",
       "      <th>1</th>\n",
       "      <td>0</td>\n",
       "      <td>0</td>\n",
       "      <td>0</td>\n",
       "      <td>0</td>\n",
       "      <td>0</td>\n",
       "      <td>0</td>\n",
       "      <td>0</td>\n",
       "      <td>1</td>\n",
       "      <td>0</td>\n",
       "      <td>0</td>\n",
       "      <td>0</td>\n",
       "      <td>0</td>\n",
       "    </tr>\n",
       "  </tbody>\n",
       "</table>\n",
       "</div>"
      ],
      "text/plain": [
       "   Approved  G  GP  M  NC-17  Not Rated  PG  PG-13  Passed  R  Unrated  X\n",
       "0         0  0   0  0      0          0   0      1       0  0        0  0\n",
       "1         0  0   0  0      0          0   0      1       0  0        0  0"
      ]
     },
     "execution_count": 112,
     "metadata": {},
     "output_type": "execute_result"
    }
   ],
   "source": [
    "dummies = pd.get_dummies(df_model.content_rating)\n",
    "dummies.head(2)"
   ]
  },
  {
   "cell_type": "code",
   "execution_count": 113,
   "metadata": {},
   "outputs": [
    {
     "data": {
      "text/html": [
       "<div>\n",
       "<style scoped>\n",
       "    .dataframe tbody tr th:only-of-type {\n",
       "        vertical-align: middle;\n",
       "    }\n",
       "\n",
       "    .dataframe tbody tr th {\n",
       "        vertical-align: top;\n",
       "    }\n",
       "\n",
       "    .dataframe thead th {\n",
       "        text-align: right;\n",
       "    }\n",
       "</style>\n",
       "<table border=\"1\" class=\"dataframe\">\n",
       "  <thead>\n",
       "    <tr style=\"text-align: right;\">\n",
       "      <th></th>\n",
       "      <th>duration</th>\n",
       "      <th>gross</th>\n",
       "      <th>genres</th>\n",
       "      <th>movie_title</th>\n",
       "      <th>budget</th>\n",
       "      <th>Approved</th>\n",
       "      <th>G</th>\n",
       "      <th>GP</th>\n",
       "      <th>M</th>\n",
       "      <th>NC-17</th>\n",
       "      <th>Not Rated</th>\n",
       "      <th>PG</th>\n",
       "      <th>PG-13</th>\n",
       "      <th>Passed</th>\n",
       "      <th>R</th>\n",
       "      <th>Unrated</th>\n",
       "      <th>X</th>\n",
       "    </tr>\n",
       "  </thead>\n",
       "  <tbody>\n",
       "    <tr>\n",
       "      <th>0</th>\n",
       "      <td>178.0</td>\n",
       "      <td>760505847.0</td>\n",
       "      <td>Action|Adventure|Fantasy|Sci-Fi</td>\n",
       "      <td>Avatar</td>\n",
       "      <td>237000000.0</td>\n",
       "      <td>0</td>\n",
       "      <td>0</td>\n",
       "      <td>0</td>\n",
       "      <td>0</td>\n",
       "      <td>0</td>\n",
       "      <td>0</td>\n",
       "      <td>0</td>\n",
       "      <td>1</td>\n",
       "      <td>0</td>\n",
       "      <td>0</td>\n",
       "      <td>0</td>\n",
       "      <td>0</td>\n",
       "    </tr>\n",
       "    <tr>\n",
       "      <th>1</th>\n",
       "      <td>169.0</td>\n",
       "      <td>309404152.0</td>\n",
       "      <td>Action|Adventure|Fantasy</td>\n",
       "      <td>Pirates of the Caribbean: At World's End</td>\n",
       "      <td>300000000.0</td>\n",
       "      <td>0</td>\n",
       "      <td>0</td>\n",
       "      <td>0</td>\n",
       "      <td>0</td>\n",
       "      <td>0</td>\n",
       "      <td>0</td>\n",
       "      <td>0</td>\n",
       "      <td>1</td>\n",
       "      <td>0</td>\n",
       "      <td>0</td>\n",
       "      <td>0</td>\n",
       "      <td>0</td>\n",
       "    </tr>\n",
       "  </tbody>\n",
       "</table>\n",
       "</div>"
      ],
      "text/plain": [
       "   duration        gross                           genres  \\\n",
       "0     178.0  760505847.0  Action|Adventure|Fantasy|Sci-Fi   \n",
       "1     169.0  309404152.0         Action|Adventure|Fantasy   \n",
       "\n",
       "                                 movie_title       budget  Approved  G  GP  M  \\\n",
       "0                                    Avatar   237000000.0         0  0   0  0   \n",
       "1  Pirates of the Caribbean: At World's End   300000000.0         0  0   0  0   \n",
       "\n",
       "   NC-17  Not Rated  PG  PG-13  Passed  R  Unrated  X  \n",
       "0      0          0   0      1       0  0        0  0  \n",
       "1      0          0   0      1       0  0        0  0  "
      ]
     },
     "execution_count": 113,
     "metadata": {},
     "output_type": "execute_result"
    }
   ],
   "source": [
    "df_model = df_model.merge(dummies, how='left', left_index=True, right_index=True)\n",
    "df_model = df_model.drop(columns='content_rating', errors='ignore')\n",
    "df_model.head(2)"
   ]
  },
  {
   "cell_type": "markdown",
   "metadata": {},
   "source": [
    "-----------------\n",
    "\n",
    "A more advanced example follows."
   ]
  },
  {
   "cell_type": "code",
   "execution_count": 114,
   "metadata": {},
   "outputs": [],
   "source": [
    "from functools import reduce\n",
    "\n",
    "# Split the genres, take the union over every set to get every genre in the data set\n",
    "genres_sets = df_model.genres.str.split('|').apply(set)\n",
    "genres = reduce(set.union, genres_sets)"
   ]
  },
  {
   "cell_type": "code",
   "execution_count": 115,
   "metadata": {},
   "outputs": [],
   "source": [
    "# For every genre, add a dummy column\n",
    "for genre in genres:\n",
    "    df_model[genre] = np.where(df_model.genres.str.contains(genre), 1, 0)\n",
    "    \n",
    "df_model = df_model.drop(columns='genres', errors='ignore')"
   ]
  },
  {
   "cell_type": "code",
   "execution_count": 116,
   "metadata": {},
   "outputs": [
    {
     "data": {
      "text/html": [
       "<div>\n",
       "<style scoped>\n",
       "    .dataframe tbody tr th:only-of-type {\n",
       "        vertical-align: middle;\n",
       "    }\n",
       "\n",
       "    .dataframe tbody tr th {\n",
       "        vertical-align: top;\n",
       "    }\n",
       "\n",
       "    .dataframe thead th {\n",
       "        text-align: right;\n",
       "    }\n",
       "</style>\n",
       "<table border=\"1\" class=\"dataframe\">\n",
       "  <thead>\n",
       "    <tr style=\"text-align: right;\">\n",
       "      <th></th>\n",
       "      <th>duration</th>\n",
       "      <th>gross</th>\n",
       "      <th>movie_title</th>\n",
       "      <th>budget</th>\n",
       "      <th>Approved</th>\n",
       "      <th>G</th>\n",
       "      <th>GP</th>\n",
       "      <th>M</th>\n",
       "      <th>NC-17</th>\n",
       "      <th>Not Rated</th>\n",
       "      <th>PG</th>\n",
       "      <th>PG-13</th>\n",
       "      <th>Passed</th>\n",
       "      <th>R</th>\n",
       "      <th>Unrated</th>\n",
       "      <th>X</th>\n",
       "      <th>History</th>\n",
       "      <th>Action</th>\n",
       "      <th>Western</th>\n",
       "      <th>Documentary</th>\n",
       "      <th>Fantasy</th>\n",
       "      <th>Romance</th>\n",
       "      <th>Animation</th>\n",
       "      <th>Sport</th>\n",
       "      <th>Sci-Fi</th>\n",
       "      <th>Crime</th>\n",
       "      <th>Drama</th>\n",
       "      <th>Comedy</th>\n",
       "      <th>Mystery</th>\n",
       "      <th>Thriller</th>\n",
       "      <th>War</th>\n",
       "      <th>Family</th>\n",
       "      <th>Musical</th>\n",
       "      <th>Music</th>\n",
       "      <th>Adventure</th>\n",
       "      <th>Biography</th>\n",
       "      <th>Horror</th>\n",
       "      <th>Film-Noir</th>\n",
       "    </tr>\n",
       "  </thead>\n",
       "  <tbody>\n",
       "    <tr>\n",
       "      <th>0</th>\n",
       "      <td>178.0</td>\n",
       "      <td>760505847.0</td>\n",
       "      <td>Avatar</td>\n",
       "      <td>237000000.0</td>\n",
       "      <td>0</td>\n",
       "      <td>0</td>\n",
       "      <td>0</td>\n",
       "      <td>0</td>\n",
       "      <td>0</td>\n",
       "      <td>0</td>\n",
       "      <td>0</td>\n",
       "      <td>1</td>\n",
       "      <td>0</td>\n",
       "      <td>0</td>\n",
       "      <td>0</td>\n",
       "      <td>0</td>\n",
       "      <td>0</td>\n",
       "      <td>1</td>\n",
       "      <td>0</td>\n",
       "      <td>0</td>\n",
       "      <td>1</td>\n",
       "      <td>0</td>\n",
       "      <td>0</td>\n",
       "      <td>0</td>\n",
       "      <td>1</td>\n",
       "      <td>0</td>\n",
       "      <td>0</td>\n",
       "      <td>0</td>\n",
       "      <td>0</td>\n",
       "      <td>0</td>\n",
       "      <td>0</td>\n",
       "      <td>0</td>\n",
       "      <td>0</td>\n",
       "      <td>0</td>\n",
       "      <td>1</td>\n",
       "      <td>0</td>\n",
       "      <td>0</td>\n",
       "      <td>0</td>\n",
       "    </tr>\n",
       "    <tr>\n",
       "      <th>1</th>\n",
       "      <td>169.0</td>\n",
       "      <td>309404152.0</td>\n",
       "      <td>Pirates of the Caribbean: At World's End</td>\n",
       "      <td>300000000.0</td>\n",
       "      <td>0</td>\n",
       "      <td>0</td>\n",
       "      <td>0</td>\n",
       "      <td>0</td>\n",
       "      <td>0</td>\n",
       "      <td>0</td>\n",
       "      <td>0</td>\n",
       "      <td>1</td>\n",
       "      <td>0</td>\n",
       "      <td>0</td>\n",
       "      <td>0</td>\n",
       "      <td>0</td>\n",
       "      <td>0</td>\n",
       "      <td>1</td>\n",
       "      <td>0</td>\n",
       "      <td>0</td>\n",
       "      <td>1</td>\n",
       "      <td>0</td>\n",
       "      <td>0</td>\n",
       "      <td>0</td>\n",
       "      <td>0</td>\n",
       "      <td>0</td>\n",
       "      <td>0</td>\n",
       "      <td>0</td>\n",
       "      <td>0</td>\n",
       "      <td>0</td>\n",
       "      <td>0</td>\n",
       "      <td>0</td>\n",
       "      <td>0</td>\n",
       "      <td>0</td>\n",
       "      <td>1</td>\n",
       "      <td>0</td>\n",
       "      <td>0</td>\n",
       "      <td>0</td>\n",
       "    </tr>\n",
       "  </tbody>\n",
       "</table>\n",
       "</div>"
      ],
      "text/plain": [
       "   duration        gross                                movie_title  \\\n",
       "0     178.0  760505847.0                                    Avatar    \n",
       "1     169.0  309404152.0  Pirates of the Caribbean: At World's End    \n",
       "\n",
       "        budget  Approved  G  GP  M  NC-17  Not Rated  PG  PG-13  Passed  R  \\\n",
       "0  237000000.0         0  0   0  0      0          0   0      1       0  0   \n",
       "1  300000000.0         0  0   0  0      0          0   0      1       0  0   \n",
       "\n",
       "   Unrated  X  History  Action  Western  Documentary  Fantasy  Romance  \\\n",
       "0        0  0        0       1        0            0        1        0   \n",
       "1        0  0        0       1        0            0        1        0   \n",
       "\n",
       "   Animation  Sport  Sci-Fi  Crime  Drama  Comedy  Mystery  Thriller  War  \\\n",
       "0          0      0       1      0      0       0        0         0    0   \n",
       "1          0      0       0      0      0       0        0         0    0   \n",
       "\n",
       "   Family  Musical  Music  Adventure  Biography  Horror  Film-Noir  \n",
       "0       0        0      0          1          0       0          0  \n",
       "1       0        0      0          1          0       0          0  "
      ]
     },
     "execution_count": 116,
     "metadata": {},
     "output_type": "execute_result"
    }
   ],
   "source": [
    "df_model.head(2)"
   ]
  },
  {
   "cell_type": "markdown",
   "metadata": {},
   "source": [
    "## (9.2) Training a model"
   ]
  },
  {
   "cell_type": "code",
   "execution_count": 117,
   "metadata": {},
   "outputs": [],
   "source": [
    "from sklearn.linear_model import LinearRegression\n",
    "from sklearn.model_selection import train_test_split"
   ]
  },
  {
   "cell_type": "code",
   "execution_count": 118,
   "metadata": {},
   "outputs": [],
   "source": [
    "df_model['gross_log'] = df_model['gross'].apply(np.log1p)\n",
    "df_model['budget_log'] = df_model['budget'].apply(np.log1p)"
   ]
  },
  {
   "cell_type": "code",
   "execution_count": 119,
   "metadata": {},
   "outputs": [],
   "source": [
    "linreg = LinearRegression()\n",
    "X = df_model.drop(columns=['movie_title', 'gross', 'budget', 'gross_log']).values\n",
    "y = df_model.gross_log.values\n",
    "\n",
    "X_train, X_test, y_train, y_test = train_test_split(X, y, test_size=0.2, random_state=123)"
   ]
  },
  {
   "cell_type": "code",
   "execution_count": null,
   "metadata": {},
   "outputs": [],
   "source": [
    "linreg.fit(X_train, y_train)"
   ]
  },
  {
   "cell_type": "code",
   "execution_count": null,
   "metadata": {},
   "outputs": [],
   "source": [
    "y_pred = linreg.predict(X_test)"
   ]
  },
  {
   "cell_type": "code",
   "execution_count": null,
   "metadata": {},
   "outputs": [],
   "source": [
    "pd.Series(y_test.mean() - y_test).abs().mean()"
   ]
  },
  {
   "cell_type": "code",
   "execution_count": null,
   "metadata": {},
   "outputs": [],
   "source": [
    "pd.Series(y_pred - y_test).abs().mean()"
   ]
  },
  {
   "cell_type": "code",
   "execution_count": null,
   "metadata": {},
   "outputs": [],
   "source": [
    "pd.Series(y_test.mean() - y_test).plot(figsize=(10, 5))"
   ]
  },
  {
   "cell_type": "code",
   "execution_count": null,
   "metadata": {},
   "outputs": [],
   "source": [
    "pd.Series(y_pred - y_test).plot(figsize=(10, 5))"
   ]
  },
  {
   "cell_type": "markdown",
   "metadata": {},
   "source": [
    "# (10) Misc tips and tricks"
   ]
  },
  {
   "cell_type": "markdown",
   "metadata": {},
   "source": [
    "## (10.1) Performance"
   ]
  },
  {
   "cell_type": "markdown",
   "metadata": {},
   "source": [
    " ### Finding the n-largest"
   ]
  },
  {
   "cell_type": "markdown",
   "metadata": {},
   "source": [
    "There might exists built in methods which are optimal for your use case. Finding the maximum is an $\\mathcal{O}(n)$ operation, while sorting is $\\mathcal{O}(n \\log n)$. Finding the top $k$ rows can be done in $\\mathcal{O}(k + n \\log k)$ time."
   ]
  },
  {
   "cell_type": "code",
   "execution_count": null,
   "metadata": {},
   "outputs": [],
   "source": [
    "# Create a series with a million entries\n",
    "ser = pd.Series(np.random.randn(1000000))"
   ]
  },
  {
   "cell_type": "code",
   "execution_count": null,
   "metadata": {},
   "outputs": [],
   "source": [
    "(ser.nlargest(50) == ser.sort_values(ascending=False).head(50)).all()"
   ]
  },
  {
   "cell_type": "code",
   "execution_count": null,
   "metadata": {},
   "outputs": [],
   "source": [
    "%%timeit\n",
    "\n",
    "ser.max()"
   ]
  },
  {
   "cell_type": "code",
   "execution_count": null,
   "metadata": {},
   "outputs": [],
   "source": [
    "%%timeit\n",
    "\n",
    "ser.nlargest(50)"
   ]
  },
  {
   "cell_type": "code",
   "execution_count": null,
   "metadata": {},
   "outputs": [],
   "source": [
    "%%timeit\n",
    "\n",
    "ser.sort_values(ascending=False).head(50)"
   ]
  },
  {
   "cell_type": "markdown",
   "metadata": {},
   "source": [
    "### Filter *before* computing\n",
    "\n",
    "It's generally better to apply filters *before* computations, especially if the computations are expensive."
   ]
  },
  {
   "cell_type": "code",
   "execution_count": null,
   "metadata": {},
   "outputs": [],
   "source": [
    "%%timeit\n",
    "\n",
    "df.mean().imdb_score"
   ]
  },
  {
   "cell_type": "code",
   "execution_count": null,
   "metadata": {},
   "outputs": [],
   "source": [
    "%%timeit\n",
    "\n",
    "df.imdb_score.mean()"
   ]
  },
  {
   "cell_type": "markdown",
   "metadata": {},
   "source": [
    "-----------------"
   ]
  },
  {
   "cell_type": "code",
   "execution_count": null,
   "metadata": {},
   "outputs": [],
   "source": [
    "df = df.sort_values('gross').dropna(how='any')\n",
    "temp = df.set_index('director_name').sort_index()"
   ]
  },
  {
   "cell_type": "code",
   "execution_count": null,
   "metadata": {},
   "outputs": [],
   "source": [
    "%%timeit\n",
    "\n",
    "temp.loc[lambda df:df.index > 'o', :]"
   ]
  },
  {
   "cell_type": "code",
   "execution_count": null,
   "metadata": {},
   "outputs": [],
   "source": [
    "%%timeit\n",
    "\n",
    "df.loc[lambda df:df.director_name > 'o', :]"
   ]
  },
  {
   "cell_type": "code",
   "execution_count": null,
   "metadata": {},
   "outputs": [],
   "source": [
    "%%timeit\n",
    "\n",
    "temp.loc[slice('o', None), :]"
   ]
  },
  {
   "cell_type": "code",
   "execution_count": null,
   "metadata": {},
   "outputs": [],
   "source": [
    "temp.index.dropna().is_monotonic"
   ]
  },
  {
   "cell_type": "markdown",
   "metadata": {},
   "source": [
    "### Vectorize everything (if you can)"
   ]
  },
  {
   "cell_type": "code",
   "execution_count": null,
   "metadata": {},
   "outputs": [],
   "source": [
    "import math\n",
    "\n",
    "temp = df.gross.dropna()"
   ]
  },
  {
   "cell_type": "code",
   "execution_count": null,
   "metadata": {},
   "outputs": [],
   "source": [
    "%%timeit\n",
    "\n",
    "temp.map(math.log)"
   ]
  },
  {
   "cell_type": "code",
   "execution_count": null,
   "metadata": {},
   "outputs": [],
   "source": [
    "%%timeit\n",
    "\n",
    "temp.apply(np.log)"
   ]
  },
  {
   "cell_type": "markdown",
   "metadata": {},
   "source": [
    "### Another vectorization example"
   ]
  },
  {
   "cell_type": "code",
   "execution_count": null,
   "metadata": {},
   "outputs": [],
   "source": [
    "import statistics\n",
    "\n",
    "vector = np.arange(1000000)"
   ]
  },
  {
   "cell_type": "code",
   "execution_count": null,
   "metadata": {},
   "outputs": [],
   "source": [
    "%%timeit\n",
    "\n",
    "np.mean(vector[1:] - vector[:-1])"
   ]
  },
  {
   "cell_type": "code",
   "execution_count": null,
   "metadata": {},
   "outputs": [],
   "source": [
    "vector = list(vector)"
   ]
  },
  {
   "cell_type": "code",
   "execution_count": null,
   "metadata": {},
   "outputs": [],
   "source": [
    "%%timeit\n",
    "\n",
    "statistics.mean((i - j for (i, j) in zip(vector[1:], vector[:-1])))"
   ]
  },
  {
   "cell_type": "markdown",
   "metadata": {},
   "source": [
    "----------------"
   ]
  },
  {
   "cell_type": "code",
   "execution_count": null,
   "metadata": {},
   "outputs": [],
   "source": [
    "df_countries = df.country.sample(5_000_000, replace=True).to_frame().reset_index(drop=True)\n",
    "df_countries.head(3)"
   ]
  },
  {
   "cell_type": "code",
   "execution_count": null,
   "metadata": {},
   "outputs": [],
   "source": [
    "%%timeit\n",
    "\n",
    "df_countries.assign(USA=lambda df:np.where(df.country == 'USA', 1, 0))"
   ]
  },
  {
   "cell_type": "code",
   "execution_count": null,
   "metadata": {},
   "outputs": [],
   "source": [
    "%%timeit\n",
    "\n",
    "def is_USA(string):\n",
    "    if string == 'USA':\n",
    "        return 1\n",
    "    return 0\n",
    "\n",
    "df_countries.assign(USA=lambda df:df.country.apply(is_USA))"
   ]
  },
  {
   "cell_type": "markdown",
   "metadata": {},
   "source": [
    "# (11) Problems and answers"
   ]
  },
  {
   "cell_type": "code",
   "execution_count": null,
   "metadata": {},
   "outputs": [],
   "source": []
  },
  {
   "cell_type": "markdown",
   "metadata": {},
   "source": [
    "# References\n",
    "\n",
    "- [Official Pandas Documentation](https://pandas.pydata.org/pandas-docs/stable/index.html)\n",
    "- Videos at [awesome-pandas](https://github.com/tommyod/awesome-pandas), especially"
   ]
  },
  {
   "cell_type": "code",
   "execution_count": null,
   "metadata": {},
   "outputs": [],
   "source": []
  }
 ],
 "metadata": {
  "kernelspec": {
   "display_name": "Python 3",
   "language": "python",
   "name": "python3"
  },
  "language_info": {
   "codemirror_mode": {
    "name": "ipython",
    "version": 3
   },
   "file_extension": ".py",
   "mimetype": "text/x-python",
   "name": "python",
   "nbconvert_exporter": "python",
   "pygments_lexer": "ipython3",
   "version": "3.6.6"
  }
 },
 "nbformat": 4,
 "nbformat_minor": 2
}
