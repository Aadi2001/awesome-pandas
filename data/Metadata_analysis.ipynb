{
 "cells": [
  {
   "cell_type": "markdown",
   "metadata": {},
   "source": [
    "# Metadata analysis"
   ]
  },
  {
   "cell_type": "code",
   "execution_count": 1,
   "metadata": {},
   "outputs": [],
   "source": [
    "import pandas as pd\n",
    "import numpy as np\n",
    "import bs4\n",
    "import requests\n",
    "import string\n",
    "%matplotlib inline"
   ]
  },
  {
   "cell_type": "code",
   "execution_count": 2,
   "metadata": {},
   "outputs": [],
   "source": [
    "def int_str(a_string):\n",
    "    try:\n",
    "        return int(a_string)\n",
    "    except:\n",
    "        return 0\n",
    "\n",
    "def info_from_youtube(youtube_video_url):\n",
    "    \"\"\"\n",
    "    Retrieve information from a YouTube url.\"\"\"\n",
    "    try:\n",
    "        soup = bs4.BeautifulSoup(requests.get(youtube_video_url).text, 'lxml')\n",
    "        title = soup.title.text.strip()\n",
    "        views_text = soup.find('div', attrs = {'class':'watch-view-count'}).text\n",
    "        views = int_str(''.join([c for c in views_text if c in string.digits]))\n",
    "        published_text = soup.find('strong', attrs = {'class':'watch-time-text'}).text\n",
    "        published = int_str(''.join([c for c in published_text[-4:] if c in string.digits]))\n",
    "        publisher = soup.find('div', attrs = {'class':'yt-user-info'}).text.strip('\\n')\n",
    "        num_likes_text = soup.find('button', attrs = {'class':'like-button-renderer-like-button'}).text\n",
    "        num_likes = int_str(''.join([c for c in num_likes_text if c in string.digits]))\n",
    "        percentage_likes_text = soup.find('div', attrs = {'class':'video-extras-sparkbar-likes'})['style']\n",
    "        percentage_likes = float(''.join([c for c in percentage_likes_text if c in string.digits + '.']))\n",
    "\n",
    "        return {'url':youtube_video_url.strip(), \n",
    "                'title':title, \n",
    "                'views':views, \n",
    "                'published_yr':published, \n",
    "                'publisher':publisher,\n",
    "                'num_likes':num_likes, \n",
    "                'percentage_likes':percentage_likes}\n",
    "    except:\n",
    "        return None"
   ]
  },
  {
   "cell_type": "code",
   "execution_count": 3,
   "metadata": {},
   "outputs": [],
   "source": [
    "urls = [\n",
    "'https://www.youtube.com/watch?v=OB1reY6IX-o',\n",
    "'https://www.youtube.com/watch?v=80fZrVMurPM',\n",
    "'https://www.youtube.com/watch?v=gtejJ3RCddE',\n",
    "'https://www.youtube.com/watch?v=Ejh0ftSjk6g',\n",
    "'https://www.youtube.com/watch?v=ZgHGCfwExw0',\n",
    "'https://www.youtube.com/watch?v=6ohWS7J1hVA',\n",
    "'https://www.youtube.com/watch?v=MKucn8NtVeI',\n",
    "'https://www.youtube.com/watch?v=He9MCbs1wgE',\n",
    "'https://www.youtube.com/watch?v=XbxIo7ScVzc',\n",
    "'https://www.youtube.com/watch?v=EKUy0TSLg04',\n",
    "'https://www.youtube.com/watch?v=2kT6QOVSgSg',\n",
    "'https://www.youtube.com/watch?v=lKcwuPnSHIQ',\n",
    "'https://www.youtube.com/watch?v=5Md_sSsN51k',\n",
    "'https://www.youtube.com/watch?v=-lXfsWP7DJ8',\n",
    "'https://www.youtube.com/watch?v=v5mrwq7yJc4',\n",
    "'https://www.youtube.com/watch?v=p7Mj-4kASmI',\n",
    "'https://www.youtube.com/watch?v=1AwG0T4gaO0',\n",
    "'https://www.youtube.com/watch?v=8Jktm-Imt-I',\n",
    "'https://www.youtube.com/watch?v=rARMKS8jE9g',\n",
    "'https://www.youtube.com/watch?v=38R7jiCspkw',\n",
    "'https://www.youtube.com/watch?v=HN5d490_KKk',\n",
    "'https://www.youtube.com/watch?v=xn9sTXR3Cp8',\n",
    "'https://www.youtube.com/watch?v=RA_2qdipVng',\n",
    "'https://www.youtube.com/watch?v=zmfe2RaX-14',\n",
    "'https://www.youtube.com/watch?v=TMmSESkhRtI',\n",
    "'https://www.youtube.com/watch?v=W5WE9Db2RLU',\n",
    "'https://www.youtube.com/watch?v=FytuB8nFHPQ',\n",
    "'https://www.youtube.com/watch?v=u682UpVrMVM',\n",
    "'https://www.youtube.com/watch?v=E92jDCmJNek',\n",
    "'https://www.youtube.com/watch?v=ThS4juptJjQ',\n",
    "'https://www.youtube.com/watch?v=gSVvxOchT8Y',\n",
    "'https://www.youtube.com/watch?v=tJ-O3hk1vRw',\n",
    "'https://www.youtube.com/watch?v=HC0J_SPm9co',\n",
    "'https://www.youtube.com/watch?v=ZIEyHdvF474',\n",
    "'https://www.youtube.com/watch?v=9fOWryQq9J8',\n",
    "'https://www.youtube.com/watch?v=E9XTOnEgqRY',\n",
    "'https://www.youtube.com/watch?v=GMKZD1Ohlzk',\n",
    "'https://www.youtube.com/watch?v=dye7rDktJ2E',\n",
    "'https://www.youtube.com/watch?v=39vJRxIPSxw',\n",
    "'https://www.youtube.com/watch?v=rIofV14c0tc',\n",
    "'https://www.youtube.com/watch?v=cKPlPJyQrt4',\n",
    "'https://www.youtube.com/watch?v=bvHgESVuS6Q',\n",
    "'https://www.youtube.com/watch?v=k7hSD_-gWMw',\n",
    "'https://www.youtube.com/watch?v=YkVscKsV_qk',\n",
    "'https://www.youtube.com/watch?v=aXR2d9k9-h4',\n",
    "'https://www.youtube.com/watch?v=XJOt4QQgx0A',\n",
    "'https://www.youtube.com/watch?v=HTLu2DFOdTg',\n",
    "'https://www.youtube.com/watch?v=Ta1bAMOMFOI',\n",
    "'https://www.youtube.com/watch?v=jKBwGlYb13w',\n",
    "'https://www.youtube.com/watch?v=u2KZJzoz-qI',\n",
    "'https://www.youtube.com/watch?v=OSGv2VnC0go',\n",
    "'https://www.youtube.com/watch?v=9zinZmE3Ogk',\n",
    "'https://www.youtube.com/watch?v=p33CVV29OG8',\n",
    "'https://www.youtube.com/watch?v=9zinZmE3Ogk',\n",
    "'https://www.youtube.com/watch?v=p33CVV29OG8',\n",
    "'https://www.youtube.com/watch?v=voXVTjwnn-U',\n",
    "'https://www.youtube.com/watch?v=9zinZmE3Ogk',\n",
    "'https://www.youtube.com/watch?v=_Ek3A2b-nHU',\n",
    "'https://www.youtube.com/watch?v=zhpWhkW8kcc',\n",
    "'https://www.youtube.com/watch?v=Dgnp28Ijm_M',\n",
    "'https://www.youtube.com/watch?v=7i6kBz1kZ-A',\n",
    "'https://www.youtube.com/watch?v=g-YCaX3ml2Q',\n",
    "'https://www.youtube.com/watch?v=rfdzOZkDqYk',\n",
    "'https://www.youtube.com/watch?v=5-qadlG7tWo',\n",
    "'https://www.youtube.com/watch?v=j6VSAsKAj98',\n",
    "'https://www.youtube.com/watch?v=js_0wjzuMfc',\n",
    "'https://www.youtube.com/watch?v=Z_OAlIhXziw',\n",
    "'https://www.youtube.com/watch?v=Bm96RqNGbGo',\n",
    "'https://www.youtube.com/watch?v=x1ndXuw7S0s',\n",
    "'https://www.youtube.com/watch?v=2AXuhgid7E4',\n",
    "'https://www.youtube.com/watch?v=5JnMutdy6Fw',\n",
    "'https://www.youtube.com/watch?v=9d5-Ti6onew',\n",
    "'https://www.youtube.com/watch?v=CowlcrtSyME',\n",
    "'https://www.youtube.com/watch?v=YGk09nK_xnM',\n",
    "'https://www.youtube.com/watch?v=5XGycFIe8qE',\n",
    "'https://www.youtube.com/watch?v=-NR-ynQg0YM',\n",
    "'https://www.youtube.com/watch?v=oGzU688xCUs',\n",
    "'https://www.youtube.com/watch?v=R2rCYf3pv-M',\n",
    "'https://www.youtube.com/watch?v=vl9La7wH7QI',\n",
    "'https://www.youtube.com/watch?v=Vs7tdobwj1k',\n",
    "'https://www.youtube.com/watch?v=C6ni_WoMXhU',\n",
    "'https://www.youtube.com/watch?v=sunNXIxIGV8',\n",
    "'https://www.youtube.com/watch?v=I9NeF9oAmbg',\n",
    "'https://www.youtube.com/watch?v=0eYOhEF_aK0',\n",
    "'https://www.youtube.com/watch?v=B4Hu_7_XBDM',\n",
    "'https://www.youtube.com/watch?v=YrnHdgZ8n1U',\n",
    "'https://www.youtube.com/watch?v=Cz_u2If7KbI',\n",
    "'https://www.youtube.com/watch?v=mkQzl2v7BuI',\n",
    "'https://www.youtube.com/watch?v=gS7kVg-4ZaU',\n",
    "]\n",
    "urls = list(set(urls))"
   ]
  },
  {
   "cell_type": "code",
   "execution_count": 4,
   "metadata": {},
   "outputs": [
    {
     "name": "stdout",
     "output_type": "stream",
     "text": [
      "Error with: https://www.youtube.com/watch?v=5-qadlG7tWo\n"
     ]
    }
   ],
   "source": [
    "# Parse the URLS\n",
    "data_inn = []\n",
    "for url in urls:\n",
    "    info = info_from_youtube(url)\n",
    "    if info:\n",
    "        data_inn.append(info)\n",
    "    else:\n",
    "        print('Error with:', url)"
   ]
  },
  {
   "cell_type": "code",
   "execution_count": 5,
   "metadata": {},
   "outputs": [
    {
     "data": {
      "text/html": [
       "<div>\n",
       "<style scoped>\n",
       "    .dataframe tbody tr th:only-of-type {\n",
       "        vertical-align: middle;\n",
       "    }\n",
       "\n",
       "    .dataframe tbody tr th {\n",
       "        vertical-align: top;\n",
       "    }\n",
       "\n",
       "    .dataframe thead th {\n",
       "        text-align: right;\n",
       "    }\n",
       "</style>\n",
       "<table border=\"1\" class=\"dataframe\">\n",
       "  <thead>\n",
       "    <tr style=\"text-align: right;\">\n",
       "      <th></th>\n",
       "      <th>num_likes</th>\n",
       "      <th>percentage_likes</th>\n",
       "      <th>published_yr</th>\n",
       "      <th>publisher</th>\n",
       "      <th>title</th>\n",
       "      <th>url</th>\n",
       "      <th>views</th>\n",
       "    </tr>\n",
       "  </thead>\n",
       "  <tbody>\n",
       "    <tr>\n",
       "      <th>0</th>\n",
       "      <td>1168</td>\n",
       "      <td>98.983051</td>\n",
       "      <td>2013</td>\n",
       "      <td>Next Day Video</td>\n",
       "      <td>Python's Class Development Toolkit - YouTube</td>\n",
       "      <td>https://www.youtube.com/watch?v=HTLu2DFOdTg</td>\n",
       "      <td>79848</td>\n",
       "    </tr>\n",
       "    <tr>\n",
       "      <th>1</th>\n",
       "      <td>120</td>\n",
       "      <td>98.360656</td>\n",
       "      <td>2016</td>\n",
       "      <td>PyData</td>\n",
       "      <td>Sebastian Raschka | Learning scikit learn - An...</td>\n",
       "      <td>https://www.youtube.com/watch?v=9fOWryQq9J8</td>\n",
       "      <td>11883</td>\n",
       "    </tr>\n",
       "    <tr>\n",
       "      <th>2</th>\n",
       "      <td>1</td>\n",
       "      <td>25.000000</td>\n",
       "      <td>2016</td>\n",
       "      <td>SF Python</td>\n",
       "      <td>Dillon Niederhut, \"What to do when your data i...</td>\n",
       "      <td>https://www.youtube.com/watch?v=g-YCaX3ml2Q</td>\n",
       "      <td>485</td>\n",
       "    </tr>\n",
       "  </tbody>\n",
       "</table>\n",
       "</div>"
      ],
      "text/plain": [
       "   num_likes  percentage_likes  published_yr       publisher  \\\n",
       "0       1168         98.983051          2013  Next Day Video   \n",
       "1        120         98.360656          2016          PyData   \n",
       "2          1         25.000000          2016       SF Python   \n",
       "\n",
       "                                               title  \\\n",
       "0       Python's Class Development Toolkit - YouTube   \n",
       "1  Sebastian Raschka | Learning scikit learn - An...   \n",
       "2  Dillon Niederhut, \"What to do when your data i...   \n",
       "\n",
       "                                           url  views  \n",
       "0  https://www.youtube.com/watch?v=HTLu2DFOdTg  79848  \n",
       "1  https://www.youtube.com/watch?v=9fOWryQq9J8  11883  \n",
       "2  https://www.youtube.com/watch?v=g-YCaX3ml2Q    485  "
      ]
     },
     "execution_count": 5,
     "metadata": {},
     "output_type": "execute_result"
    }
   ],
   "source": [
    "df = pd.DataFrame(data_inn)\n",
    "df.head(3)"
   ]
  },
  {
   "cell_type": "code",
   "execution_count": 6,
   "metadata": {},
   "outputs": [],
   "source": [
    "def rating_func(df):\n",
    "    \"\"\"\n",
    "    A rating heuristic.\n",
    "    \"\"\"\n",
    "    num_likes, percentage_likes = df.num_likes, df.percentage_likes\n",
    "    views, published_yr =  df.views/10, df.published_yr\n",
    "    a, b = num_likes*percentage_likes, np.log(views)\n",
    "    age = abs(2018 - df.published_yr)\n",
    "    return (a*b / (a + b)) - age**0.8\n",
    "\n",
    "df = df.assign(rating = rating_func)"
   ]
  },
  {
   "cell_type": "code",
   "execution_count": 7,
   "metadata": {},
   "outputs": [
    {
     "data": {
      "text/plain": [
       "85"
      ]
     },
     "execution_count": 7,
     "metadata": {},
     "output_type": "execute_result"
    }
   ],
   "source": [
    "len(df)"
   ]
  },
  {
   "cell_type": "code",
   "execution_count": 10,
   "metadata": {},
   "outputs": [
    {
     "name": "stdout",
     "output_type": "stream",
     "text": [
      "| [EuroSciPy 2017: Advanced Pandas - YouTube](https://www.youtube.com/watch?v=gS7kVg-4ZaU) | NAME | EuroSciPy | DURATION | 0 | None | 2017 | Novice |\n",
      "| [EuroSciPy 2017: Cython - YouTube](https://www.youtube.com/watch?v=vl9La7wH7QI) | NAME | EuroSciPy | DURATION | 0 | None | 2017 | Novice |\n",
      "| [EuroSciPy 2017: Git - YouTube](https://www.youtube.com/watch?v=mkQzl2v7BuI) | NAME | EuroSciPy | DURATION | 0 | None | 2017 | Novice |\n",
      "| [EuroSciPy 2017: Matplotlib - YouTube](https://www.youtube.com/watch?v=YrnHdgZ8n1U) | NAME | EuroSciPy | DURATION | 0 | None | 2017 | Novice |\n",
      "| [EuroSciPy 2017: NumPy (1/2) - YouTube](https://www.youtube.com/watch?v=R2rCYf3pv-M) | NAME | EuroSciPy | DURATION | 0 | None | 2017 | Novice |\n",
      "| [EuroSciPy 2017: NumPy (2/2) - YouTube](https://www.youtube.com/watch?v=sunNXIxIGV8) | NAME | EuroSciPy | DURATION | 0 | None | 2017 | Novice |\n",
      "| [EuroSciPy 2017: Pandas - YouTube](https://www.youtube.com/watch?v=Cz_u2If7KbI) | NAME | EuroSciPy | DURATION | 0 | None | 2017 | Novice |\n",
      "| [EuroSciPy 2017: Python (1/2) - YouTube](https://www.youtube.com/watch?v=I9NeF9oAmbg) | NAME | EuroSciPy | DURATION | 0 | None | 2017 | Novice |\n",
      "| [EuroSciPy 2017: Python (2/2) - YouTube](https://www.youtube.com/watch?v=B4Hu_7_XBDM) | NAME | EuroSciPy | DURATION | 0 | None | 2017 | Novice |\n",
      "| [EuroSciPy 2017: SciPy - YouTube](https://www.youtube.com/watch?v=C6ni_WoMXhU) | NAME | EuroSciPy | DURATION | 0 | None | 2017 | Novice |\n",
      "| [EuroSciPy 2017: Scikit-learn (1/2) - YouTube](https://www.youtube.com/watch?v=Vs7tdobwj1k) | NAME | EuroSciPy | DURATION | 0 | None | 2017 | Novice |\n",
      "| [EuroSciPy 2017: Scikit-learn (2/2) - YouTube](https://www.youtube.com/watch?v=0eYOhEF_aK0) | NAME | EuroSciPy | DURATION | 0 | None | 2017 | Novice |\n"
     ]
    }
   ],
   "source": [
    "temp = df.sort_values(['rating'], ascending = False).drop_duplicates()\n",
    "temp = temp[temp.publisher == 'EuroSciPy'].sort_values('title')\n",
    "\n",
    "for i in range(len(temp)):\n",
    "    values_dict = temp.iloc[i, :].to_dict()\n",
    "    string = '| [{Title}]({url}) | {Speaker} | {Uploader} | {Duration} | {Views} | {Keywords} | {Year} | {Level} |'\n",
    "    print(string.format(\n",
    "        Title = values_dict['title'].replace('|',' '), \n",
    "        Speaker = 'NAME', \n",
    "        Uploader = values_dict['publisher'],\n",
    "        Duration = 'DURATION', \n",
    "        Views = int(round(values_dict['views']/1000)*1000), \n",
    "        Keywords = 'None', \n",
    "        Year = values_dict['published_yr'],\n",
    "        url = values_dict['url'],\n",
    "        Level = 'Novice'))"
   ]
  },
  {
   "cell_type": "code",
   "execution_count": 9,
   "metadata": {},
   "outputs": [
    {
     "data": {
      "text/plain": [
       "<matplotlib.axes._subplots.AxesSubplot at 0x7f928bdbf748>"
      ]
     },
     "execution_count": 9,
     "metadata": {},
     "output_type": "execute_result"
    },
    {
     "data": {
      "image/png": "[encoded data removed]",
      "text/plain": [
       "<matplotlib.figure.Figure at 0x7f928d24c3c8>"
      ]
     },
     "metadata": {},
     "output_type": "display_data"
    }
   ],
   "source": [
    "df.sort_values(['rating'], ascending = False).rating.hist(bins = 25)"
   ]
  },
  {
   "cell_type": "code",
   "execution_count": null,
   "metadata": {},
   "outputs": [],
   "source": [
    "[1](http://tomaugspurger.github.io/modern-1-intro.html)\n",
    "[2](http://tomaugspurger.github.io/method-chaining.html)\n",
    "[3](http://tomaugspurger.github.io/modern-3-indexes.html)\n",
    "[4](http://tomaugspurger.github.io/modern-4-performance.html)\n",
    "[5](http://tomaugspurger.github.io/modern-5-tidy.html)\n",
    "[6](http://tomaugspurger.github.io/modern-6-visualization.html)\n",
    "[7](http://tomaugspurger.github.io/modern-7-timeseries.html)"
   ]
  }
 ],
 "metadata": {
  "kernelspec": {
   "display_name": "Python 3",
   "language": "python",
   "name": "python3"
  },
  "language_info": {
   "codemirror_mode": {
    "name": "ipython",
    "version": 3
   },
   "file_extension": ".py",
   "mimetype": "text/x-python",
   "name": "python",
   "nbconvert_exporter": "python",
   "pygments_lexer": "ipython3",
   "version": "3.6.4"
  }
 },
 "nbformat": 4,
 "nbformat_minor": 2
}
